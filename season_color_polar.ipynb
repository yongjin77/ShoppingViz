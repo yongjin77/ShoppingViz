{
 "cells": [
  {
   "cell_type": "code",
   "outputs": [],
   "source": [
    "import plotly.graph_objects as go\n",
    "import pandas as pd"
   ],
   "metadata": {
    "collapsed": false,
    "ExecuteTime": {
     "end_time": "2024-12-05T03:08:57.315153Z",
     "start_time": "2024-12-05T03:08:57.313084Z"
    }
   },
   "id": "6ea6694331fbd19d",
   "execution_count": 12
  },
  {
   "cell_type": "code",
   "outputs": [],
   "source": [
    "df = pd.read_csv(\"shopping_behavior_updated.csv\")"
   ],
   "metadata": {
    "collapsed": false,
    "ExecuteTime": {
     "end_time": "2024-12-05T03:08:57.330649Z",
     "start_time": "2024-12-05T03:08:57.318144Z"
    }
   },
   "id": "37a2d59476329878",
   "execution_count": 13
  },
  {
   "cell_type": "code",
   "outputs": [],
   "source": [
    "season_color_counts = df.groupby(['Season', 'Color']).size().reset_index(name='count')\n",
    "\n",
    "# colormap with rgba, hex not work\n",
    "color_map = {\n",
    "    'Gray': 'rgba(128,128,128,0.7)',\n",
    "    'Maroon': 'rgba(128,0,0,0.7)',\n",
    "    'Turquoise': 'rgba(64,224,208,0.7)',\n",
    "    'White': 'rgba(255,255,255,0.7)',\n",
    "    'Charcoal': 'rgba(54,69,79,0.7)',\n",
    "    'Silver': 'rgba(192,192,192,0.7)',\n",
    "    'Pink': 'rgba(255,192,203,0.7)',\n",
    "    'Purple': 'rgba(128,0,128,0.7)',\n",
    "    'Olive': 'rgba(128,128,0,0.7)',\n",
    "    'Gold': 'rgba(255,215,0,0.7)',\n",
    "    'Violet': 'rgba(238,130,238,0.7)',\n",
    "    'Teal': 'rgba(0,128,128,0.7)',\n",
    "    'Lavender': 'rgba(230,230,250,0.7)',\n",
    "    'Black': 'rgba(0,0,0,0.7)',\n",
    "    'Green': 'rgba(0,128,0,0.7)',\n",
    "    'Peach': 'rgba(255,218,185,0.7)',\n",
    "    'Red': 'rgba(255,0,0,0.7)',\n",
    "    'Cyan': 'rgba(0,255,255,0.7)',\n",
    "    'Brown': 'rgba(165,42,42,0.7)',\n",
    "    'Beige': 'rgba(245,245,220,0.7)',\n",
    "    'Orange': 'rgba(255,165,0,0.7)',\n",
    "    'Indigo': 'rgba(75,0,130,0.7)',\n",
    "    'Yellow': 'rgba(255,255,0,0.7)',\n",
    "    'Magenta': 'rgba(255,0,255,0.7)'\n",
    "}\n"
   ],
   "metadata": {
    "collapsed": false,
    "ExecuteTime": {
     "end_time": "2024-12-05T03:08:57.336343Z",
     "start_time": "2024-12-05T03:08:57.332565Z"
    }
   },
   "id": "e5c7df6523ccd8bc",
   "execution_count": 14
  },
  {
   "cell_type": "code",
   "outputs": [
    {
     "data": {
      "application/vnd.plotly.v1+json": {
       "data": [
        {
         "fill": "toself",
         "line": {
          "color": "rgba(128,128,128,0.7)"
         },
         "name": "Gray",
         "r": [
          27,
          48,
          40,
          44,
          27
         ],
         "theta": [
          "Winter",
          "Spring",
          "Summer",
          "Fall",
          "Winter"
         ],
         "type": "scatterpolar"
        },
        {
         "fill": "toself",
         "line": {
          "color": "rgba(128,0,0,0.7)"
         },
         "name": "Maroon",
         "r": [
          44,
          39,
          35,
          40,
          44
         ],
         "theta": [
          "Winter",
          "Spring",
          "Summer",
          "Fall",
          "Winter"
         ],
         "type": "scatterpolar"
        },
        {
         "fill": "toself",
         "line": {
          "color": "rgba(64,224,208,0.7)"
         },
         "name": "Turquoise",
         "r": [
          41,
          41,
          36,
          27,
          41
         ],
         "theta": [
          "Winter",
          "Spring",
          "Summer",
          "Fall",
          "Winter"
         ],
         "type": "scatterpolar"
        },
        {
         "fill": "toself",
         "line": {
          "color": "rgba(255,255,255,0.7)"
         },
         "name": "White",
         "r": [
          36,
          36,
          43,
          27,
          36
         ],
         "theta": [
          "Winter",
          "Spring",
          "Summer",
          "Fall",
          "Winter"
         ],
         "type": "scatterpolar"
        },
        {
         "fill": "toself",
         "line": {
          "color": "rgba(54,69,79,0.7)"
         },
         "name": "Charcoal",
         "r": [
          43,
          42,
          36,
          32,
          43
         ],
         "theta": [
          "Winter",
          "Spring",
          "Summer",
          "Fall",
          "Winter"
         ],
         "type": "scatterpolar"
        },
        {
         "fill": "toself",
         "line": {
          "color": "rgba(192,192,192,0.7)"
         },
         "name": "Silver",
         "r": [
          38,
          37,
          59,
          39,
          38
         ],
         "theta": [
          "Winter",
          "Spring",
          "Summer",
          "Fall",
          "Winter"
         ],
         "type": "scatterpolar"
        },
        {
         "fill": "toself",
         "line": {
          "color": "rgba(255,192,203,0.7)"
         },
         "name": "Pink",
         "r": [
          45,
          44,
          29,
          35,
          45
         ],
         "theta": [
          "Winter",
          "Spring",
          "Summer",
          "Fall",
          "Winter"
         ],
         "type": "scatterpolar"
        },
        {
         "fill": "toself",
         "line": {
          "color": "rgba(128,0,128,0.7)"
         },
         "name": "Purple",
         "r": [
          33,
          43,
          38,
          37,
          33
         ],
         "theta": [
          "Winter",
          "Spring",
          "Summer",
          "Fall",
          "Winter"
         ],
         "type": "scatterpolar"
        },
        {
         "fill": "toself",
         "line": {
          "color": "rgba(128,128,0,0.7)"
         },
         "name": "Olive",
         "r": [
          43,
          52,
          35,
          47,
          43
         ],
         "theta": [
          "Winter",
          "Spring",
          "Summer",
          "Fall",
          "Winter"
         ],
         "type": "scatterpolar"
        },
        {
         "fill": "toself",
         "line": {
          "color": "rgba(255,215,0,0.7)"
         },
         "name": "Gold",
         "r": [
          34,
          38,
          30,
          36,
          34
         ],
         "theta": [
          "Winter",
          "Spring",
          "Summer",
          "Fall",
          "Winter"
         ],
         "type": "scatterpolar"
        },
        {
         "fill": "toself",
         "line": {
          "color": "rgba(238,130,238,0.7)"
         },
         "name": "Violet",
         "r": [
          37,
          45,
          40,
          44,
          37
         ],
         "theta": [
          "Winter",
          "Spring",
          "Summer",
          "Fall",
          "Winter"
         ],
         "type": "scatterpolar"
        },
        {
         "fill": "toself",
         "line": {
          "color": "rgba(0,128,128,0.7)"
         },
         "name": "Teal",
         "r": [
          37,
          46,
          49,
          40,
          37
         ],
         "theta": [
          "Winter",
          "Spring",
          "Summer",
          "Fall",
          "Winter"
         ],
         "type": "scatterpolar"
        },
        {
         "fill": "toself",
         "line": {
          "color": "rgba(230,230,250,0.7)"
         },
         "name": "Lavender",
         "r": [
          38,
          32,
          39,
          38,
          38
         ],
         "theta": [
          "Winter",
          "Spring",
          "Summer",
          "Fall",
          "Winter"
         ],
         "type": "scatterpolar"
        },
        {
         "fill": "toself",
         "line": {
          "color": "rgba(0,0,0,0.7)"
         },
         "name": "Black",
         "r": [
          40,
          43,
          42,
          42,
          40
         ],
         "theta": [
          "Winter",
          "Spring",
          "Summer",
          "Fall",
          "Winter"
         ],
         "type": "scatterpolar"
        },
        {
         "fill": "toself",
         "line": {
          "color": "rgba(0,128,0,0.7)"
         },
         "name": "Green",
         "r": [
          50,
          38,
          44,
          37,
          50
         ],
         "theta": [
          "Winter",
          "Spring",
          "Summer",
          "Fall",
          "Winter"
         ],
         "type": "scatterpolar"
        },
        {
         "fill": "toself",
         "line": {
          "color": "rgba(255,218,185,0.7)"
         },
         "name": "Peach",
         "r": [
          45,
          38,
          24,
          42,
          45
         ],
         "theta": [
          "Winter",
          "Spring",
          "Summer",
          "Fall",
          "Winter"
         ],
         "type": "scatterpolar"
        },
        {
         "fill": "toself",
         "line": {
          "color": "rgba(255,0,0,0.7)"
         },
         "name": "Red",
         "r": [
          39,
          31,
          36,
          42,
          39
         ],
         "theta": [
          "Winter",
          "Spring",
          "Summer",
          "Fall",
          "Winter"
         ],
         "type": "scatterpolar"
        },
        {
         "fill": "toself",
         "line": {
          "color": "rgba(0,255,255,0.7)"
         },
         "name": "Cyan",
         "r": [
          39,
          42,
          42,
          43,
          39
         ],
         "theta": [
          "Winter",
          "Spring",
          "Summer",
          "Fall",
          "Winter"
         ],
         "type": "scatterpolar"
        },
        {
         "fill": "toself",
         "line": {
          "color": "rgba(165,42,42,0.7)"
         },
         "name": "Brown",
         "r": [
          40,
          33,
          33,
          35,
          40
         ],
         "theta": [
          "Winter",
          "Spring",
          "Summer",
          "Fall",
          "Winter"
         ],
         "type": "scatterpolar"
        },
        {
         "fill": "toself",
         "line": {
          "color": "rgba(245,245,220,0.7)"
         },
         "name": "Beige",
         "r": [
          37,
          39,
          37,
          34,
          37
         ],
         "theta": [
          "Winter",
          "Spring",
          "Summer",
          "Fall",
          "Winter"
         ],
         "type": "scatterpolar"
        },
        {
         "fill": "toself",
         "line": {
          "color": "rgba(255,165,0,0.7)"
         },
         "name": "Orange",
         "r": [
          33,
          39,
          37,
          45,
          33
         ],
         "theta": [
          "Winter",
          "Spring",
          "Summer",
          "Fall",
          "Winter"
         ],
         "type": "scatterpolar"
        },
        {
         "fill": "toself",
         "line": {
          "color": "rgba(75,0,130,0.7)"
         },
         "name": "Indigo",
         "r": [
          41,
          37,
          32,
          37,
          41
         ],
         "theta": [
          "Winter",
          "Spring",
          "Summer",
          "Fall",
          "Winter"
         ],
         "type": "scatterpolar"
        },
        {
         "fill": "toself",
         "line": {
          "color": "rgba(255,255,0,0.7)"
         },
         "name": "Yellow",
         "r": [
          46,
          40,
          38,
          50,
          46
         ],
         "theta": [
          "Winter",
          "Spring",
          "Summer",
          "Fall",
          "Winter"
         ],
         "type": "scatterpolar"
        },
        {
         "fill": "toself",
         "line": {
          "color": "rgba(255,0,255,0.7)"
         },
         "name": "Magenta",
         "r": [
          30,
          37,
          35,
          50,
          30
         ],
         "theta": [
          "Winter",
          "Spring",
          "Summer",
          "Fall",
          "Winter"
         ],
         "type": "scatterpolar"
        },
        {
         "fill": "toself",
         "line": {
          "color": "rgba(0,0,0,0.7)"
         },
         "name": "Blue",
         "r": [
          35,
          39,
          46,
          32,
          35
         ],
         "theta": [
          "Winter",
          "Spring",
          "Summer",
          "Fall",
          "Winter"
         ],
         "type": "scatterpolar"
        }
       ],
       "layout": {
        "template": {
         "data": {
          "histogram2dcontour": [
           {
            "type": "histogram2dcontour",
            "colorbar": {
             "outlinewidth": 0,
             "ticks": ""
            },
            "colorscale": [
             [
              0.0,
              "#0d0887"
             ],
             [
              0.1111111111111111,
              "#46039f"
             ],
             [
              0.2222222222222222,
              "#7201a8"
             ],
             [
              0.3333333333333333,
              "#9c179e"
             ],
             [
              0.4444444444444444,
              "#bd3786"
             ],
             [
              0.5555555555555556,
              "#d8576b"
             ],
             [
              0.6666666666666666,
              "#ed7953"
             ],
             [
              0.7777777777777778,
              "#fb9f3a"
             ],
             [
              0.8888888888888888,
              "#fdca26"
             ],
             [
              1.0,
              "#f0f921"
             ]
            ]
           }
          ],
          "choropleth": [
           {
            "type": "choropleth",
            "colorbar": {
             "outlinewidth": 0,
             "ticks": ""
            }
           }
          ],
          "histogram2d": [
           {
            "type": "histogram2d",
            "colorbar": {
             "outlinewidth": 0,
             "ticks": ""
            },
            "colorscale": [
             [
              0.0,
              "#0d0887"
             ],
             [
              0.1111111111111111,
              "#46039f"
             ],
             [
              0.2222222222222222,
              "#7201a8"
             ],
             [
              0.3333333333333333,
              "#9c179e"
             ],
             [
              0.4444444444444444,
              "#bd3786"
             ],
             [
              0.5555555555555556,
              "#d8576b"
             ],
             [
              0.6666666666666666,
              "#ed7953"
             ],
             [
              0.7777777777777778,
              "#fb9f3a"
             ],
             [
              0.8888888888888888,
              "#fdca26"
             ],
             [
              1.0,
              "#f0f921"
             ]
            ]
           }
          ],
          "heatmap": [
           {
            "type": "heatmap",
            "colorbar": {
             "outlinewidth": 0,
             "ticks": ""
            },
            "colorscale": [
             [
              0.0,
              "#0d0887"
             ],
             [
              0.1111111111111111,
              "#46039f"
             ],
             [
              0.2222222222222222,
              "#7201a8"
             ],
             [
              0.3333333333333333,
              "#9c179e"
             ],
             [
              0.4444444444444444,
              "#bd3786"
             ],
             [
              0.5555555555555556,
              "#d8576b"
             ],
             [
              0.6666666666666666,
              "#ed7953"
             ],
             [
              0.7777777777777778,
              "#fb9f3a"
             ],
             [
              0.8888888888888888,
              "#fdca26"
             ],
             [
              1.0,
              "#f0f921"
             ]
            ]
           }
          ],
          "heatmapgl": [
           {
            "type": "heatmapgl",
            "colorbar": {
             "outlinewidth": 0,
             "ticks": ""
            },
            "colorscale": [
             [
              0.0,
              "#0d0887"
             ],
             [
              0.1111111111111111,
              "#46039f"
             ],
             [
              0.2222222222222222,
              "#7201a8"
             ],
             [
              0.3333333333333333,
              "#9c179e"
             ],
             [
              0.4444444444444444,
              "#bd3786"
             ],
             [
              0.5555555555555556,
              "#d8576b"
             ],
             [
              0.6666666666666666,
              "#ed7953"
             ],
             [
              0.7777777777777778,
              "#fb9f3a"
             ],
             [
              0.8888888888888888,
              "#fdca26"
             ],
             [
              1.0,
              "#f0f921"
             ]
            ]
           }
          ],
          "contourcarpet": [
           {
            "type": "contourcarpet",
            "colorbar": {
             "outlinewidth": 0,
             "ticks": ""
            }
           }
          ],
          "contour": [
           {
            "type": "contour",
            "colorbar": {
             "outlinewidth": 0,
             "ticks": ""
            },
            "colorscale": [
             [
              0.0,
              "#0d0887"
             ],
             [
              0.1111111111111111,
              "#46039f"
             ],
             [
              0.2222222222222222,
              "#7201a8"
             ],
             [
              0.3333333333333333,
              "#9c179e"
             ],
             [
              0.4444444444444444,
              "#bd3786"
             ],
             [
              0.5555555555555556,
              "#d8576b"
             ],
             [
              0.6666666666666666,
              "#ed7953"
             ],
             [
              0.7777777777777778,
              "#fb9f3a"
             ],
             [
              0.8888888888888888,
              "#fdca26"
             ],
             [
              1.0,
              "#f0f921"
             ]
            ]
           }
          ],
          "surface": [
           {
            "type": "surface",
            "colorbar": {
             "outlinewidth": 0,
             "ticks": ""
            },
            "colorscale": [
             [
              0.0,
              "#0d0887"
             ],
             [
              0.1111111111111111,
              "#46039f"
             ],
             [
              0.2222222222222222,
              "#7201a8"
             ],
             [
              0.3333333333333333,
              "#9c179e"
             ],
             [
              0.4444444444444444,
              "#bd3786"
             ],
             [
              0.5555555555555556,
              "#d8576b"
             ],
             [
              0.6666666666666666,
              "#ed7953"
             ],
             [
              0.7777777777777778,
              "#fb9f3a"
             ],
             [
              0.8888888888888888,
              "#fdca26"
             ],
             [
              1.0,
              "#f0f921"
             ]
            ]
           }
          ],
          "mesh3d": [
           {
            "type": "mesh3d",
            "colorbar": {
             "outlinewidth": 0,
             "ticks": ""
            }
           }
          ],
          "scatter": [
           {
            "marker": {
             "line": {
              "color": "#283442"
             }
            },
            "type": "scatter"
           }
          ],
          "parcoords": [
           {
            "type": "parcoords",
            "line": {
             "colorbar": {
              "outlinewidth": 0,
              "ticks": ""
             }
            }
           }
          ],
          "scatterpolargl": [
           {
            "type": "scatterpolargl",
            "marker": {
             "colorbar": {
              "outlinewidth": 0,
              "ticks": ""
             }
            }
           }
          ],
          "bar": [
           {
            "error_x": {
             "color": "#f2f5fa"
            },
            "error_y": {
             "color": "#f2f5fa"
            },
            "marker": {
             "line": {
              "color": "rgb(17,17,17)",
              "width": 0.5
             },
             "pattern": {
              "fillmode": "overlay",
              "size": 10,
              "solidity": 0.2
             }
            },
            "type": "bar"
           }
          ],
          "scattergeo": [
           {
            "type": "scattergeo",
            "marker": {
             "colorbar": {
              "outlinewidth": 0,
              "ticks": ""
             }
            }
           }
          ],
          "scatterpolar": [
           {
            "type": "scatterpolar",
            "marker": {
             "colorbar": {
              "outlinewidth": 0,
              "ticks": ""
             }
            }
           }
          ],
          "histogram": [
           {
            "marker": {
             "pattern": {
              "fillmode": "overlay",
              "size": 10,
              "solidity": 0.2
             }
            },
            "type": "histogram"
           }
          ],
          "scattergl": [
           {
            "marker": {
             "line": {
              "color": "#283442"
             }
            },
            "type": "scattergl"
           }
          ],
          "scatter3d": [
           {
            "type": "scatter3d",
            "line": {
             "colorbar": {
              "outlinewidth": 0,
              "ticks": ""
             }
            },
            "marker": {
             "colorbar": {
              "outlinewidth": 0,
              "ticks": ""
             }
            }
           }
          ],
          "scattermapbox": [
           {
            "type": "scattermapbox",
            "marker": {
             "colorbar": {
              "outlinewidth": 0,
              "ticks": ""
             }
            }
           }
          ],
          "scatterternary": [
           {
            "type": "scatterternary",
            "marker": {
             "colorbar": {
              "outlinewidth": 0,
              "ticks": ""
             }
            }
           }
          ],
          "scattercarpet": [
           {
            "type": "scattercarpet",
            "marker": {
             "colorbar": {
              "outlinewidth": 0,
              "ticks": ""
             }
            }
           }
          ],
          "carpet": [
           {
            "aaxis": {
             "endlinecolor": "#A2B1C6",
             "gridcolor": "#506784",
             "linecolor": "#506784",
             "minorgridcolor": "#506784",
             "startlinecolor": "#A2B1C6"
            },
            "baxis": {
             "endlinecolor": "#A2B1C6",
             "gridcolor": "#506784",
             "linecolor": "#506784",
             "minorgridcolor": "#506784",
             "startlinecolor": "#A2B1C6"
            },
            "type": "carpet"
           }
          ],
          "table": [
           {
            "cells": {
             "fill": {
              "color": "#506784"
             },
             "line": {
              "color": "rgb(17,17,17)"
             }
            },
            "header": {
             "fill": {
              "color": "#2a3f5f"
             },
             "line": {
              "color": "rgb(17,17,17)"
             }
            },
            "type": "table"
           }
          ],
          "barpolar": [
           {
            "marker": {
             "line": {
              "color": "rgb(17,17,17)",
              "width": 0.5
             },
             "pattern": {
              "fillmode": "overlay",
              "size": 10,
              "solidity": 0.2
             }
            },
            "type": "barpolar"
           }
          ],
          "pie": [
           {
            "automargin": true,
            "type": "pie"
           }
          ]
         },
         "layout": {
          "autotypenumbers": "strict",
          "colorway": [
           "#636efa",
           "#EF553B",
           "#00cc96",
           "#ab63fa",
           "#FFA15A",
           "#19d3f3",
           "#FF6692",
           "#B6E880",
           "#FF97FF",
           "#FECB52"
          ],
          "font": {
           "color": "#f2f5fa"
          },
          "hovermode": "closest",
          "hoverlabel": {
           "align": "left"
          },
          "paper_bgcolor": "rgb(17,17,17)",
          "plot_bgcolor": "rgb(17,17,17)",
          "polar": {
           "bgcolor": "rgb(17,17,17)",
           "angularaxis": {
            "gridcolor": "#506784",
            "linecolor": "#506784",
            "ticks": ""
           },
           "radialaxis": {
            "gridcolor": "#506784",
            "linecolor": "#506784",
            "ticks": ""
           }
          },
          "ternary": {
           "bgcolor": "rgb(17,17,17)",
           "aaxis": {
            "gridcolor": "#506784",
            "linecolor": "#506784",
            "ticks": ""
           },
           "baxis": {
            "gridcolor": "#506784",
            "linecolor": "#506784",
            "ticks": ""
           },
           "caxis": {
            "gridcolor": "#506784",
            "linecolor": "#506784",
            "ticks": ""
           }
          },
          "coloraxis": {
           "colorbar": {
            "outlinewidth": 0,
            "ticks": ""
           }
          },
          "colorscale": {
           "sequential": [
            [
             0.0,
             "#0d0887"
            ],
            [
             0.1111111111111111,
             "#46039f"
            ],
            [
             0.2222222222222222,
             "#7201a8"
            ],
            [
             0.3333333333333333,
             "#9c179e"
            ],
            [
             0.4444444444444444,
             "#bd3786"
            ],
            [
             0.5555555555555556,
             "#d8576b"
            ],
            [
             0.6666666666666666,
             "#ed7953"
            ],
            [
             0.7777777777777778,
             "#fb9f3a"
            ],
            [
             0.8888888888888888,
             "#fdca26"
            ],
            [
             1.0,
             "#f0f921"
            ]
           ],
           "sequentialminus": [
            [
             0.0,
             "#0d0887"
            ],
            [
             0.1111111111111111,
             "#46039f"
            ],
            [
             0.2222222222222222,
             "#7201a8"
            ],
            [
             0.3333333333333333,
             "#9c179e"
            ],
            [
             0.4444444444444444,
             "#bd3786"
            ],
            [
             0.5555555555555556,
             "#d8576b"
            ],
            [
             0.6666666666666666,
             "#ed7953"
            ],
            [
             0.7777777777777778,
             "#fb9f3a"
            ],
            [
             0.8888888888888888,
             "#fdca26"
            ],
            [
             1.0,
             "#f0f921"
            ]
           ],
           "diverging": [
            [
             0,
             "#8e0152"
            ],
            [
             0.1,
             "#c51b7d"
            ],
            [
             0.2,
             "#de77ae"
            ],
            [
             0.3,
             "#f1b6da"
            ],
            [
             0.4,
             "#fde0ef"
            ],
            [
             0.5,
             "#f7f7f7"
            ],
            [
             0.6,
             "#e6f5d0"
            ],
            [
             0.7,
             "#b8e186"
            ],
            [
             0.8,
             "#7fbc41"
            ],
            [
             0.9,
             "#4d9221"
            ],
            [
             1,
             "#276419"
            ]
           ]
          },
          "xaxis": {
           "gridcolor": "#283442",
           "linecolor": "#506784",
           "ticks": "",
           "title": {
            "standoff": 15
           },
           "zerolinecolor": "#283442",
           "automargin": true,
           "zerolinewidth": 2
          },
          "yaxis": {
           "gridcolor": "#283442",
           "linecolor": "#506784",
           "ticks": "",
           "title": {
            "standoff": 15
           },
           "zerolinecolor": "#283442",
           "automargin": true,
           "zerolinewidth": 2
          },
          "scene": {
           "xaxis": {
            "backgroundcolor": "rgb(17,17,17)",
            "gridcolor": "#506784",
            "linecolor": "#506784",
            "showbackground": true,
            "ticks": "",
            "zerolinecolor": "#C8D4E3",
            "gridwidth": 2
           },
           "yaxis": {
            "backgroundcolor": "rgb(17,17,17)",
            "gridcolor": "#506784",
            "linecolor": "#506784",
            "showbackground": true,
            "ticks": "",
            "zerolinecolor": "#C8D4E3",
            "gridwidth": 2
           },
           "zaxis": {
            "backgroundcolor": "rgb(17,17,17)",
            "gridcolor": "#506784",
            "linecolor": "#506784",
            "showbackground": true,
            "ticks": "",
            "zerolinecolor": "#C8D4E3",
            "gridwidth": 2
           }
          },
          "shapedefaults": {
           "line": {
            "color": "#f2f5fa"
           }
          },
          "annotationdefaults": {
           "arrowcolor": "#f2f5fa",
           "arrowhead": 0,
           "arrowwidth": 1
          },
          "geo": {
           "bgcolor": "rgb(17,17,17)",
           "landcolor": "rgb(17,17,17)",
           "subunitcolor": "#506784",
           "showland": true,
           "showlakes": true,
           "lakecolor": "rgb(17,17,17)"
          },
          "title": {
           "x": 0.05
          },
          "updatemenudefaults": {
           "bgcolor": "#506784",
           "borderwidth": 0
          },
          "sliderdefaults": {
           "bgcolor": "#C8D4E3",
           "borderwidth": 1,
           "bordercolor": "rgb(17,17,17)",
           "tickwidth": 0
          },
          "mapbox": {
           "style": "dark"
          }
         }
        },
        "polar": {
         "radialaxis": {
          "visible": true,
          "range": [
           0,
           59
          ],
          "showline": false,
          "gridcolor": "lightgray"
         },
         "angularaxis": {
          "ticktext": [
           "Winter",
           "Spring",
           "Summer",
           "Fall"
          ],
          "tickvals": [
           0,
           1,
           2,
           3
          ],
          "direction": "clockwise",
          "gridcolor": "lightgray"
         }
        },
        "legend": {
         "yanchor": "top",
         "y": 0.99,
         "xanchor": "left",
         "x": 1.1
        },
        "title": {
         "text": "Seasonal Color Preferences",
         "x": 0.5,
         "y": 0.95
        },
        "showlegend": true,
        "width": 900,
        "height": 700
       },
       "config": {
        "plotlyServerURL": "https://plot.ly"
       }
      },
      "text/html": "<div>                            <div id=\"1a67f88a-1c7b-4e3d-a051-4a5f8a03df98\" class=\"plotly-graph-div\" style=\"height:700px; width:900px;\"></div>            <script type=\"text/javascript\">                require([\"plotly\"], function(Plotly) {                    window.PLOTLYENV=window.PLOTLYENV || {};                                    if (document.getElementById(\"1a67f88a-1c7b-4e3d-a051-4a5f8a03df98\")) {                    Plotly.newPlot(                        \"1a67f88a-1c7b-4e3d-a051-4a5f8a03df98\",                        [{\"fill\":\"toself\",\"line\":{\"color\":\"rgba(128,128,128,0.7)\"},\"name\":\"Gray\",\"r\":[27,48,40,44,27],\"theta\":[\"Winter\",\"Spring\",\"Summer\",\"Fall\",\"Winter\"],\"type\":\"scatterpolar\"},{\"fill\":\"toself\",\"line\":{\"color\":\"rgba(128,0,0,0.7)\"},\"name\":\"Maroon\",\"r\":[44,39,35,40,44],\"theta\":[\"Winter\",\"Spring\",\"Summer\",\"Fall\",\"Winter\"],\"type\":\"scatterpolar\"},{\"fill\":\"toself\",\"line\":{\"color\":\"rgba(64,224,208,0.7)\"},\"name\":\"Turquoise\",\"r\":[41,41,36,27,41],\"theta\":[\"Winter\",\"Spring\",\"Summer\",\"Fall\",\"Winter\"],\"type\":\"scatterpolar\"},{\"fill\":\"toself\",\"line\":{\"color\":\"rgba(255,255,255,0.7)\"},\"name\":\"White\",\"r\":[36,36,43,27,36],\"theta\":[\"Winter\",\"Spring\",\"Summer\",\"Fall\",\"Winter\"],\"type\":\"scatterpolar\"},{\"fill\":\"toself\",\"line\":{\"color\":\"rgba(54,69,79,0.7)\"},\"name\":\"Charcoal\",\"r\":[43,42,36,32,43],\"theta\":[\"Winter\",\"Spring\",\"Summer\",\"Fall\",\"Winter\"],\"type\":\"scatterpolar\"},{\"fill\":\"toself\",\"line\":{\"color\":\"rgba(192,192,192,0.7)\"},\"name\":\"Silver\",\"r\":[38,37,59,39,38],\"theta\":[\"Winter\",\"Spring\",\"Summer\",\"Fall\",\"Winter\"],\"type\":\"scatterpolar\"},{\"fill\":\"toself\",\"line\":{\"color\":\"rgba(255,192,203,0.7)\"},\"name\":\"Pink\",\"r\":[45,44,29,35,45],\"theta\":[\"Winter\",\"Spring\",\"Summer\",\"Fall\",\"Winter\"],\"type\":\"scatterpolar\"},{\"fill\":\"toself\",\"line\":{\"color\":\"rgba(128,0,128,0.7)\"},\"name\":\"Purple\",\"r\":[33,43,38,37,33],\"theta\":[\"Winter\",\"Spring\",\"Summer\",\"Fall\",\"Winter\"],\"type\":\"scatterpolar\"},{\"fill\":\"toself\",\"line\":{\"color\":\"rgba(128,128,0,0.7)\"},\"name\":\"Olive\",\"r\":[43,52,35,47,43],\"theta\":[\"Winter\",\"Spring\",\"Summer\",\"Fall\",\"Winter\"],\"type\":\"scatterpolar\"},{\"fill\":\"toself\",\"line\":{\"color\":\"rgba(255,215,0,0.7)\"},\"name\":\"Gold\",\"r\":[34,38,30,36,34],\"theta\":[\"Winter\",\"Spring\",\"Summer\",\"Fall\",\"Winter\"],\"type\":\"scatterpolar\"},{\"fill\":\"toself\",\"line\":{\"color\":\"rgba(238,130,238,0.7)\"},\"name\":\"Violet\",\"r\":[37,45,40,44,37],\"theta\":[\"Winter\",\"Spring\",\"Summer\",\"Fall\",\"Winter\"],\"type\":\"scatterpolar\"},{\"fill\":\"toself\",\"line\":{\"color\":\"rgba(0,128,128,0.7)\"},\"name\":\"Teal\",\"r\":[37,46,49,40,37],\"theta\":[\"Winter\",\"Spring\",\"Summer\",\"Fall\",\"Winter\"],\"type\":\"scatterpolar\"},{\"fill\":\"toself\",\"line\":{\"color\":\"rgba(230,230,250,0.7)\"},\"name\":\"Lavender\",\"r\":[38,32,39,38,38],\"theta\":[\"Winter\",\"Spring\",\"Summer\",\"Fall\",\"Winter\"],\"type\":\"scatterpolar\"},{\"fill\":\"toself\",\"line\":{\"color\":\"rgba(0,0,0,0.7)\"},\"name\":\"Black\",\"r\":[40,43,42,42,40],\"theta\":[\"Winter\",\"Spring\",\"Summer\",\"Fall\",\"Winter\"],\"type\":\"scatterpolar\"},{\"fill\":\"toself\",\"line\":{\"color\":\"rgba(0,128,0,0.7)\"},\"name\":\"Green\",\"r\":[50,38,44,37,50],\"theta\":[\"Winter\",\"Spring\",\"Summer\",\"Fall\",\"Winter\"],\"type\":\"scatterpolar\"},{\"fill\":\"toself\",\"line\":{\"color\":\"rgba(255,218,185,0.7)\"},\"name\":\"Peach\",\"r\":[45,38,24,42,45],\"theta\":[\"Winter\",\"Spring\",\"Summer\",\"Fall\",\"Winter\"],\"type\":\"scatterpolar\"},{\"fill\":\"toself\",\"line\":{\"color\":\"rgba(255,0,0,0.7)\"},\"name\":\"Red\",\"r\":[39,31,36,42,39],\"theta\":[\"Winter\",\"Spring\",\"Summer\",\"Fall\",\"Winter\"],\"type\":\"scatterpolar\"},{\"fill\":\"toself\",\"line\":{\"color\":\"rgba(0,255,255,0.7)\"},\"name\":\"Cyan\",\"r\":[39,42,42,43,39],\"theta\":[\"Winter\",\"Spring\",\"Summer\",\"Fall\",\"Winter\"],\"type\":\"scatterpolar\"},{\"fill\":\"toself\",\"line\":{\"color\":\"rgba(165,42,42,0.7)\"},\"name\":\"Brown\",\"r\":[40,33,33,35,40],\"theta\":[\"Winter\",\"Spring\",\"Summer\",\"Fall\",\"Winter\"],\"type\":\"scatterpolar\"},{\"fill\":\"toself\",\"line\":{\"color\":\"rgba(245,245,220,0.7)\"},\"name\":\"Beige\",\"r\":[37,39,37,34,37],\"theta\":[\"Winter\",\"Spring\",\"Summer\",\"Fall\",\"Winter\"],\"type\":\"scatterpolar\"},{\"fill\":\"toself\",\"line\":{\"color\":\"rgba(255,165,0,0.7)\"},\"name\":\"Orange\",\"r\":[33,39,37,45,33],\"theta\":[\"Winter\",\"Spring\",\"Summer\",\"Fall\",\"Winter\"],\"type\":\"scatterpolar\"},{\"fill\":\"toself\",\"line\":{\"color\":\"rgba(75,0,130,0.7)\"},\"name\":\"Indigo\",\"r\":[41,37,32,37,41],\"theta\":[\"Winter\",\"Spring\",\"Summer\",\"Fall\",\"Winter\"],\"type\":\"scatterpolar\"},{\"fill\":\"toself\",\"line\":{\"color\":\"rgba(255,255,0,0.7)\"},\"name\":\"Yellow\",\"r\":[46,40,38,50,46],\"theta\":[\"Winter\",\"Spring\",\"Summer\",\"Fall\",\"Winter\"],\"type\":\"scatterpolar\"},{\"fill\":\"toself\",\"line\":{\"color\":\"rgba(255,0,255,0.7)\"},\"name\":\"Magenta\",\"r\":[30,37,35,50,30],\"theta\":[\"Winter\",\"Spring\",\"Summer\",\"Fall\",\"Winter\"],\"type\":\"scatterpolar\"},{\"fill\":\"toself\",\"line\":{\"color\":\"rgba(0,0,0,0.7)\"},\"name\":\"Blue\",\"r\":[35,39,46,32,35],\"theta\":[\"Winter\",\"Spring\",\"Summer\",\"Fall\",\"Winter\"],\"type\":\"scatterpolar\"}],                        {\"template\":{\"data\":{\"histogram2dcontour\":[{\"type\":\"histogram2dcontour\",\"colorbar\":{\"outlinewidth\":0,\"ticks\":\"\"},\"colorscale\":[[0.0,\"#0d0887\"],[0.1111111111111111,\"#46039f\"],[0.2222222222222222,\"#7201a8\"],[0.3333333333333333,\"#9c179e\"],[0.4444444444444444,\"#bd3786\"],[0.5555555555555556,\"#d8576b\"],[0.6666666666666666,\"#ed7953\"],[0.7777777777777778,\"#fb9f3a\"],[0.8888888888888888,\"#fdca26\"],[1.0,\"#f0f921\"]]}],\"choropleth\":[{\"type\":\"choropleth\",\"colorbar\":{\"outlinewidth\":0,\"ticks\":\"\"}}],\"histogram2d\":[{\"type\":\"histogram2d\",\"colorbar\":{\"outlinewidth\":0,\"ticks\":\"\"},\"colorscale\":[[0.0,\"#0d0887\"],[0.1111111111111111,\"#46039f\"],[0.2222222222222222,\"#7201a8\"],[0.3333333333333333,\"#9c179e\"],[0.4444444444444444,\"#bd3786\"],[0.5555555555555556,\"#d8576b\"],[0.6666666666666666,\"#ed7953\"],[0.7777777777777778,\"#fb9f3a\"],[0.8888888888888888,\"#fdca26\"],[1.0,\"#f0f921\"]]}],\"heatmap\":[{\"type\":\"heatmap\",\"colorbar\":{\"outlinewidth\":0,\"ticks\":\"\"},\"colorscale\":[[0.0,\"#0d0887\"],[0.1111111111111111,\"#46039f\"],[0.2222222222222222,\"#7201a8\"],[0.3333333333333333,\"#9c179e\"],[0.4444444444444444,\"#bd3786\"],[0.5555555555555556,\"#d8576b\"],[0.6666666666666666,\"#ed7953\"],[0.7777777777777778,\"#fb9f3a\"],[0.8888888888888888,\"#fdca26\"],[1.0,\"#f0f921\"]]}],\"heatmapgl\":[{\"type\":\"heatmapgl\",\"colorbar\":{\"outlinewidth\":0,\"ticks\":\"\"},\"colorscale\":[[0.0,\"#0d0887\"],[0.1111111111111111,\"#46039f\"],[0.2222222222222222,\"#7201a8\"],[0.3333333333333333,\"#9c179e\"],[0.4444444444444444,\"#bd3786\"],[0.5555555555555556,\"#d8576b\"],[0.6666666666666666,\"#ed7953\"],[0.7777777777777778,\"#fb9f3a\"],[0.8888888888888888,\"#fdca26\"],[1.0,\"#f0f921\"]]}],\"contourcarpet\":[{\"type\":\"contourcarpet\",\"colorbar\":{\"outlinewidth\":0,\"ticks\":\"\"}}],\"contour\":[{\"type\":\"contour\",\"colorbar\":{\"outlinewidth\":0,\"ticks\":\"\"},\"colorscale\":[[0.0,\"#0d0887\"],[0.1111111111111111,\"#46039f\"],[0.2222222222222222,\"#7201a8\"],[0.3333333333333333,\"#9c179e\"],[0.4444444444444444,\"#bd3786\"],[0.5555555555555556,\"#d8576b\"],[0.6666666666666666,\"#ed7953\"],[0.7777777777777778,\"#fb9f3a\"],[0.8888888888888888,\"#fdca26\"],[1.0,\"#f0f921\"]]}],\"surface\":[{\"type\":\"surface\",\"colorbar\":{\"outlinewidth\":0,\"ticks\":\"\"},\"colorscale\":[[0.0,\"#0d0887\"],[0.1111111111111111,\"#46039f\"],[0.2222222222222222,\"#7201a8\"],[0.3333333333333333,\"#9c179e\"],[0.4444444444444444,\"#bd3786\"],[0.5555555555555556,\"#d8576b\"],[0.6666666666666666,\"#ed7953\"],[0.7777777777777778,\"#fb9f3a\"],[0.8888888888888888,\"#fdca26\"],[1.0,\"#f0f921\"]]}],\"mesh3d\":[{\"type\":\"mesh3d\",\"colorbar\":{\"outlinewidth\":0,\"ticks\":\"\"}}],\"scatter\":[{\"marker\":{\"line\":{\"color\":\"#283442\"}},\"type\":\"scatter\"}],\"parcoords\":[{\"type\":\"parcoords\",\"line\":{\"colorbar\":{\"outlinewidth\":0,\"ticks\":\"\"}}}],\"scatterpolargl\":[{\"type\":\"scatterpolargl\",\"marker\":{\"colorbar\":{\"outlinewidth\":0,\"ticks\":\"\"}}}],\"bar\":[{\"error_x\":{\"color\":\"#f2f5fa\"},\"error_y\":{\"color\":\"#f2f5fa\"},\"marker\":{\"line\":{\"color\":\"rgb(17,17,17)\",\"width\":0.5},\"pattern\":{\"fillmode\":\"overlay\",\"size\":10,\"solidity\":0.2}},\"type\":\"bar\"}],\"scattergeo\":[{\"type\":\"scattergeo\",\"marker\":{\"colorbar\":{\"outlinewidth\":0,\"ticks\":\"\"}}}],\"scatterpolar\":[{\"type\":\"scatterpolar\",\"marker\":{\"colorbar\":{\"outlinewidth\":0,\"ticks\":\"\"}}}],\"histogram\":[{\"marker\":{\"pattern\":{\"fillmode\":\"overlay\",\"size\":10,\"solidity\":0.2}},\"type\":\"histogram\"}],\"scattergl\":[{\"marker\":{\"line\":{\"color\":\"#283442\"}},\"type\":\"scattergl\"}],\"scatter3d\":[{\"type\":\"scatter3d\",\"line\":{\"colorbar\":{\"outlinewidth\":0,\"ticks\":\"\"}},\"marker\":{\"colorbar\":{\"outlinewidth\":0,\"ticks\":\"\"}}}],\"scattermapbox\":[{\"type\":\"scattermapbox\",\"marker\":{\"colorbar\":{\"outlinewidth\":0,\"ticks\":\"\"}}}],\"scatterternary\":[{\"type\":\"scatterternary\",\"marker\":{\"colorbar\":{\"outlinewidth\":0,\"ticks\":\"\"}}}],\"scattercarpet\":[{\"type\":\"scattercarpet\",\"marker\":{\"colorbar\":{\"outlinewidth\":0,\"ticks\":\"\"}}}],\"carpet\":[{\"aaxis\":{\"endlinecolor\":\"#A2B1C6\",\"gridcolor\":\"#506784\",\"linecolor\":\"#506784\",\"minorgridcolor\":\"#506784\",\"startlinecolor\":\"#A2B1C6\"},\"baxis\":{\"endlinecolor\":\"#A2B1C6\",\"gridcolor\":\"#506784\",\"linecolor\":\"#506784\",\"minorgridcolor\":\"#506784\",\"startlinecolor\":\"#A2B1C6\"},\"type\":\"carpet\"}],\"table\":[{\"cells\":{\"fill\":{\"color\":\"#506784\"},\"line\":{\"color\":\"rgb(17,17,17)\"}},\"header\":{\"fill\":{\"color\":\"#2a3f5f\"},\"line\":{\"color\":\"rgb(17,17,17)\"}},\"type\":\"table\"}],\"barpolar\":[{\"marker\":{\"line\":{\"color\":\"rgb(17,17,17)\",\"width\":0.5},\"pattern\":{\"fillmode\":\"overlay\",\"size\":10,\"solidity\":0.2}},\"type\":\"barpolar\"}],\"pie\":[{\"automargin\":true,\"type\":\"pie\"}]},\"layout\":{\"autotypenumbers\":\"strict\",\"colorway\":[\"#636efa\",\"#EF553B\",\"#00cc96\",\"#ab63fa\",\"#FFA15A\",\"#19d3f3\",\"#FF6692\",\"#B6E880\",\"#FF97FF\",\"#FECB52\"],\"font\":{\"color\":\"#f2f5fa\"},\"hovermode\":\"closest\",\"hoverlabel\":{\"align\":\"left\"},\"paper_bgcolor\":\"rgb(17,17,17)\",\"plot_bgcolor\":\"rgb(17,17,17)\",\"polar\":{\"bgcolor\":\"rgb(17,17,17)\",\"angularaxis\":{\"gridcolor\":\"#506784\",\"linecolor\":\"#506784\",\"ticks\":\"\"},\"radialaxis\":{\"gridcolor\":\"#506784\",\"linecolor\":\"#506784\",\"ticks\":\"\"}},\"ternary\":{\"bgcolor\":\"rgb(17,17,17)\",\"aaxis\":{\"gridcolor\":\"#506784\",\"linecolor\":\"#506784\",\"ticks\":\"\"},\"baxis\":{\"gridcolor\":\"#506784\",\"linecolor\":\"#506784\",\"ticks\":\"\"},\"caxis\":{\"gridcolor\":\"#506784\",\"linecolor\":\"#506784\",\"ticks\":\"\"}},\"coloraxis\":{\"colorbar\":{\"outlinewidth\":0,\"ticks\":\"\"}},\"colorscale\":{\"sequential\":[[0.0,\"#0d0887\"],[0.1111111111111111,\"#46039f\"],[0.2222222222222222,\"#7201a8\"],[0.3333333333333333,\"#9c179e\"],[0.4444444444444444,\"#bd3786\"],[0.5555555555555556,\"#d8576b\"],[0.6666666666666666,\"#ed7953\"],[0.7777777777777778,\"#fb9f3a\"],[0.8888888888888888,\"#fdca26\"],[1.0,\"#f0f921\"]],\"sequentialminus\":[[0.0,\"#0d0887\"],[0.1111111111111111,\"#46039f\"],[0.2222222222222222,\"#7201a8\"],[0.3333333333333333,\"#9c179e\"],[0.4444444444444444,\"#bd3786\"],[0.5555555555555556,\"#d8576b\"],[0.6666666666666666,\"#ed7953\"],[0.7777777777777778,\"#fb9f3a\"],[0.8888888888888888,\"#fdca26\"],[1.0,\"#f0f921\"]],\"diverging\":[[0,\"#8e0152\"],[0.1,\"#c51b7d\"],[0.2,\"#de77ae\"],[0.3,\"#f1b6da\"],[0.4,\"#fde0ef\"],[0.5,\"#f7f7f7\"],[0.6,\"#e6f5d0\"],[0.7,\"#b8e186\"],[0.8,\"#7fbc41\"],[0.9,\"#4d9221\"],[1,\"#276419\"]]},\"xaxis\":{\"gridcolor\":\"#283442\",\"linecolor\":\"#506784\",\"ticks\":\"\",\"title\":{\"standoff\":15},\"zerolinecolor\":\"#283442\",\"automargin\":true,\"zerolinewidth\":2},\"yaxis\":{\"gridcolor\":\"#283442\",\"linecolor\":\"#506784\",\"ticks\":\"\",\"title\":{\"standoff\":15},\"zerolinecolor\":\"#283442\",\"automargin\":true,\"zerolinewidth\":2},\"scene\":{\"xaxis\":{\"backgroundcolor\":\"rgb(17,17,17)\",\"gridcolor\":\"#506784\",\"linecolor\":\"#506784\",\"showbackground\":true,\"ticks\":\"\",\"zerolinecolor\":\"#C8D4E3\",\"gridwidth\":2},\"yaxis\":{\"backgroundcolor\":\"rgb(17,17,17)\",\"gridcolor\":\"#506784\",\"linecolor\":\"#506784\",\"showbackground\":true,\"ticks\":\"\",\"zerolinecolor\":\"#C8D4E3\",\"gridwidth\":2},\"zaxis\":{\"backgroundcolor\":\"rgb(17,17,17)\",\"gridcolor\":\"#506784\",\"linecolor\":\"#506784\",\"showbackground\":true,\"ticks\":\"\",\"zerolinecolor\":\"#C8D4E3\",\"gridwidth\":2}},\"shapedefaults\":{\"line\":{\"color\":\"#f2f5fa\"}},\"annotationdefaults\":{\"arrowcolor\":\"#f2f5fa\",\"arrowhead\":0,\"arrowwidth\":1},\"geo\":{\"bgcolor\":\"rgb(17,17,17)\",\"landcolor\":\"rgb(17,17,17)\",\"subunitcolor\":\"#506784\",\"showland\":true,\"showlakes\":true,\"lakecolor\":\"rgb(17,17,17)\"},\"title\":{\"x\":0.05},\"updatemenudefaults\":{\"bgcolor\":\"#506784\",\"borderwidth\":0},\"sliderdefaults\":{\"bgcolor\":\"#C8D4E3\",\"borderwidth\":1,\"bordercolor\":\"rgb(17,17,17)\",\"tickwidth\":0},\"mapbox\":{\"style\":\"dark\"}}},\"polar\":{\"radialaxis\":{\"visible\":true,\"range\":[0,59],\"showline\":false,\"gridcolor\":\"lightgray\"},\"angularaxis\":{\"ticktext\":[\"Winter\",\"Spring\",\"Summer\",\"Fall\"],\"tickvals\":[0,1,2,3],\"direction\":\"clockwise\",\"gridcolor\":\"lightgray\"}},\"legend\":{\"yanchor\":\"top\",\"y\":0.99,\"xanchor\":\"left\",\"x\":1.1},\"title\":{\"text\":\"Seasonal Color Preferences\",\"x\":0.5,\"y\":0.95},\"showlegend\":true,\"width\":900,\"height\":700},                        {\"responsive\": true}                    ).then(function(){\n                            \nvar gd = document.getElementById('1a67f88a-1c7b-4e3d-a051-4a5f8a03df98');\nvar x = new MutationObserver(function (mutations, observer) {{\n        var display = window.getComputedStyle(gd).display;\n        if (!display || display === 'none') {{\n            console.log([gd, 'removed!']);\n            Plotly.purge(gd);\n            observer.disconnect();\n        }}\n}});\n\n// Listen for the removal of the full notebook cells\nvar notebookContainer = gd.closest('#notebook-container');\nif (notebookContainer) {{\n    x.observe(notebookContainer, {childList: true});\n}}\n\n// Listen for the clearing of the current output cell\nvar outputEl = gd.closest('.output');\nif (outputEl) {{\n    x.observe(outputEl, {childList: true});\n}}\n\n                        })                };                });            </script>        </div>"
     },
     "metadata": {},
     "output_type": "display_data"
    }
   ],
   "source": [
    "fig = go.Figure()\n",
    "\n",
    "seasons = ['Winter', 'Spring', 'Summer', 'Fall']\n",
    "for color in df['Color'].unique():\n",
    "    color_data = season_color_counts[season_color_counts['Color'] == color]\n",
    "    \n",
    "\n",
    "    season_values = []\n",
    "    for season in seasons:\n",
    "        count = color_data[color_data['Season'] == season]['count'].values\n",
    "        season_values.append(count[0] if len(count) > 0 else 0)\n",
    "    \n",
    "    season_values.append(season_values[0])\n",
    "    seasons_plot = seasons + [seasons[0]]\n",
    "    \n",
    "    fig.add_trace(go.Scatterpolar(\n",
    "        r=season_values,\n",
    "        theta=seasons_plot,\n",
    "        name=color,\n",
    "        line=dict(color=color_map.get(color, 'rgba(0,0,0,0.7)')),\n",
    "        fill='toself'\n",
    "    ))\n",
    "\n",
    "fig.update_layout(\n",
    "    polar=dict(\n",
    "        radialaxis=dict(\n",
    "            visible=True,\n",
    "            range=[0, max(season_color_counts['count'])],\n",
    "            showline=False,\n",
    "            gridcolor='lightgray'\n",
    "        ),\n",
    "        angularaxis=dict(\n",
    "            ticktext=seasons,\n",
    "            tickvals=list(range(len(seasons))),\n",
    "            direction='clockwise',\n",
    "            gridcolor='lightgray'\n",
    "        )\n",
    "    ),\n",
    "    showlegend=True,\n",
    "    legend=dict(\n",
    "        yanchor=\"top\",\n",
    "        y=0.99,\n",
    "        xanchor=\"left\",\n",
    "        x=1.1\n",
    "    ),\n",
    "    title=dict(\n",
    "        text=\"Seasonal Color Preferences\",\n",
    "        x=0.5,\n",
    "        y=0.95\n",
    "    ),\n",
    "    width=900,\n",
    "    height=700\n",
    ")\n",
    "\n",
    "fig.show()\n",
    "fig.write_image(\"season_color_polar.png\")"
   ],
   "metadata": {
    "collapsed": false,
    "ExecuteTime": {
     "end_time": "2024-12-05T03:08:57.482133Z",
     "start_time": "2024-12-05T03:08:57.338827Z"
    }
   },
   "id": "eddf8ff3962436d3",
   "execution_count": 15
  }
 ],
 "metadata": {
  "kernelspec": {
   "display_name": "Python 3",
   "language": "python",
   "name": "python3"
  },
  "language_info": {
   "codemirror_mode": {
    "name": "ipython",
    "version": 2
   },
   "file_extension": ".py",
   "mimetype": "text/x-python",
   "name": "python",
   "nbconvert_exporter": "python",
   "pygments_lexer": "ipython2",
   "version": "2.7.6"
  }
 },
 "nbformat": 4,
 "nbformat_minor": 5
}
