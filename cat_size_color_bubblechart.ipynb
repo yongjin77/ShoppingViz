{
 "cells": [
  {
   "cell_type": "code",
   "outputs": [],
   "source": [
    "import plotly.express as px\n",
    "import pandas as pd"
   ],
   "metadata": {
    "collapsed": false,
    "ExecuteTime": {
     "end_time": "2024-12-05T03:10:14.561133Z",
     "start_time": "2024-12-05T03:10:14.547521Z"
    }
   },
   "id": "7c41f4441e953258",
   "execution_count": 5
  },
  {
   "cell_type": "code",
   "outputs": [],
   "source": [
    "\n",
    "df = pd.read_csv('shopping_behavior_updated.csv')"
   ],
   "metadata": {
    "collapsed": false,
    "ExecuteTime": {
     "end_time": "2024-12-05T03:10:14.588027Z",
     "start_time": "2024-12-05T03:10:14.564718Z"
    }
   },
   "id": "66b2fc4e69439d1c",
   "execution_count": 6
  },
  {
   "cell_type": "code",
   "outputs": [],
   "source": [
    "#prepare data\n",
    "# map to actual hex color\n",
    "color_map = {\n",
    "    'Black': '#000000',\n",
    "    'White': '#FFFFFF',\n",
    "    'Gray': '#808080',\n",
    "    'Blue': '#0000FF',\n",
    "    'Red': '#FF0000',\n",
    "    'Green': '#008000',\n",
    "    'Yellow': '#FFFF00',\n",
    "    'Purple': '#800080',\n",
    "    'Pink': '#FFC0CB',\n",
    "    'Brown': '#8B4513',\n",
    "    'Navy': '#000080',\n",
    "    'Beige': '#F5F5DC',\n",
    "    'Orange': '#FFA500',\n",
    "    'Maroon': '#800000',\n",
    "    'Turquoise': '#40E0D0'\n",
    "}\n",
    "\n",
    "\n",
    "size_color_counts = df.groupby(['Category', 'Size', 'Color']).size().reset_index(name='count')"
   ],
   "metadata": {
    "collapsed": false,
    "ExecuteTime": {
     "end_time": "2024-12-05T03:10:14.593149Z",
     "start_time": "2024-12-05T03:10:14.587026Z"
    }
   },
   "id": "16001ac8b5dd5649",
   "execution_count": 7
  },
  {
   "cell_type": "code",
   "outputs": [
    {
     "data": {
      "application/vnd.plotly.v1+json": {
       "data": [
        {
         "customdata": [
          [
           12
          ],
          [
           21
          ],
          [
           4
          ],
          [
           7
          ],
          [
           10
          ],
          [
           26
          ],
          [
           17
          ],
          [
           12
          ],
          [
           7
          ],
          [
           11
          ],
          [
           3
          ],
          [
           3
          ],
          [
           1
          ],
          [
           9
          ],
          [
           3
          ],
          [
           1
          ]
         ],
         "hovertemplate": "Category: %{x}<br>Size: %{y}<br>Color: %{marker.color}<br>Count: %{marker.size}<br><extra></extra>",
         "legendgroup": "Beige",
         "marker": {
          "color": "#F5F5DC",
          "size": [
           12,
           21,
           4,
           7,
           10,
           26,
           17,
           12,
           7,
           11,
           3,
           3,
           1,
           9,
           3,
           1
          ],
          "sizemode": "area",
          "sizeref": 0.012222222222222223,
          "symbol": "circle"
         },
         "mode": "markers",
         "name": "Beige",
         "orientation": "v",
         "showlegend": true,
         "x": [
          "Accessories",
          "Accessories",
          "Accessories",
          "Accessories",
          "Clothing",
          "Clothing",
          "Clothing",
          "Clothing",
          "Footwear",
          "Footwear",
          "Footwear",
          "Footwear",
          "Outerwear",
          "Outerwear",
          "Outerwear",
          "Outerwear"
         ],
         "xaxis": "x",
         "y": [
          "L",
          "M",
          "S",
          "XL",
          "L",
          "M",
          "S",
          "XL",
          "L",
          "M",
          "S",
          "XL",
          "L",
          "M",
          "S",
          "XL"
         ],
         "yaxis": "y",
         "type": "scatter"
        },
        {
         "customdata": [
          [
           13
          ],
          [
           24
          ],
          [
           9
          ],
          [
           5
          ],
          [
           27
          ],
          [
           32
          ],
          [
           12
          ],
          [
           10
          ],
          [
           9
          ],
          [
           7
          ],
          [
           6
          ],
          [
           3
          ],
          [
           4
          ],
          [
           5
          ],
          [
           1
          ]
         ],
         "hovertemplate": "Category: %{x}<br>Size: %{y}<br>Color: %{marker.color}<br>Count: %{marker.size}<br><extra></extra>",
         "legendgroup": "Black",
         "marker": {
          "color": "#000000",
          "size": [
           13,
           24,
           9,
           5,
           27,
           32,
           12,
           10,
           9,
           7,
           6,
           3,
           4,
           5,
           1
          ],
          "sizemode": "area",
          "sizeref": 0.012222222222222223,
          "symbol": "circle"
         },
         "mode": "markers",
         "name": "Black",
         "orientation": "v",
         "showlegend": true,
         "x": [
          "Accessories",
          "Accessories",
          "Accessories",
          "Accessories",
          "Clothing",
          "Clothing",
          "Clothing",
          "Clothing",
          "Footwear",
          "Footwear",
          "Footwear",
          "Footwear",
          "Outerwear",
          "Outerwear",
          "Outerwear"
         ],
         "xaxis": "x",
         "y": [
          "L",
          "M",
          "S",
          "XL",
          "L",
          "M",
          "S",
          "XL",
          "L",
          "M",
          "S",
          "XL",
          "L",
          "M",
          "XL"
         ],
         "yaxis": "y",
         "type": "scatter"
        },
        {
         "customdata": [
          [
           18
          ],
          [
           27
          ],
          [
           11
          ],
          [
           3
          ],
          [
           18
          ],
          [
           20
          ],
          [
           8
          ],
          [
           3
          ],
          [
           7
          ],
          [
           7
          ],
          [
           8
          ],
          [
           3
          ],
          [
           5
          ],
          [
           11
          ],
          [
           2
          ],
          [
           1
          ]
         ],
         "hovertemplate": "Category: %{x}<br>Size: %{y}<br>Color: %{marker.color}<br>Count: %{marker.size}<br><extra></extra>",
         "legendgroup": "Blue",
         "marker": {
          "color": "#0000FF",
          "size": [
           18,
           27,
           11,
           3,
           18,
           20,
           8,
           3,
           7,
           7,
           8,
           3,
           5,
           11,
           2,
           1
          ],
          "sizemode": "area",
          "sizeref": 0.012222222222222223,
          "symbol": "circle"
         },
         "mode": "markers",
         "name": "Blue",
         "orientation": "v",
         "showlegend": true,
         "x": [
          "Accessories",
          "Accessories",
          "Accessories",
          "Accessories",
          "Clothing",
          "Clothing",
          "Clothing",
          "Clothing",
          "Footwear",
          "Footwear",
          "Footwear",
          "Footwear",
          "Outerwear",
          "Outerwear",
          "Outerwear",
          "Outerwear"
         ],
         "xaxis": "x",
         "y": [
          "L",
          "M",
          "S",
          "XL",
          "L",
          "M",
          "S",
          "XL",
          "L",
          "M",
          "S",
          "XL",
          "L",
          "M",
          "S",
          "XL"
         ],
         "yaxis": "y",
         "type": "scatter"
        },
        {
         "customdata": [
          [
           10
          ],
          [
           18
          ],
          [
           8
          ],
          [
           8
          ],
          [
           18
          ],
          [
           27
          ],
          [
           10
          ],
          [
           6
          ],
          [
           8
          ],
          [
           12
          ],
          [
           3
          ],
          [
           1
          ],
          [
           4
          ],
          [
           8
          ]
         ],
         "hovertemplate": "Category: %{x}<br>Size: %{y}<br>Color: %{marker.color}<br>Count: %{marker.size}<br><extra></extra>",
         "legendgroup": "Brown",
         "marker": {
          "color": "#8B4513",
          "size": [
           10,
           18,
           8,
           8,
           18,
           27,
           10,
           6,
           8,
           12,
           3,
           1,
           4,
           8
          ],
          "sizemode": "area",
          "sizeref": 0.012222222222222223,
          "symbol": "circle"
         },
         "mode": "markers",
         "name": "Brown",
         "orientation": "v",
         "showlegend": true,
         "x": [
          "Accessories",
          "Accessories",
          "Accessories",
          "Accessories",
          "Clothing",
          "Clothing",
          "Clothing",
          "Clothing",
          "Footwear",
          "Footwear",
          "Footwear",
          "Footwear",
          "Outerwear",
          "Outerwear"
         ],
         "xaxis": "x",
         "y": [
          "L",
          "M",
          "S",
          "XL",
          "L",
          "M",
          "S",
          "XL",
          "L",
          "M",
          "S",
          "XL",
          "L",
          "M"
         ],
         "yaxis": "y",
         "type": "scatter"
        },
        {
         "customdata": [
          [
           8
          ],
          [
           30
          ],
          [
           6
          ],
          [
           11
          ],
          [
           17
          ],
          [
           34
          ],
          [
           14
          ],
          [
           8
          ],
          [
           3
          ],
          [
           10
          ],
          [
           2
          ],
          [
           4
          ],
          [
           3
          ],
          [
           2
          ],
          [
           1
          ]
         ],
         "hovertemplate": "Category: %{x}<br>Size: %{y}<br>Color: %{marker.color}<br>Count: %{marker.size}<br><extra></extra>",
         "legendgroup": "Charcoal",
         "marker": {
          "color": "#19d3f3",
          "size": [
           8,
           30,
           6,
           11,
           17,
           34,
           14,
           8,
           3,
           10,
           2,
           4,
           3,
           2,
           1
          ],
          "sizemode": "area",
          "sizeref": 0.012222222222222223,
          "symbol": "circle"
         },
         "mode": "markers",
         "name": "Charcoal",
         "orientation": "v",
         "showlegend": true,
         "x": [
          "Accessories",
          "Accessories",
          "Accessories",
          "Accessories",
          "Clothing",
          "Clothing",
          "Clothing",
          "Clothing",
          "Footwear",
          "Footwear",
          "Footwear",
          "Outerwear",
          "Outerwear",
          "Outerwear",
          "Outerwear"
         ],
         "xaxis": "x",
         "y": [
          "L",
          "M",
          "S",
          "XL",
          "L",
          "M",
          "S",
          "XL",
          "L",
          "M",
          "S",
          "L",
          "M",
          "S",
          "XL"
         ],
         "yaxis": "y",
         "type": "scatter"
        },
        {
         "customdata": [
          [
           10
          ],
          [
           18
          ],
          [
           13
          ],
          [
           6
          ],
          [
           26
          ],
          [
           30
          ],
          [
           16
          ],
          [
           4
          ],
          [
           6
          ],
          [
           11
          ],
          [
           5
          ],
          [
           5
          ],
          [
           6
          ],
          [
           6
          ],
          [
           1
          ],
          [
           3
          ]
         ],
         "hovertemplate": "Category: %{x}<br>Size: %{y}<br>Color: %{marker.color}<br>Count: %{marker.size}<br><extra></extra>",
         "legendgroup": "Cyan",
         "marker": {
          "color": "#FF6692",
          "size": [
           10,
           18,
           13,
           6,
           26,
           30,
           16,
           4,
           6,
           11,
           5,
           5,
           6,
           6,
           1,
           3
          ],
          "sizemode": "area",
          "sizeref": 0.012222222222222223,
          "symbol": "circle"
         },
         "mode": "markers",
         "name": "Cyan",
         "orientation": "v",
         "showlegend": true,
         "x": [
          "Accessories",
          "Accessories",
          "Accessories",
          "Accessories",
          "Clothing",
          "Clothing",
          "Clothing",
          "Clothing",
          "Footwear",
          "Footwear",
          "Footwear",
          "Footwear",
          "Outerwear",
          "Outerwear",
          "Outerwear",
          "Outerwear"
         ],
         "xaxis": "x",
         "y": [
          "L",
          "M",
          "S",
          "XL",
          "L",
          "M",
          "S",
          "XL",
          "L",
          "M",
          "S",
          "XL",
          "L",
          "M",
          "S",
          "XL"
         ],
         "yaxis": "y",
         "type": "scatter"
        },
        {
         "customdata": [
          [
           8
          ],
          [
           19
          ],
          [
           10
          ],
          [
           4
          ],
          [
           21
          ],
          [
           28
          ],
          [
           7
          ],
          [
           6
          ],
          [
           7
          ],
          [
           13
          ],
          [
           3
          ],
          [
           1
          ],
          [
           2
          ],
          [
           6
          ],
          [
           2
          ],
          [
           1
          ]
         ],
         "hovertemplate": "Category: %{x}<br>Size: %{y}<br>Color: %{marker.color}<br>Count: %{marker.size}<br><extra></extra>",
         "legendgroup": "Gold",
         "marker": {
          "color": "#B6E880",
          "size": [
           8,
           19,
           10,
           4,
           21,
           28,
           7,
           6,
           7,
           13,
           3,
           1,
           2,
           6,
           2,
           1
          ],
          "sizemode": "area",
          "sizeref": 0.012222222222222223,
          "symbol": "circle"
         },
         "mode": "markers",
         "name": "Gold",
         "orientation": "v",
         "showlegend": true,
         "x": [
          "Accessories",
          "Accessories",
          "Accessories",
          "Accessories",
          "Clothing",
          "Clothing",
          "Clothing",
          "Clothing",
          "Footwear",
          "Footwear",
          "Footwear",
          "Footwear",
          "Outerwear",
          "Outerwear",
          "Outerwear",
          "Outerwear"
         ],
         "xaxis": "x",
         "y": [
          "L",
          "M",
          "S",
          "XL",
          "L",
          "M",
          "S",
          "XL",
          "L",
          "M",
          "S",
          "XL",
          "L",
          "M",
          "S",
          "XL"
         ],
         "yaxis": "y",
         "type": "scatter"
        },
        {
         "customdata": [
          [
           13
          ],
          [
           28
          ],
          [
           13
          ],
          [
           5
          ],
          [
           13
          ],
          [
           33
          ],
          [
           9
          ],
          [
           7
          ],
          [
           8
          ],
          [
           9
          ],
          [
           3
          ],
          [
           3
          ],
          [
           6
          ],
          [
           8
          ],
          [
           1
          ]
         ],
         "hovertemplate": "Category: %{x}<br>Size: %{y}<br>Color: %{marker.color}<br>Count: %{marker.size}<br><extra></extra>",
         "legendgroup": "Gray",
         "marker": {
          "color": "#808080",
          "size": [
           13,
           28,
           13,
           5,
           13,
           33,
           9,
           7,
           8,
           9,
           3,
           3,
           6,
           8,
           1
          ],
          "sizemode": "area",
          "sizeref": 0.012222222222222223,
          "symbol": "circle"
         },
         "mode": "markers",
         "name": "Gray",
         "orientation": "v",
         "showlegend": true,
         "x": [
          "Accessories",
          "Accessories",
          "Accessories",
          "Accessories",
          "Clothing",
          "Clothing",
          "Clothing",
          "Clothing",
          "Footwear",
          "Footwear",
          "Footwear",
          "Footwear",
          "Outerwear",
          "Outerwear",
          "Outerwear"
         ],
         "xaxis": "x",
         "y": [
          "L",
          "M",
          "S",
          "XL",
          "L",
          "M",
          "S",
          "XL",
          "L",
          "M",
          "S",
          "XL",
          "L",
          "M",
          "S"
         ],
         "yaxis": "y",
         "type": "scatter"
        },
        {
         "customdata": [
          [
           13
          ],
          [
           26
          ],
          [
           9
          ],
          [
           5
          ],
          [
           30
          ],
          [
           29
          ],
          [
           6
          ],
          [
           13
          ],
          [
           9
          ],
          [
           11
          ],
          [
           3
          ],
          [
           1
          ],
          [
           3
          ],
          [
           4
          ],
          [
           5
          ],
          [
           2
          ]
         ],
         "hovertemplate": "Category: %{x}<br>Size: %{y}<br>Color: %{marker.color}<br>Count: %{marker.size}<br><extra></extra>",
         "legendgroup": "Green",
         "marker": {
          "color": "#008000",
          "size": [
           13,
           26,
           9,
           5,
           30,
           29,
           6,
           13,
           9,
           11,
           3,
           1,
           3,
           4,
           5,
           2
          ],
          "sizemode": "area",
          "sizeref": 0.012222222222222223,
          "symbol": "circle"
         },
         "mode": "markers",
         "name": "Green",
         "orientation": "v",
         "showlegend": true,
         "x": [
          "Accessories",
          "Accessories",
          "Accessories",
          "Accessories",
          "Clothing",
          "Clothing",
          "Clothing",
          "Clothing",
          "Footwear",
          "Footwear",
          "Footwear",
          "Footwear",
          "Outerwear",
          "Outerwear",
          "Outerwear",
          "Outerwear"
         ],
         "xaxis": "x",
         "y": [
          "L",
          "M",
          "S",
          "XL",
          "L",
          "M",
          "S",
          "XL",
          "L",
          "M",
          "S",
          "XL",
          "L",
          "M",
          "S",
          "XL"
         ],
         "yaxis": "y",
         "type": "scatter"
        },
        {
         "customdata": [
          [
           13
          ],
          [
           26
          ],
          [
           7
          ],
          [
           6
          ],
          [
           15
          ],
          [
           27
          ],
          [
           13
          ],
          [
           4
          ],
          [
           5
          ],
          [
           15
          ],
          [
           2
          ],
          [
           3
          ],
          [
           2
          ],
          [
           5
          ],
          [
           3
          ],
          [
           1
          ]
         ],
         "hovertemplate": "Category: %{x}<br>Size: %{y}<br>Color: %{marker.color}<br>Count: %{marker.size}<br><extra></extra>",
         "legendgroup": "Indigo",
         "marker": {
          "color": "#FF97FF",
          "size": [
           13,
           26,
           7,
           6,
           15,
           27,
           13,
           4,
           5,
           15,
           2,
           3,
           2,
           5,
           3,
           1
          ],
          "sizemode": "area",
          "sizeref": 0.012222222222222223,
          "symbol": "circle"
         },
         "mode": "markers",
         "name": "Indigo",
         "orientation": "v",
         "showlegend": true,
         "x": [
          "Accessories",
          "Accessories",
          "Accessories",
          "Accessories",
          "Clothing",
          "Clothing",
          "Clothing",
          "Clothing",
          "Footwear",
          "Footwear",
          "Footwear",
          "Footwear",
          "Outerwear",
          "Outerwear",
          "Outerwear",
          "Outerwear"
         ],
         "xaxis": "x",
         "y": [
          "L",
          "M",
          "S",
          "XL",
          "L",
          "M",
          "S",
          "XL",
          "L",
          "M",
          "S",
          "XL",
          "L",
          "M",
          "S",
          "XL"
         ],
         "yaxis": "y",
         "type": "scatter"
        },
        {
         "customdata": [
          [
           15
          ],
          [
           24
          ],
          [
           6
          ],
          [
           4
          ],
          [
           15
          ],
          [
           24
          ],
          [
           16
          ],
          [
           5
          ],
          [
           7
          ],
          [
           13
          ],
          [
           1
          ],
          [
           1
          ],
          [
           4
          ],
          [
           4
          ],
          [
           4
          ],
          [
           4
          ]
         ],
         "hovertemplate": "Category: %{x}<br>Size: %{y}<br>Color: %{marker.color}<br>Count: %{marker.size}<br><extra></extra>",
         "legendgroup": "Lavender",
         "marker": {
          "color": "#FECB52",
          "size": [
           15,
           24,
           6,
           4,
           15,
           24,
           16,
           5,
           7,
           13,
           1,
           1,
           4,
           4,
           4,
           4
          ],
          "sizemode": "area",
          "sizeref": 0.012222222222222223,
          "symbol": "circle"
         },
         "mode": "markers",
         "name": "Lavender",
         "orientation": "v",
         "showlegend": true,
         "x": [
          "Accessories",
          "Accessories",
          "Accessories",
          "Accessories",
          "Clothing",
          "Clothing",
          "Clothing",
          "Clothing",
          "Footwear",
          "Footwear",
          "Footwear",
          "Footwear",
          "Outerwear",
          "Outerwear",
          "Outerwear",
          "Outerwear"
         ],
         "xaxis": "x",
         "y": [
          "L",
          "M",
          "S",
          "XL",
          "L",
          "M",
          "S",
          "XL",
          "L",
          "M",
          "S",
          "XL",
          "L",
          "M",
          "S",
          "XL"
         ],
         "yaxis": "y",
         "type": "scatter"
        },
        {
         "customdata": [
          [
           9
          ],
          [
           32
          ],
          [
           9
          ],
          [
           8
          ],
          [
           15
          ],
          [
           23
          ],
          [
           11
          ],
          [
           10
          ],
          [
           4
          ],
          [
           11
          ],
          [
           4
          ],
          [
           3
          ],
          [
           4
          ],
          [
           5
          ],
          [
           2
          ],
          [
           2
          ]
         ],
         "hovertemplate": "Category: %{x}<br>Size: %{y}<br>Color: %{marker.color}<br>Count: %{marker.size}<br><extra></extra>",
         "legendgroup": "Magenta",
         "marker": {
          "color": "#636efa",
          "size": [
           9,
           32,
           9,
           8,
           15,
           23,
           11,
           10,
           4,
           11,
           4,
           3,
           4,
           5,
           2,
           2
          ],
          "sizemode": "area",
          "sizeref": 0.012222222222222223,
          "symbol": "circle"
         },
         "mode": "markers",
         "name": "Magenta",
         "orientation": "v",
         "showlegend": true,
         "x": [
          "Accessories",
          "Accessories",
          "Accessories",
          "Accessories",
          "Clothing",
          "Clothing",
          "Clothing",
          "Clothing",
          "Footwear",
          "Footwear",
          "Footwear",
          "Footwear",
          "Outerwear",
          "Outerwear",
          "Outerwear",
          "Outerwear"
         ],
         "xaxis": "x",
         "y": [
          "L",
          "M",
          "S",
          "XL",
          "L",
          "M",
          "S",
          "XL",
          "L",
          "M",
          "S",
          "XL",
          "L",
          "M",
          "S",
          "XL"
         ],
         "yaxis": "y",
         "type": "scatter"
        },
        {
         "customdata": [
          [
           9
          ],
          [
           25
          ],
          [
           5
          ],
          [
           2
          ],
          [
           22
          ],
          [
           33
          ],
          [
           19
          ],
          [
           9
          ],
          [
           6
          ],
          [
           14
          ],
          [
           4
          ],
          [
           2
          ],
          [
           2
          ],
          [
           4
          ],
          [
           2
          ]
         ],
         "hovertemplate": "Category: %{x}<br>Size: %{y}<br>Color: %{marker.color}<br>Count: %{marker.size}<br><extra></extra>",
         "legendgroup": "Maroon",
         "marker": {
          "color": "#800000",
          "size": [
           9,
           25,
           5,
           2,
           22,
           33,
           19,
           9,
           6,
           14,
           4,
           2,
           2,
           4,
           2
          ],
          "sizemode": "area",
          "sizeref": 0.012222222222222223,
          "symbol": "circle"
         },
         "mode": "markers",
         "name": "Maroon",
         "orientation": "v",
         "showlegend": true,
         "x": [
          "Accessories",
          "Accessories",
          "Accessories",
          "Accessories",
          "Clothing",
          "Clothing",
          "Clothing",
          "Clothing",
          "Footwear",
          "Footwear",
          "Footwear",
          "Footwear",
          "Outerwear",
          "Outerwear",
          "Outerwear"
         ],
         "xaxis": "x",
         "y": [
          "L",
          "M",
          "S",
          "XL",
          "L",
          "M",
          "S",
          "XL",
          "L",
          "M",
          "S",
          "XL",
          "L",
          "M",
          "S"
         ],
         "yaxis": "y",
         "type": "scatter"
        },
        {
         "customdata": [
          [
           13
          ],
          [
           35
          ],
          [
           11
          ],
          [
           7
          ],
          [
           14
          ],
          [
           33
          ],
          [
           10
          ],
          [
           4
          ],
          [
           9
          ],
          [
           11
          ],
          [
           8
          ],
          [
           3
          ],
          [
           2
          ],
          [
           7
          ],
          [
           7
          ],
          [
           3
          ]
         ],
         "hovertemplate": "Category: %{x}<br>Size: %{y}<br>Color: %{marker.color}<br>Count: %{marker.size}<br><extra></extra>",
         "legendgroup": "Olive",
         "marker": {
          "color": "#EF553B",
          "size": [
           13,
           35,
           11,
           7,
           14,
           33,
           10,
           4,
           9,
           11,
           8,
           3,
           2,
           7,
           7,
           3
          ],
          "sizemode": "area",
          "sizeref": 0.012222222222222223,
          "symbol": "circle"
         },
         "mode": "markers",
         "name": "Olive",
         "orientation": "v",
         "showlegend": true,
         "x": [
          "Accessories",
          "Accessories",
          "Accessories",
          "Accessories",
          "Clothing",
          "Clothing",
          "Clothing",
          "Clothing",
          "Footwear",
          "Footwear",
          "Footwear",
          "Footwear",
          "Outerwear",
          "Outerwear",
          "Outerwear",
          "Outerwear"
         ],
         "xaxis": "x",
         "y": [
          "L",
          "M",
          "S",
          "XL",
          "L",
          "M",
          "S",
          "XL",
          "L",
          "M",
          "S",
          "XL",
          "L",
          "M",
          "S",
          "XL"
         ],
         "yaxis": "y",
         "type": "scatter"
        },
        {
         "customdata": [
          [
           8
          ],
          [
           18
          ],
          [
           12
          ],
          [
           6
          ],
          [
           22
          ],
          [
           44
          ],
          [
           5
          ],
          [
           7
          ],
          [
           8
          ],
          [
           9
          ],
          [
           4
          ],
          [
           3
          ],
          [
           4
          ],
          [
           3
          ],
          [
           1
          ]
         ],
         "hovertemplate": "Category: %{x}<br>Size: %{y}<br>Color: %{marker.color}<br>Count: %{marker.size}<br><extra></extra>",
         "legendgroup": "Orange",
         "marker": {
          "color": "#FFA500",
          "size": [
           8,
           18,
           12,
           6,
           22,
           44,
           5,
           7,
           8,
           9,
           4,
           3,
           4,
           3,
           1
          ],
          "sizemode": "area",
          "sizeref": 0.012222222222222223,
          "symbol": "circle"
         },
         "mode": "markers",
         "name": "Orange",
         "orientation": "v",
         "showlegend": true,
         "x": [
          "Accessories",
          "Accessories",
          "Accessories",
          "Accessories",
          "Clothing",
          "Clothing",
          "Clothing",
          "Clothing",
          "Footwear",
          "Footwear",
          "Footwear",
          "Footwear",
          "Outerwear",
          "Outerwear",
          "Outerwear"
         ],
         "xaxis": "x",
         "y": [
          "L",
          "M",
          "S",
          "XL",
          "L",
          "M",
          "S",
          "XL",
          "L",
          "M",
          "S",
          "XL",
          "L",
          "M",
          "S"
         ],
         "yaxis": "y",
         "type": "scatter"
        },
        {
         "customdata": [
          [
           17
          ],
          [
           23
          ],
          [
           14
          ],
          [
           4
          ],
          [
           11
          ],
          [
           37
          ],
          [
           10
          ],
          [
           7
          ],
          [
           5
          ],
          [
           6
          ],
          [
           3
          ],
          [
           4
          ],
          [
           1
          ],
          [
           4
          ],
          [
           3
          ]
         ],
         "hovertemplate": "Category: %{x}<br>Size: %{y}<br>Color: %{marker.color}<br>Count: %{marker.size}<br><extra></extra>",
         "legendgroup": "Peach",
         "marker": {
          "color": "#00cc96",
          "size": [
           17,
           23,
           14,
           4,
           11,
           37,
           10,
           7,
           5,
           6,
           3,
           4,
           1,
           4,
           3
          ],
          "sizemode": "area",
          "sizeref": 0.012222222222222223,
          "symbol": "circle"
         },
         "mode": "markers",
         "name": "Peach",
         "orientation": "v",
         "showlegend": true,
         "x": [
          "Accessories",
          "Accessories",
          "Accessories",
          "Accessories",
          "Clothing",
          "Clothing",
          "Clothing",
          "Clothing",
          "Footwear",
          "Footwear",
          "Footwear",
          "Footwear",
          "Outerwear",
          "Outerwear",
          "Outerwear"
         ],
         "xaxis": "x",
         "y": [
          "L",
          "M",
          "S",
          "XL",
          "L",
          "M",
          "S",
          "XL",
          "L",
          "M",
          "S",
          "XL",
          "L",
          "M",
          "S"
         ],
         "yaxis": "y",
         "type": "scatter"
        },
        {
         "customdata": [
          [
           12
          ],
          [
           17
          ],
          [
           6
          ],
          [
           4
          ],
          [
           25
          ],
          [
           30
          ],
          [
           11
          ],
          [
           7
          ],
          [
           10
          ],
          [
           11
          ],
          [
           2
          ],
          [
           5
          ],
          [
           5
          ],
          [
           5
          ],
          [
           2
          ],
          [
           1
          ]
         ],
         "hovertemplate": "Category: %{x}<br>Size: %{y}<br>Color: %{marker.color}<br>Count: %{marker.size}<br><extra></extra>",
         "legendgroup": "Pink",
         "marker": {
          "color": "#FFC0CB",
          "size": [
           12,
           17,
           6,
           4,
           25,
           30,
           11,
           7,
           10,
           11,
           2,
           5,
           5,
           5,
           2,
           1
          ],
          "sizemode": "area",
          "sizeref": 0.012222222222222223,
          "symbol": "circle"
         },
         "mode": "markers",
         "name": "Pink",
         "orientation": "v",
         "showlegend": true,
         "x": [
          "Accessories",
          "Accessories",
          "Accessories",
          "Accessories",
          "Clothing",
          "Clothing",
          "Clothing",
          "Clothing",
          "Footwear",
          "Footwear",
          "Footwear",
          "Footwear",
          "Outerwear",
          "Outerwear",
          "Outerwear",
          "Outerwear"
         ],
         "xaxis": "x",
         "y": [
          "L",
          "M",
          "S",
          "XL",
          "L",
          "M",
          "S",
          "XL",
          "L",
          "M",
          "S",
          "XL",
          "L",
          "M",
          "S",
          "XL"
         ],
         "yaxis": "y",
         "type": "scatter"
        },
        {
         "customdata": [
          [
           3
          ],
          [
           20
          ],
          [
           11
          ],
          [
           6
          ],
          [
           26
          ],
          [
           25
          ],
          [
           14
          ],
          [
           7
          ],
          [
           6
          ],
          [
           12
          ],
          [
           2
          ],
          [
           7
          ],
          [
           4
          ],
          [
           5
          ],
          [
           2
          ],
          [
           1
          ]
         ],
         "hovertemplate": "Category: %{x}<br>Size: %{y}<br>Color: %{marker.color}<br>Count: %{marker.size}<br><extra></extra>",
         "legendgroup": "Purple",
         "marker": {
          "color": "#800080",
          "size": [
           3,
           20,
           11,
           6,
           26,
           25,
           14,
           7,
           6,
           12,
           2,
           7,
           4,
           5,
           2,
           1
          ],
          "sizemode": "area",
          "sizeref": 0.012222222222222223,
          "symbol": "circle"
         },
         "mode": "markers",
         "name": "Purple",
         "orientation": "v",
         "showlegend": true,
         "x": [
          "Accessories",
          "Accessories",
          "Accessories",
          "Accessories",
          "Clothing",
          "Clothing",
          "Clothing",
          "Clothing",
          "Footwear",
          "Footwear",
          "Footwear",
          "Footwear",
          "Outerwear",
          "Outerwear",
          "Outerwear",
          "Outerwear"
         ],
         "xaxis": "x",
         "y": [
          "L",
          "M",
          "S",
          "XL",
          "L",
          "M",
          "S",
          "XL",
          "L",
          "M",
          "S",
          "XL",
          "L",
          "M",
          "S",
          "XL"
         ],
         "yaxis": "y",
         "type": "scatter"
        },
        {
         "customdata": [
          [
           17
          ],
          [
           19
          ],
          [
           10
          ],
          [
           8
          ],
          [
           15
          ],
          [
           34
          ],
          [
           11
          ],
          [
           8
          ],
          [
           5
          ],
          [
           7
          ],
          [
           2
          ],
          [
           2
          ],
          [
           4
          ],
          [
           5
          ],
          [
           1
          ]
         ],
         "hovertemplate": "Category: %{x}<br>Size: %{y}<br>Color: %{marker.color}<br>Count: %{marker.size}<br><extra></extra>",
         "legendgroup": "Red",
         "marker": {
          "color": "#FF0000",
          "size": [
           17,
           19,
           10,
           8,
           15,
           34,
           11,
           8,
           5,
           7,
           2,
           2,
           4,
           5,
           1
          ],
          "sizemode": "area",
          "sizeref": 0.012222222222222223,
          "symbol": "circle"
         },
         "mode": "markers",
         "name": "Red",
         "orientation": "v",
         "showlegend": true,
         "x": [
          "Accessories",
          "Accessories",
          "Accessories",
          "Accessories",
          "Clothing",
          "Clothing",
          "Clothing",
          "Clothing",
          "Footwear",
          "Footwear",
          "Footwear",
          "Footwear",
          "Outerwear",
          "Outerwear",
          "Outerwear"
         ],
         "xaxis": "x",
         "y": [
          "L",
          "M",
          "S",
          "XL",
          "L",
          "M",
          "S",
          "XL",
          "L",
          "M",
          "S",
          "XL",
          "L",
          "M",
          "S"
         ],
         "yaxis": "y",
         "type": "scatter"
        },
        {
         "customdata": [
          [
           15
          ],
          [
           22
          ],
          [
           12
          ],
          [
           2
          ],
          [
           19
          ],
          [
           39
          ],
          [
           13
          ],
          [
           9
          ],
          [
           8
          ],
          [
           13
          ],
          [
           4
          ],
          [
           3
          ],
          [
           5
          ],
          [
           5
          ],
          [
           3
          ],
          [
           1
          ]
         ],
         "hovertemplate": "Category: %{x}<br>Size: %{y}<br>Color: %{marker.color}<br>Count: %{marker.size}<br><extra></extra>",
         "legendgroup": "Silver",
         "marker": {
          "color": "#ab63fa",
          "size": [
           15,
           22,
           12,
           2,
           19,
           39,
           13,
           9,
           8,
           13,
           4,
           3,
           5,
           5,
           3,
           1
          ],
          "sizemode": "area",
          "sizeref": 0.012222222222222223,
          "symbol": "circle"
         },
         "mode": "markers",
         "name": "Silver",
         "orientation": "v",
         "showlegend": true,
         "x": [
          "Accessories",
          "Accessories",
          "Accessories",
          "Accessories",
          "Clothing",
          "Clothing",
          "Clothing",
          "Clothing",
          "Footwear",
          "Footwear",
          "Footwear",
          "Footwear",
          "Outerwear",
          "Outerwear",
          "Outerwear",
          "Outerwear"
         ],
         "xaxis": "x",
         "y": [
          "L",
          "M",
          "S",
          "XL",
          "L",
          "M",
          "S",
          "XL",
          "L",
          "M",
          "S",
          "XL",
          "L",
          "M",
          "S",
          "XL"
         ],
         "yaxis": "y",
         "type": "scatter"
        },
        {
         "customdata": [
          [
           19
          ],
          [
           12
          ],
          [
           10
          ],
          [
           6
          ],
          [
           21
          ],
          [
           41
          ],
          [
           13
          ],
          [
           9
          ],
          [
           7
          ],
          [
           10
          ],
          [
           6
          ],
          [
           4
          ],
          [
           7
          ],
          [
           7
          ]
         ],
         "hovertemplate": "Category: %{x}<br>Size: %{y}<br>Color: %{marker.color}<br>Count: %{marker.size}<br><extra></extra>",
         "legendgroup": "Teal",
         "marker": {
          "color": "#FFA15A",
          "size": [
           19,
           12,
           10,
           6,
           21,
           41,
           13,
           9,
           7,
           10,
           6,
           4,
           7,
           7
          ],
          "sizemode": "area",
          "sizeref": 0.012222222222222223,
          "symbol": "circle"
         },
         "mode": "markers",
         "name": "Teal",
         "orientation": "v",
         "showlegend": true,
         "x": [
          "Accessories",
          "Accessories",
          "Accessories",
          "Accessories",
          "Clothing",
          "Clothing",
          "Clothing",
          "Clothing",
          "Footwear",
          "Footwear",
          "Footwear",
          "Footwear",
          "Outerwear",
          "Outerwear"
         ],
         "xaxis": "x",
         "y": [
          "L",
          "M",
          "S",
          "XL",
          "L",
          "M",
          "S",
          "XL",
          "L",
          "M",
          "S",
          "XL",
          "L",
          "M"
         ],
         "yaxis": "y",
         "type": "scatter"
        },
        {
         "customdata": [
          [
           13
          ],
          [
           19
          ],
          [
           10
          ],
          [
           8
          ],
          [
           21
          ],
          [
           23
          ],
          [
           13
          ],
          [
           8
          ],
          [
           5
          ],
          [
           9
          ],
          [
           1
          ],
          [
           2
          ],
          [
           5
          ],
          [
           7
          ],
          [
           1
          ]
         ],
         "hovertemplate": "Category: %{x}<br>Size: %{y}<br>Color: %{marker.color}<br>Count: %{marker.size}<br><extra></extra>",
         "legendgroup": "Turquoise",
         "marker": {
          "color": "#40E0D0",
          "size": [
           13,
           19,
           10,
           8,
           21,
           23,
           13,
           8,
           5,
           9,
           1,
           2,
           5,
           7,
           1
          ],
          "sizemode": "area",
          "sizeref": 0.012222222222222223,
          "symbol": "circle"
         },
         "mode": "markers",
         "name": "Turquoise",
         "orientation": "v",
         "showlegend": true,
         "x": [
          "Accessories",
          "Accessories",
          "Accessories",
          "Accessories",
          "Clothing",
          "Clothing",
          "Clothing",
          "Clothing",
          "Footwear",
          "Footwear",
          "Footwear",
          "Footwear",
          "Outerwear",
          "Outerwear",
          "Outerwear"
         ],
         "xaxis": "x",
         "y": [
          "L",
          "M",
          "S",
          "XL",
          "L",
          "M",
          "S",
          "XL",
          "L",
          "M",
          "S",
          "XL",
          "L",
          "M",
          "S"
         ],
         "yaxis": "y",
         "type": "scatter"
        },
        {
         "customdata": [
          [
           12
          ],
          [
           18
          ],
          [
           6
          ],
          [
           5
          ],
          [
           19
          ],
          [
           42
          ],
          [
           11
          ],
          [
           7
          ],
          [
           7
          ],
          [
           17
          ],
          [
           4
          ],
          [
           2
          ],
          [
           4
          ],
          [
           10
          ],
          [
           2
          ]
         ],
         "hovertemplate": "Category: %{x}<br>Size: %{y}<br>Color: %{marker.color}<br>Count: %{marker.size}<br><extra></extra>",
         "legendgroup": "Violet",
         "marker": {
          "color": "#19d3f3",
          "size": [
           12,
           18,
           6,
           5,
           19,
           42,
           11,
           7,
           7,
           17,
           4,
           2,
           4,
           10,
           2
          ],
          "sizemode": "area",
          "sizeref": 0.012222222222222223,
          "symbol": "circle"
         },
         "mode": "markers",
         "name": "Violet",
         "orientation": "v",
         "showlegend": true,
         "x": [
          "Accessories",
          "Accessories",
          "Accessories",
          "Accessories",
          "Clothing",
          "Clothing",
          "Clothing",
          "Clothing",
          "Footwear",
          "Footwear",
          "Footwear",
          "Footwear",
          "Outerwear",
          "Outerwear",
          "Outerwear"
         ],
         "xaxis": "x",
         "y": [
          "L",
          "M",
          "S",
          "XL",
          "L",
          "M",
          "S",
          "XL",
          "L",
          "M",
          "S",
          "XL",
          "L",
          "M",
          "S"
         ],
         "yaxis": "y",
         "type": "scatter"
        },
        {
         "customdata": [
          [
           10
          ],
          [
           21
          ],
          [
           5
          ],
          [
           5
          ],
          [
           13
          ],
          [
           37
          ],
          [
           8
          ],
          [
           11
          ],
          [
           3
          ],
          [
           8
          ],
          [
           4
          ],
          [
           2
          ],
          [
           4
          ],
          [
           5
          ],
          [
           4
          ],
          [
           2
          ]
         ],
         "hovertemplate": "Category: %{x}<br>Size: %{y}<br>Color: %{marker.color}<br>Count: %{marker.size}<br><extra></extra>",
         "legendgroup": "White",
         "marker": {
          "color": "#FFFFFF",
          "size": [
           10,
           21,
           5,
           5,
           13,
           37,
           8,
           11,
           3,
           8,
           4,
           2,
           4,
           5,
           4,
           2
          ],
          "sizemode": "area",
          "sizeref": 0.012222222222222223,
          "symbol": "circle",
          "line": {
           "color": "black",
           "width": 1
          }
         },
         "mode": "markers",
         "name": "White",
         "orientation": "v",
         "showlegend": true,
         "x": [
          "Accessories",
          "Accessories",
          "Accessories",
          "Accessories",
          "Clothing",
          "Clothing",
          "Clothing",
          "Clothing",
          "Footwear",
          "Footwear",
          "Footwear",
          "Footwear",
          "Outerwear",
          "Outerwear",
          "Outerwear",
          "Outerwear"
         ],
         "xaxis": "x",
         "y": [
          "L",
          "M",
          "S",
          "XL",
          "L",
          "M",
          "S",
          "XL",
          "L",
          "M",
          "S",
          "XL",
          "L",
          "M",
          "S",
          "XL"
         ],
         "yaxis": "y",
         "type": "scatter"
        },
        {
         "customdata": [
          [
           17
          ],
          [
           20
          ],
          [
           13
          ],
          [
           6
          ],
          [
           28
          ],
          [
           27
          ],
          [
           7
          ],
          [
           13
          ],
          [
           13
          ],
          [
           10
          ],
          [
           6
          ],
          [
           1
          ],
          [
           1
          ],
          [
           7
          ],
          [
           3
          ],
          [
           2
          ]
         ],
         "hovertemplate": "Category: %{x}<br>Size: %{y}<br>Color: %{marker.color}<br>Count: %{marker.size}<br><extra></extra>",
         "legendgroup": "Yellow",
         "marker": {
          "color": "#FFFF00",
          "size": [
           17,
           20,
           13,
           6,
           28,
           27,
           7,
           13,
           13,
           10,
           6,
           1,
           1,
           7,
           3,
           2
          ],
          "sizemode": "area",
          "sizeref": 0.012222222222222223,
          "symbol": "circle"
         },
         "mode": "markers",
         "name": "Yellow",
         "orientation": "v",
         "showlegend": true,
         "x": [
          "Accessories",
          "Accessories",
          "Accessories",
          "Accessories",
          "Clothing",
          "Clothing",
          "Clothing",
          "Clothing",
          "Footwear",
          "Footwear",
          "Footwear",
          "Footwear",
          "Outerwear",
          "Outerwear",
          "Outerwear",
          "Outerwear"
         ],
         "xaxis": "x",
         "y": [
          "L",
          "M",
          "S",
          "XL",
          "L",
          "M",
          "S",
          "XL",
          "L",
          "M",
          "S",
          "XL",
          "L",
          "M",
          "S",
          "XL"
         ],
         "yaxis": "y",
         "type": "scatter"
        }
       ],
       "layout": {
        "template": {
         "data": {
          "histogram2dcontour": [
           {
            "type": "histogram2dcontour",
            "colorbar": {
             "outlinewidth": 0,
             "ticks": ""
            },
            "colorscale": [
             [
              0.0,
              "#0d0887"
             ],
             [
              0.1111111111111111,
              "#46039f"
             ],
             [
              0.2222222222222222,
              "#7201a8"
             ],
             [
              0.3333333333333333,
              "#9c179e"
             ],
             [
              0.4444444444444444,
              "#bd3786"
             ],
             [
              0.5555555555555556,
              "#d8576b"
             ],
             [
              0.6666666666666666,
              "#ed7953"
             ],
             [
              0.7777777777777778,
              "#fb9f3a"
             ],
             [
              0.8888888888888888,
              "#fdca26"
             ],
             [
              1.0,
              "#f0f921"
             ]
            ]
           }
          ],
          "choropleth": [
           {
            "type": "choropleth",
            "colorbar": {
             "outlinewidth": 0,
             "ticks": ""
            }
           }
          ],
          "histogram2d": [
           {
            "type": "histogram2d",
            "colorbar": {
             "outlinewidth": 0,
             "ticks": ""
            },
            "colorscale": [
             [
              0.0,
              "#0d0887"
             ],
             [
              0.1111111111111111,
              "#46039f"
             ],
             [
              0.2222222222222222,
              "#7201a8"
             ],
             [
              0.3333333333333333,
              "#9c179e"
             ],
             [
              0.4444444444444444,
              "#bd3786"
             ],
             [
              0.5555555555555556,
              "#d8576b"
             ],
             [
              0.6666666666666666,
              "#ed7953"
             ],
             [
              0.7777777777777778,
              "#fb9f3a"
             ],
             [
              0.8888888888888888,
              "#fdca26"
             ],
             [
              1.0,
              "#f0f921"
             ]
            ]
           }
          ],
          "heatmap": [
           {
            "type": "heatmap",
            "colorbar": {
             "outlinewidth": 0,
             "ticks": ""
            },
            "colorscale": [
             [
              0.0,
              "#0d0887"
             ],
             [
              0.1111111111111111,
              "#46039f"
             ],
             [
              0.2222222222222222,
              "#7201a8"
             ],
             [
              0.3333333333333333,
              "#9c179e"
             ],
             [
              0.4444444444444444,
              "#bd3786"
             ],
             [
              0.5555555555555556,
              "#d8576b"
             ],
             [
              0.6666666666666666,
              "#ed7953"
             ],
             [
              0.7777777777777778,
              "#fb9f3a"
             ],
             [
              0.8888888888888888,
              "#fdca26"
             ],
             [
              1.0,
              "#f0f921"
             ]
            ]
           }
          ],
          "heatmapgl": [
           {
            "type": "heatmapgl",
            "colorbar": {
             "outlinewidth": 0,
             "ticks": ""
            },
            "colorscale": [
             [
              0.0,
              "#0d0887"
             ],
             [
              0.1111111111111111,
              "#46039f"
             ],
             [
              0.2222222222222222,
              "#7201a8"
             ],
             [
              0.3333333333333333,
              "#9c179e"
             ],
             [
              0.4444444444444444,
              "#bd3786"
             ],
             [
              0.5555555555555556,
              "#d8576b"
             ],
             [
              0.6666666666666666,
              "#ed7953"
             ],
             [
              0.7777777777777778,
              "#fb9f3a"
             ],
             [
              0.8888888888888888,
              "#fdca26"
             ],
             [
              1.0,
              "#f0f921"
             ]
            ]
           }
          ],
          "contourcarpet": [
           {
            "type": "contourcarpet",
            "colorbar": {
             "outlinewidth": 0,
             "ticks": ""
            }
           }
          ],
          "contour": [
           {
            "type": "contour",
            "colorbar": {
             "outlinewidth": 0,
             "ticks": ""
            },
            "colorscale": [
             [
              0.0,
              "#0d0887"
             ],
             [
              0.1111111111111111,
              "#46039f"
             ],
             [
              0.2222222222222222,
              "#7201a8"
             ],
             [
              0.3333333333333333,
              "#9c179e"
             ],
             [
              0.4444444444444444,
              "#bd3786"
             ],
             [
              0.5555555555555556,
              "#d8576b"
             ],
             [
              0.6666666666666666,
              "#ed7953"
             ],
             [
              0.7777777777777778,
              "#fb9f3a"
             ],
             [
              0.8888888888888888,
              "#fdca26"
             ],
             [
              1.0,
              "#f0f921"
             ]
            ]
           }
          ],
          "surface": [
           {
            "type": "surface",
            "colorbar": {
             "outlinewidth": 0,
             "ticks": ""
            },
            "colorscale": [
             [
              0.0,
              "#0d0887"
             ],
             [
              0.1111111111111111,
              "#46039f"
             ],
             [
              0.2222222222222222,
              "#7201a8"
             ],
             [
              0.3333333333333333,
              "#9c179e"
             ],
             [
              0.4444444444444444,
              "#bd3786"
             ],
             [
              0.5555555555555556,
              "#d8576b"
             ],
             [
              0.6666666666666666,
              "#ed7953"
             ],
             [
              0.7777777777777778,
              "#fb9f3a"
             ],
             [
              0.8888888888888888,
              "#fdca26"
             ],
             [
              1.0,
              "#f0f921"
             ]
            ]
           }
          ],
          "mesh3d": [
           {
            "type": "mesh3d",
            "colorbar": {
             "outlinewidth": 0,
             "ticks": ""
            }
           }
          ],
          "scatter": [
           {
            "marker": {
             "line": {
              "color": "#283442"
             }
            },
            "type": "scatter"
           }
          ],
          "parcoords": [
           {
            "type": "parcoords",
            "line": {
             "colorbar": {
              "outlinewidth": 0,
              "ticks": ""
             }
            }
           }
          ],
          "scatterpolargl": [
           {
            "type": "scatterpolargl",
            "marker": {
             "colorbar": {
              "outlinewidth": 0,
              "ticks": ""
             }
            }
           }
          ],
          "bar": [
           {
            "error_x": {
             "color": "#f2f5fa"
            },
            "error_y": {
             "color": "#f2f5fa"
            },
            "marker": {
             "line": {
              "color": "rgb(17,17,17)",
              "width": 0.5
             },
             "pattern": {
              "fillmode": "overlay",
              "size": 10,
              "solidity": 0.2
             }
            },
            "type": "bar"
           }
          ],
          "scattergeo": [
           {
            "type": "scattergeo",
            "marker": {
             "colorbar": {
              "outlinewidth": 0,
              "ticks": ""
             }
            }
           }
          ],
          "scatterpolar": [
           {
            "type": "scatterpolar",
            "marker": {
             "colorbar": {
              "outlinewidth": 0,
              "ticks": ""
             }
            }
           }
          ],
          "histogram": [
           {
            "marker": {
             "pattern": {
              "fillmode": "overlay",
              "size": 10,
              "solidity": 0.2
             }
            },
            "type": "histogram"
           }
          ],
          "scattergl": [
           {
            "marker": {
             "line": {
              "color": "#283442"
             }
            },
            "type": "scattergl"
           }
          ],
          "scatter3d": [
           {
            "type": "scatter3d",
            "line": {
             "colorbar": {
              "outlinewidth": 0,
              "ticks": ""
             }
            },
            "marker": {
             "colorbar": {
              "outlinewidth": 0,
              "ticks": ""
             }
            }
           }
          ],
          "scattermapbox": [
           {
            "type": "scattermapbox",
            "marker": {
             "colorbar": {
              "outlinewidth": 0,
              "ticks": ""
             }
            }
           }
          ],
          "scatterternary": [
           {
            "type": "scatterternary",
            "marker": {
             "colorbar": {
              "outlinewidth": 0,
              "ticks": ""
             }
            }
           }
          ],
          "scattercarpet": [
           {
            "type": "scattercarpet",
            "marker": {
             "colorbar": {
              "outlinewidth": 0,
              "ticks": ""
             }
            }
           }
          ],
          "carpet": [
           {
            "aaxis": {
             "endlinecolor": "#A2B1C6",
             "gridcolor": "#506784",
             "linecolor": "#506784",
             "minorgridcolor": "#506784",
             "startlinecolor": "#A2B1C6"
            },
            "baxis": {
             "endlinecolor": "#A2B1C6",
             "gridcolor": "#506784",
             "linecolor": "#506784",
             "minorgridcolor": "#506784",
             "startlinecolor": "#A2B1C6"
            },
            "type": "carpet"
           }
          ],
          "table": [
           {
            "cells": {
             "fill": {
              "color": "#506784"
             },
             "line": {
              "color": "rgb(17,17,17)"
             }
            },
            "header": {
             "fill": {
              "color": "#2a3f5f"
             },
             "line": {
              "color": "rgb(17,17,17)"
             }
            },
            "type": "table"
           }
          ],
          "barpolar": [
           {
            "marker": {
             "line": {
              "color": "rgb(17,17,17)",
              "width": 0.5
             },
             "pattern": {
              "fillmode": "overlay",
              "size": 10,
              "solidity": 0.2
             }
            },
            "type": "barpolar"
           }
          ],
          "pie": [
           {
            "automargin": true,
            "type": "pie"
           }
          ]
         },
         "layout": {
          "autotypenumbers": "strict",
          "colorway": [
           "#636efa",
           "#EF553B",
           "#00cc96",
           "#ab63fa",
           "#FFA15A",
           "#19d3f3",
           "#FF6692",
           "#B6E880",
           "#FF97FF",
           "#FECB52"
          ],
          "font": {
           "color": "#f2f5fa"
          },
          "hovermode": "closest",
          "hoverlabel": {
           "align": "left"
          },
          "paper_bgcolor": "rgb(17,17,17)",
          "plot_bgcolor": "rgb(17,17,17)",
          "polar": {
           "bgcolor": "rgb(17,17,17)",
           "angularaxis": {
            "gridcolor": "#506784",
            "linecolor": "#506784",
            "ticks": ""
           },
           "radialaxis": {
            "gridcolor": "#506784",
            "linecolor": "#506784",
            "ticks": ""
           }
          },
          "ternary": {
           "bgcolor": "rgb(17,17,17)",
           "aaxis": {
            "gridcolor": "#506784",
            "linecolor": "#506784",
            "ticks": ""
           },
           "baxis": {
            "gridcolor": "#506784",
            "linecolor": "#506784",
            "ticks": ""
           },
           "caxis": {
            "gridcolor": "#506784",
            "linecolor": "#506784",
            "ticks": ""
           }
          },
          "coloraxis": {
           "colorbar": {
            "outlinewidth": 0,
            "ticks": ""
           }
          },
          "colorscale": {
           "sequential": [
            [
             0.0,
             "#0d0887"
            ],
            [
             0.1111111111111111,
             "#46039f"
            ],
            [
             0.2222222222222222,
             "#7201a8"
            ],
            [
             0.3333333333333333,
             "#9c179e"
            ],
            [
             0.4444444444444444,
             "#bd3786"
            ],
            [
             0.5555555555555556,
             "#d8576b"
            ],
            [
             0.6666666666666666,
             "#ed7953"
            ],
            [
             0.7777777777777778,
             "#fb9f3a"
            ],
            [
             0.8888888888888888,
             "#fdca26"
            ],
            [
             1.0,
             "#f0f921"
            ]
           ],
           "sequentialminus": [
            [
             0.0,
             "#0d0887"
            ],
            [
             0.1111111111111111,
             "#46039f"
            ],
            [
             0.2222222222222222,
             "#7201a8"
            ],
            [
             0.3333333333333333,
             "#9c179e"
            ],
            [
             0.4444444444444444,
             "#bd3786"
            ],
            [
             0.5555555555555556,
             "#d8576b"
            ],
            [
             0.6666666666666666,
             "#ed7953"
            ],
            [
             0.7777777777777778,
             "#fb9f3a"
            ],
            [
             0.8888888888888888,
             "#fdca26"
            ],
            [
             1.0,
             "#f0f921"
            ]
           ],
           "diverging": [
            [
             0,
             "#8e0152"
            ],
            [
             0.1,
             "#c51b7d"
            ],
            [
             0.2,
             "#de77ae"
            ],
            [
             0.3,
             "#f1b6da"
            ],
            [
             0.4,
             "#fde0ef"
            ],
            [
             0.5,
             "#f7f7f7"
            ],
            [
             0.6,
             "#e6f5d0"
            ],
            [
             0.7,
             "#b8e186"
            ],
            [
             0.8,
             "#7fbc41"
            ],
            [
             0.9,
             "#4d9221"
            ],
            [
             1,
             "#276419"
            ]
           ]
          },
          "xaxis": {
           "gridcolor": "#283442",
           "linecolor": "#506784",
           "ticks": "",
           "title": {
            "standoff": 15
           },
           "zerolinecolor": "#283442",
           "automargin": true,
           "zerolinewidth": 2
          },
          "yaxis": {
           "gridcolor": "#283442",
           "linecolor": "#506784",
           "ticks": "",
           "title": {
            "standoff": 15
           },
           "zerolinecolor": "#283442",
           "automargin": true,
           "zerolinewidth": 2
          },
          "scene": {
           "xaxis": {
            "backgroundcolor": "rgb(17,17,17)",
            "gridcolor": "#506784",
            "linecolor": "#506784",
            "showbackground": true,
            "ticks": "",
            "zerolinecolor": "#C8D4E3",
            "gridwidth": 2
           },
           "yaxis": {
            "backgroundcolor": "rgb(17,17,17)",
            "gridcolor": "#506784",
            "linecolor": "#506784",
            "showbackground": true,
            "ticks": "",
            "zerolinecolor": "#C8D4E3",
            "gridwidth": 2
           },
           "zaxis": {
            "backgroundcolor": "rgb(17,17,17)",
            "gridcolor": "#506784",
            "linecolor": "#506784",
            "showbackground": true,
            "ticks": "",
            "zerolinecolor": "#C8D4E3",
            "gridwidth": 2
           }
          },
          "shapedefaults": {
           "line": {
            "color": "#f2f5fa"
           }
          },
          "annotationdefaults": {
           "arrowcolor": "#f2f5fa",
           "arrowhead": 0,
           "arrowwidth": 1
          },
          "geo": {
           "bgcolor": "rgb(17,17,17)",
           "landcolor": "rgb(17,17,17)",
           "subunitcolor": "#506784",
           "showland": true,
           "showlakes": true,
           "lakecolor": "rgb(17,17,17)"
          },
          "title": {
           "x": 0.05
          },
          "updatemenudefaults": {
           "bgcolor": "#506784",
           "borderwidth": 0
          },
          "sliderdefaults": {
           "bgcolor": "#C8D4E3",
           "borderwidth": 1,
           "bordercolor": "rgb(17,17,17)",
           "tickwidth": 0
          },
          "mapbox": {
           "style": "dark"
          }
         }
        },
        "xaxis": {
         "anchor": "y",
         "domain": [
          0.0,
          1.0
         ],
         "title": {
          "text": "Category",
          "font": {
           "size": 14
          }
         },
         "tickfont": {
          "size": 12
         },
         "gridcolor": "lightgray"
        },
        "yaxis": {
         "anchor": "x",
         "domain": [
          0.0,
          1.0
         ],
         "title": {
          "text": "Size",
          "font": {
           "size": 14
          }
         },
         "tickfont": {
          "size": 12
         },
         "gridcolor": "lightgray",
         "categoryorder": "array",
         "categoryarray": [
          "XS",
          "S",
          "M",
          "L",
          "XL",
          "XXL"
         ]
        },
        "legend": {
         "title": {
          "text": "Color"
         },
         "tracegroupgap": 0,
         "itemsizing": "constant"
        },
        "title": {
         "text": "Product Distribution by Category, Size, and Color",
         "font": {
          "size": 16
         },
         "x": 0.5,
         "y": 0.95
        },
        "height": 800,
        "width": 1200,
        "plot_bgcolor": "white",
        "showlegend": true
       },
       "config": {
        "plotlyServerURL": "https://plot.ly"
       }
      },
      "text/html": "<div>                            <div id=\"174dd943-04d9-4fbf-9cde-28c1dffb3600\" class=\"plotly-graph-div\" style=\"height:800px; width:1200px;\"></div>            <script type=\"text/javascript\">                require([\"plotly\"], function(Plotly) {                    window.PLOTLYENV=window.PLOTLYENV || {};                                    if (document.getElementById(\"174dd943-04d9-4fbf-9cde-28c1dffb3600\")) {                    Plotly.newPlot(                        \"174dd943-04d9-4fbf-9cde-28c1dffb3600\",                        [{\"customdata\":[[12],[21],[4],[7],[10],[26],[17],[12],[7],[11],[3],[3],[1],[9],[3],[1]],\"hovertemplate\":\"Category: %{x}\\u003cbr\\u003eSize: %{y}\\u003cbr\\u003eColor: %{marker.color}\\u003cbr\\u003eCount: %{marker.size}\\u003cbr\\u003e\\u003cextra\\u003e\\u003c\\u002fextra\\u003e\",\"legendgroup\":\"Beige\",\"marker\":{\"color\":\"#F5F5DC\",\"size\":[12,21,4,7,10,26,17,12,7,11,3,3,1,9,3,1],\"sizemode\":\"area\",\"sizeref\":0.012222222222222223,\"symbol\":\"circle\"},\"mode\":\"markers\",\"name\":\"Beige\",\"orientation\":\"v\",\"showlegend\":true,\"x\":[\"Accessories\",\"Accessories\",\"Accessories\",\"Accessories\",\"Clothing\",\"Clothing\",\"Clothing\",\"Clothing\",\"Footwear\",\"Footwear\",\"Footwear\",\"Footwear\",\"Outerwear\",\"Outerwear\",\"Outerwear\",\"Outerwear\"],\"xaxis\":\"x\",\"y\":[\"L\",\"M\",\"S\",\"XL\",\"L\",\"M\",\"S\",\"XL\",\"L\",\"M\",\"S\",\"XL\",\"L\",\"M\",\"S\",\"XL\"],\"yaxis\":\"y\",\"type\":\"scatter\"},{\"customdata\":[[13],[24],[9],[5],[27],[32],[12],[10],[9],[7],[6],[3],[4],[5],[1]],\"hovertemplate\":\"Category: %{x}\\u003cbr\\u003eSize: %{y}\\u003cbr\\u003eColor: %{marker.color}\\u003cbr\\u003eCount: %{marker.size}\\u003cbr\\u003e\\u003cextra\\u003e\\u003c\\u002fextra\\u003e\",\"legendgroup\":\"Black\",\"marker\":{\"color\":\"#000000\",\"size\":[13,24,9,5,27,32,12,10,9,7,6,3,4,5,1],\"sizemode\":\"area\",\"sizeref\":0.012222222222222223,\"symbol\":\"circle\"},\"mode\":\"markers\",\"name\":\"Black\",\"orientation\":\"v\",\"showlegend\":true,\"x\":[\"Accessories\",\"Accessories\",\"Accessories\",\"Accessories\",\"Clothing\",\"Clothing\",\"Clothing\",\"Clothing\",\"Footwear\",\"Footwear\",\"Footwear\",\"Footwear\",\"Outerwear\",\"Outerwear\",\"Outerwear\"],\"xaxis\":\"x\",\"y\":[\"L\",\"M\",\"S\",\"XL\",\"L\",\"M\",\"S\",\"XL\",\"L\",\"M\",\"S\",\"XL\",\"L\",\"M\",\"XL\"],\"yaxis\":\"y\",\"type\":\"scatter\"},{\"customdata\":[[18],[27],[11],[3],[18],[20],[8],[3],[7],[7],[8],[3],[5],[11],[2],[1]],\"hovertemplate\":\"Category: %{x}\\u003cbr\\u003eSize: %{y}\\u003cbr\\u003eColor: %{marker.color}\\u003cbr\\u003eCount: %{marker.size}\\u003cbr\\u003e\\u003cextra\\u003e\\u003c\\u002fextra\\u003e\",\"legendgroup\":\"Blue\",\"marker\":{\"color\":\"#0000FF\",\"size\":[18,27,11,3,18,20,8,3,7,7,8,3,5,11,2,1],\"sizemode\":\"area\",\"sizeref\":0.012222222222222223,\"symbol\":\"circle\"},\"mode\":\"markers\",\"name\":\"Blue\",\"orientation\":\"v\",\"showlegend\":true,\"x\":[\"Accessories\",\"Accessories\",\"Accessories\",\"Accessories\",\"Clothing\",\"Clothing\",\"Clothing\",\"Clothing\",\"Footwear\",\"Footwear\",\"Footwear\",\"Footwear\",\"Outerwear\",\"Outerwear\",\"Outerwear\",\"Outerwear\"],\"xaxis\":\"x\",\"y\":[\"L\",\"M\",\"S\",\"XL\",\"L\",\"M\",\"S\",\"XL\",\"L\",\"M\",\"S\",\"XL\",\"L\",\"M\",\"S\",\"XL\"],\"yaxis\":\"y\",\"type\":\"scatter\"},{\"customdata\":[[10],[18],[8],[8],[18],[27],[10],[6],[8],[12],[3],[1],[4],[8]],\"hovertemplate\":\"Category: %{x}\\u003cbr\\u003eSize: %{y}\\u003cbr\\u003eColor: %{marker.color}\\u003cbr\\u003eCount: %{marker.size}\\u003cbr\\u003e\\u003cextra\\u003e\\u003c\\u002fextra\\u003e\",\"legendgroup\":\"Brown\",\"marker\":{\"color\":\"#8B4513\",\"size\":[10,18,8,8,18,27,10,6,8,12,3,1,4,8],\"sizemode\":\"area\",\"sizeref\":0.012222222222222223,\"symbol\":\"circle\"},\"mode\":\"markers\",\"name\":\"Brown\",\"orientation\":\"v\",\"showlegend\":true,\"x\":[\"Accessories\",\"Accessories\",\"Accessories\",\"Accessories\",\"Clothing\",\"Clothing\",\"Clothing\",\"Clothing\",\"Footwear\",\"Footwear\",\"Footwear\",\"Footwear\",\"Outerwear\",\"Outerwear\"],\"xaxis\":\"x\",\"y\":[\"L\",\"M\",\"S\",\"XL\",\"L\",\"M\",\"S\",\"XL\",\"L\",\"M\",\"S\",\"XL\",\"L\",\"M\"],\"yaxis\":\"y\",\"type\":\"scatter\"},{\"customdata\":[[8],[30],[6],[11],[17],[34],[14],[8],[3],[10],[2],[4],[3],[2],[1]],\"hovertemplate\":\"Category: %{x}\\u003cbr\\u003eSize: %{y}\\u003cbr\\u003eColor: %{marker.color}\\u003cbr\\u003eCount: %{marker.size}\\u003cbr\\u003e\\u003cextra\\u003e\\u003c\\u002fextra\\u003e\",\"legendgroup\":\"Charcoal\",\"marker\":{\"color\":\"#19d3f3\",\"size\":[8,30,6,11,17,34,14,8,3,10,2,4,3,2,1],\"sizemode\":\"area\",\"sizeref\":0.012222222222222223,\"symbol\":\"circle\"},\"mode\":\"markers\",\"name\":\"Charcoal\",\"orientation\":\"v\",\"showlegend\":true,\"x\":[\"Accessories\",\"Accessories\",\"Accessories\",\"Accessories\",\"Clothing\",\"Clothing\",\"Clothing\",\"Clothing\",\"Footwear\",\"Footwear\",\"Footwear\",\"Outerwear\",\"Outerwear\",\"Outerwear\",\"Outerwear\"],\"xaxis\":\"x\",\"y\":[\"L\",\"M\",\"S\",\"XL\",\"L\",\"M\",\"S\",\"XL\",\"L\",\"M\",\"S\",\"L\",\"M\",\"S\",\"XL\"],\"yaxis\":\"y\",\"type\":\"scatter\"},{\"customdata\":[[10],[18],[13],[6],[26],[30],[16],[4],[6],[11],[5],[5],[6],[6],[1],[3]],\"hovertemplate\":\"Category: %{x}\\u003cbr\\u003eSize: %{y}\\u003cbr\\u003eColor: %{marker.color}\\u003cbr\\u003eCount: %{marker.size}\\u003cbr\\u003e\\u003cextra\\u003e\\u003c\\u002fextra\\u003e\",\"legendgroup\":\"Cyan\",\"marker\":{\"color\":\"#FF6692\",\"size\":[10,18,13,6,26,30,16,4,6,11,5,5,6,6,1,3],\"sizemode\":\"area\",\"sizeref\":0.012222222222222223,\"symbol\":\"circle\"},\"mode\":\"markers\",\"name\":\"Cyan\",\"orientation\":\"v\",\"showlegend\":true,\"x\":[\"Accessories\",\"Accessories\",\"Accessories\",\"Accessories\",\"Clothing\",\"Clothing\",\"Clothing\",\"Clothing\",\"Footwear\",\"Footwear\",\"Footwear\",\"Footwear\",\"Outerwear\",\"Outerwear\",\"Outerwear\",\"Outerwear\"],\"xaxis\":\"x\",\"y\":[\"L\",\"M\",\"S\",\"XL\",\"L\",\"M\",\"S\",\"XL\",\"L\",\"M\",\"S\",\"XL\",\"L\",\"M\",\"S\",\"XL\"],\"yaxis\":\"y\",\"type\":\"scatter\"},{\"customdata\":[[8],[19],[10],[4],[21],[28],[7],[6],[7],[13],[3],[1],[2],[6],[2],[1]],\"hovertemplate\":\"Category: %{x}\\u003cbr\\u003eSize: %{y}\\u003cbr\\u003eColor: %{marker.color}\\u003cbr\\u003eCount: %{marker.size}\\u003cbr\\u003e\\u003cextra\\u003e\\u003c\\u002fextra\\u003e\",\"legendgroup\":\"Gold\",\"marker\":{\"color\":\"#B6E880\",\"size\":[8,19,10,4,21,28,7,6,7,13,3,1,2,6,2,1],\"sizemode\":\"area\",\"sizeref\":0.012222222222222223,\"symbol\":\"circle\"},\"mode\":\"markers\",\"name\":\"Gold\",\"orientation\":\"v\",\"showlegend\":true,\"x\":[\"Accessories\",\"Accessories\",\"Accessories\",\"Accessories\",\"Clothing\",\"Clothing\",\"Clothing\",\"Clothing\",\"Footwear\",\"Footwear\",\"Footwear\",\"Footwear\",\"Outerwear\",\"Outerwear\",\"Outerwear\",\"Outerwear\"],\"xaxis\":\"x\",\"y\":[\"L\",\"M\",\"S\",\"XL\",\"L\",\"M\",\"S\",\"XL\",\"L\",\"M\",\"S\",\"XL\",\"L\",\"M\",\"S\",\"XL\"],\"yaxis\":\"y\",\"type\":\"scatter\"},{\"customdata\":[[13],[28],[13],[5],[13],[33],[9],[7],[8],[9],[3],[3],[6],[8],[1]],\"hovertemplate\":\"Category: %{x}\\u003cbr\\u003eSize: %{y}\\u003cbr\\u003eColor: %{marker.color}\\u003cbr\\u003eCount: %{marker.size}\\u003cbr\\u003e\\u003cextra\\u003e\\u003c\\u002fextra\\u003e\",\"legendgroup\":\"Gray\",\"marker\":{\"color\":\"#808080\",\"size\":[13,28,13,5,13,33,9,7,8,9,3,3,6,8,1],\"sizemode\":\"area\",\"sizeref\":0.012222222222222223,\"symbol\":\"circle\"},\"mode\":\"markers\",\"name\":\"Gray\",\"orientation\":\"v\",\"showlegend\":true,\"x\":[\"Accessories\",\"Accessories\",\"Accessories\",\"Accessories\",\"Clothing\",\"Clothing\",\"Clothing\",\"Clothing\",\"Footwear\",\"Footwear\",\"Footwear\",\"Footwear\",\"Outerwear\",\"Outerwear\",\"Outerwear\"],\"xaxis\":\"x\",\"y\":[\"L\",\"M\",\"S\",\"XL\",\"L\",\"M\",\"S\",\"XL\",\"L\",\"M\",\"S\",\"XL\",\"L\",\"M\",\"S\"],\"yaxis\":\"y\",\"type\":\"scatter\"},{\"customdata\":[[13],[26],[9],[5],[30],[29],[6],[13],[9],[11],[3],[1],[3],[4],[5],[2]],\"hovertemplate\":\"Category: %{x}\\u003cbr\\u003eSize: %{y}\\u003cbr\\u003eColor: %{marker.color}\\u003cbr\\u003eCount: %{marker.size}\\u003cbr\\u003e\\u003cextra\\u003e\\u003c\\u002fextra\\u003e\",\"legendgroup\":\"Green\",\"marker\":{\"color\":\"#008000\",\"size\":[13,26,9,5,30,29,6,13,9,11,3,1,3,4,5,2],\"sizemode\":\"area\",\"sizeref\":0.012222222222222223,\"symbol\":\"circle\"},\"mode\":\"markers\",\"name\":\"Green\",\"orientation\":\"v\",\"showlegend\":true,\"x\":[\"Accessories\",\"Accessories\",\"Accessories\",\"Accessories\",\"Clothing\",\"Clothing\",\"Clothing\",\"Clothing\",\"Footwear\",\"Footwear\",\"Footwear\",\"Footwear\",\"Outerwear\",\"Outerwear\",\"Outerwear\",\"Outerwear\"],\"xaxis\":\"x\",\"y\":[\"L\",\"M\",\"S\",\"XL\",\"L\",\"M\",\"S\",\"XL\",\"L\",\"M\",\"S\",\"XL\",\"L\",\"M\",\"S\",\"XL\"],\"yaxis\":\"y\",\"type\":\"scatter\"},{\"customdata\":[[13],[26],[7],[6],[15],[27],[13],[4],[5],[15],[2],[3],[2],[5],[3],[1]],\"hovertemplate\":\"Category: %{x}\\u003cbr\\u003eSize: %{y}\\u003cbr\\u003eColor: %{marker.color}\\u003cbr\\u003eCount: %{marker.size}\\u003cbr\\u003e\\u003cextra\\u003e\\u003c\\u002fextra\\u003e\",\"legendgroup\":\"Indigo\",\"marker\":{\"color\":\"#FF97FF\",\"size\":[13,26,7,6,15,27,13,4,5,15,2,3,2,5,3,1],\"sizemode\":\"area\",\"sizeref\":0.012222222222222223,\"symbol\":\"circle\"},\"mode\":\"markers\",\"name\":\"Indigo\",\"orientation\":\"v\",\"showlegend\":true,\"x\":[\"Accessories\",\"Accessories\",\"Accessories\",\"Accessories\",\"Clothing\",\"Clothing\",\"Clothing\",\"Clothing\",\"Footwear\",\"Footwear\",\"Footwear\",\"Footwear\",\"Outerwear\",\"Outerwear\",\"Outerwear\",\"Outerwear\"],\"xaxis\":\"x\",\"y\":[\"L\",\"M\",\"S\",\"XL\",\"L\",\"M\",\"S\",\"XL\",\"L\",\"M\",\"S\",\"XL\",\"L\",\"M\",\"S\",\"XL\"],\"yaxis\":\"y\",\"type\":\"scatter\"},{\"customdata\":[[15],[24],[6],[4],[15],[24],[16],[5],[7],[13],[1],[1],[4],[4],[4],[4]],\"hovertemplate\":\"Category: %{x}\\u003cbr\\u003eSize: %{y}\\u003cbr\\u003eColor: %{marker.color}\\u003cbr\\u003eCount: %{marker.size}\\u003cbr\\u003e\\u003cextra\\u003e\\u003c\\u002fextra\\u003e\",\"legendgroup\":\"Lavender\",\"marker\":{\"color\":\"#FECB52\",\"size\":[15,24,6,4,15,24,16,5,7,13,1,1,4,4,4,4],\"sizemode\":\"area\",\"sizeref\":0.012222222222222223,\"symbol\":\"circle\"},\"mode\":\"markers\",\"name\":\"Lavender\",\"orientation\":\"v\",\"showlegend\":true,\"x\":[\"Accessories\",\"Accessories\",\"Accessories\",\"Accessories\",\"Clothing\",\"Clothing\",\"Clothing\",\"Clothing\",\"Footwear\",\"Footwear\",\"Footwear\",\"Footwear\",\"Outerwear\",\"Outerwear\",\"Outerwear\",\"Outerwear\"],\"xaxis\":\"x\",\"y\":[\"L\",\"M\",\"S\",\"XL\",\"L\",\"M\",\"S\",\"XL\",\"L\",\"M\",\"S\",\"XL\",\"L\",\"M\",\"S\",\"XL\"],\"yaxis\":\"y\",\"type\":\"scatter\"},{\"customdata\":[[9],[32],[9],[8],[15],[23],[11],[10],[4],[11],[4],[3],[4],[5],[2],[2]],\"hovertemplate\":\"Category: %{x}\\u003cbr\\u003eSize: %{y}\\u003cbr\\u003eColor: %{marker.color}\\u003cbr\\u003eCount: %{marker.size}\\u003cbr\\u003e\\u003cextra\\u003e\\u003c\\u002fextra\\u003e\",\"legendgroup\":\"Magenta\",\"marker\":{\"color\":\"#636efa\",\"size\":[9,32,9,8,15,23,11,10,4,11,4,3,4,5,2,2],\"sizemode\":\"area\",\"sizeref\":0.012222222222222223,\"symbol\":\"circle\"},\"mode\":\"markers\",\"name\":\"Magenta\",\"orientation\":\"v\",\"showlegend\":true,\"x\":[\"Accessories\",\"Accessories\",\"Accessories\",\"Accessories\",\"Clothing\",\"Clothing\",\"Clothing\",\"Clothing\",\"Footwear\",\"Footwear\",\"Footwear\",\"Footwear\",\"Outerwear\",\"Outerwear\",\"Outerwear\",\"Outerwear\"],\"xaxis\":\"x\",\"y\":[\"L\",\"M\",\"S\",\"XL\",\"L\",\"M\",\"S\",\"XL\",\"L\",\"M\",\"S\",\"XL\",\"L\",\"M\",\"S\",\"XL\"],\"yaxis\":\"y\",\"type\":\"scatter\"},{\"customdata\":[[9],[25],[5],[2],[22],[33],[19],[9],[6],[14],[4],[2],[2],[4],[2]],\"hovertemplate\":\"Category: %{x}\\u003cbr\\u003eSize: %{y}\\u003cbr\\u003eColor: %{marker.color}\\u003cbr\\u003eCount: %{marker.size}\\u003cbr\\u003e\\u003cextra\\u003e\\u003c\\u002fextra\\u003e\",\"legendgroup\":\"Maroon\",\"marker\":{\"color\":\"#800000\",\"size\":[9,25,5,2,22,33,19,9,6,14,4,2,2,4,2],\"sizemode\":\"area\",\"sizeref\":0.012222222222222223,\"symbol\":\"circle\"},\"mode\":\"markers\",\"name\":\"Maroon\",\"orientation\":\"v\",\"showlegend\":true,\"x\":[\"Accessories\",\"Accessories\",\"Accessories\",\"Accessories\",\"Clothing\",\"Clothing\",\"Clothing\",\"Clothing\",\"Footwear\",\"Footwear\",\"Footwear\",\"Footwear\",\"Outerwear\",\"Outerwear\",\"Outerwear\"],\"xaxis\":\"x\",\"y\":[\"L\",\"M\",\"S\",\"XL\",\"L\",\"M\",\"S\",\"XL\",\"L\",\"M\",\"S\",\"XL\",\"L\",\"M\",\"S\"],\"yaxis\":\"y\",\"type\":\"scatter\"},{\"customdata\":[[13],[35],[11],[7],[14],[33],[10],[4],[9],[11],[8],[3],[2],[7],[7],[3]],\"hovertemplate\":\"Category: %{x}\\u003cbr\\u003eSize: %{y}\\u003cbr\\u003eColor: %{marker.color}\\u003cbr\\u003eCount: %{marker.size}\\u003cbr\\u003e\\u003cextra\\u003e\\u003c\\u002fextra\\u003e\",\"legendgroup\":\"Olive\",\"marker\":{\"color\":\"#EF553B\",\"size\":[13,35,11,7,14,33,10,4,9,11,8,3,2,7,7,3],\"sizemode\":\"area\",\"sizeref\":0.012222222222222223,\"symbol\":\"circle\"},\"mode\":\"markers\",\"name\":\"Olive\",\"orientation\":\"v\",\"showlegend\":true,\"x\":[\"Accessories\",\"Accessories\",\"Accessories\",\"Accessories\",\"Clothing\",\"Clothing\",\"Clothing\",\"Clothing\",\"Footwear\",\"Footwear\",\"Footwear\",\"Footwear\",\"Outerwear\",\"Outerwear\",\"Outerwear\",\"Outerwear\"],\"xaxis\":\"x\",\"y\":[\"L\",\"M\",\"S\",\"XL\",\"L\",\"M\",\"S\",\"XL\",\"L\",\"M\",\"S\",\"XL\",\"L\",\"M\",\"S\",\"XL\"],\"yaxis\":\"y\",\"type\":\"scatter\"},{\"customdata\":[[8],[18],[12],[6],[22],[44],[5],[7],[8],[9],[4],[3],[4],[3],[1]],\"hovertemplate\":\"Category: %{x}\\u003cbr\\u003eSize: %{y}\\u003cbr\\u003eColor: %{marker.color}\\u003cbr\\u003eCount: %{marker.size}\\u003cbr\\u003e\\u003cextra\\u003e\\u003c\\u002fextra\\u003e\",\"legendgroup\":\"Orange\",\"marker\":{\"color\":\"#FFA500\",\"size\":[8,18,12,6,22,44,5,7,8,9,4,3,4,3,1],\"sizemode\":\"area\",\"sizeref\":0.012222222222222223,\"symbol\":\"circle\"},\"mode\":\"markers\",\"name\":\"Orange\",\"orientation\":\"v\",\"showlegend\":true,\"x\":[\"Accessories\",\"Accessories\",\"Accessories\",\"Accessories\",\"Clothing\",\"Clothing\",\"Clothing\",\"Clothing\",\"Footwear\",\"Footwear\",\"Footwear\",\"Footwear\",\"Outerwear\",\"Outerwear\",\"Outerwear\"],\"xaxis\":\"x\",\"y\":[\"L\",\"M\",\"S\",\"XL\",\"L\",\"M\",\"S\",\"XL\",\"L\",\"M\",\"S\",\"XL\",\"L\",\"M\",\"S\"],\"yaxis\":\"y\",\"type\":\"scatter\"},{\"customdata\":[[17],[23],[14],[4],[11],[37],[10],[7],[5],[6],[3],[4],[1],[4],[3]],\"hovertemplate\":\"Category: %{x}\\u003cbr\\u003eSize: %{y}\\u003cbr\\u003eColor: %{marker.color}\\u003cbr\\u003eCount: %{marker.size}\\u003cbr\\u003e\\u003cextra\\u003e\\u003c\\u002fextra\\u003e\",\"legendgroup\":\"Peach\",\"marker\":{\"color\":\"#00cc96\",\"size\":[17,23,14,4,11,37,10,7,5,6,3,4,1,4,3],\"sizemode\":\"area\",\"sizeref\":0.012222222222222223,\"symbol\":\"circle\"},\"mode\":\"markers\",\"name\":\"Peach\",\"orientation\":\"v\",\"showlegend\":true,\"x\":[\"Accessories\",\"Accessories\",\"Accessories\",\"Accessories\",\"Clothing\",\"Clothing\",\"Clothing\",\"Clothing\",\"Footwear\",\"Footwear\",\"Footwear\",\"Footwear\",\"Outerwear\",\"Outerwear\",\"Outerwear\"],\"xaxis\":\"x\",\"y\":[\"L\",\"M\",\"S\",\"XL\",\"L\",\"M\",\"S\",\"XL\",\"L\",\"M\",\"S\",\"XL\",\"L\",\"M\",\"S\"],\"yaxis\":\"y\",\"type\":\"scatter\"},{\"customdata\":[[12],[17],[6],[4],[25],[30],[11],[7],[10],[11],[2],[5],[5],[5],[2],[1]],\"hovertemplate\":\"Category: %{x}\\u003cbr\\u003eSize: %{y}\\u003cbr\\u003eColor: %{marker.color}\\u003cbr\\u003eCount: %{marker.size}\\u003cbr\\u003e\\u003cextra\\u003e\\u003c\\u002fextra\\u003e\",\"legendgroup\":\"Pink\",\"marker\":{\"color\":\"#FFC0CB\",\"size\":[12,17,6,4,25,30,11,7,10,11,2,5,5,5,2,1],\"sizemode\":\"area\",\"sizeref\":0.012222222222222223,\"symbol\":\"circle\"},\"mode\":\"markers\",\"name\":\"Pink\",\"orientation\":\"v\",\"showlegend\":true,\"x\":[\"Accessories\",\"Accessories\",\"Accessories\",\"Accessories\",\"Clothing\",\"Clothing\",\"Clothing\",\"Clothing\",\"Footwear\",\"Footwear\",\"Footwear\",\"Footwear\",\"Outerwear\",\"Outerwear\",\"Outerwear\",\"Outerwear\"],\"xaxis\":\"x\",\"y\":[\"L\",\"M\",\"S\",\"XL\",\"L\",\"M\",\"S\",\"XL\",\"L\",\"M\",\"S\",\"XL\",\"L\",\"M\",\"S\",\"XL\"],\"yaxis\":\"y\",\"type\":\"scatter\"},{\"customdata\":[[3],[20],[11],[6],[26],[25],[14],[7],[6],[12],[2],[7],[4],[5],[2],[1]],\"hovertemplate\":\"Category: %{x}\\u003cbr\\u003eSize: %{y}\\u003cbr\\u003eColor: %{marker.color}\\u003cbr\\u003eCount: %{marker.size}\\u003cbr\\u003e\\u003cextra\\u003e\\u003c\\u002fextra\\u003e\",\"legendgroup\":\"Purple\",\"marker\":{\"color\":\"#800080\",\"size\":[3,20,11,6,26,25,14,7,6,12,2,7,4,5,2,1],\"sizemode\":\"area\",\"sizeref\":0.012222222222222223,\"symbol\":\"circle\"},\"mode\":\"markers\",\"name\":\"Purple\",\"orientation\":\"v\",\"showlegend\":true,\"x\":[\"Accessories\",\"Accessories\",\"Accessories\",\"Accessories\",\"Clothing\",\"Clothing\",\"Clothing\",\"Clothing\",\"Footwear\",\"Footwear\",\"Footwear\",\"Footwear\",\"Outerwear\",\"Outerwear\",\"Outerwear\",\"Outerwear\"],\"xaxis\":\"x\",\"y\":[\"L\",\"M\",\"S\",\"XL\",\"L\",\"M\",\"S\",\"XL\",\"L\",\"M\",\"S\",\"XL\",\"L\",\"M\",\"S\",\"XL\"],\"yaxis\":\"y\",\"type\":\"scatter\"},{\"customdata\":[[17],[19],[10],[8],[15],[34],[11],[8],[5],[7],[2],[2],[4],[5],[1]],\"hovertemplate\":\"Category: %{x}\\u003cbr\\u003eSize: %{y}\\u003cbr\\u003eColor: %{marker.color}\\u003cbr\\u003eCount: %{marker.size}\\u003cbr\\u003e\\u003cextra\\u003e\\u003c\\u002fextra\\u003e\",\"legendgroup\":\"Red\",\"marker\":{\"color\":\"#FF0000\",\"size\":[17,19,10,8,15,34,11,8,5,7,2,2,4,5,1],\"sizemode\":\"area\",\"sizeref\":0.012222222222222223,\"symbol\":\"circle\"},\"mode\":\"markers\",\"name\":\"Red\",\"orientation\":\"v\",\"showlegend\":true,\"x\":[\"Accessories\",\"Accessories\",\"Accessories\",\"Accessories\",\"Clothing\",\"Clothing\",\"Clothing\",\"Clothing\",\"Footwear\",\"Footwear\",\"Footwear\",\"Footwear\",\"Outerwear\",\"Outerwear\",\"Outerwear\"],\"xaxis\":\"x\",\"y\":[\"L\",\"M\",\"S\",\"XL\",\"L\",\"M\",\"S\",\"XL\",\"L\",\"M\",\"S\",\"XL\",\"L\",\"M\",\"S\"],\"yaxis\":\"y\",\"type\":\"scatter\"},{\"customdata\":[[15],[22],[12],[2],[19],[39],[13],[9],[8],[13],[4],[3],[5],[5],[3],[1]],\"hovertemplate\":\"Category: %{x}\\u003cbr\\u003eSize: %{y}\\u003cbr\\u003eColor: %{marker.color}\\u003cbr\\u003eCount: %{marker.size}\\u003cbr\\u003e\\u003cextra\\u003e\\u003c\\u002fextra\\u003e\",\"legendgroup\":\"Silver\",\"marker\":{\"color\":\"#ab63fa\",\"size\":[15,22,12,2,19,39,13,9,8,13,4,3,5,5,3,1],\"sizemode\":\"area\",\"sizeref\":0.012222222222222223,\"symbol\":\"circle\"},\"mode\":\"markers\",\"name\":\"Silver\",\"orientation\":\"v\",\"showlegend\":true,\"x\":[\"Accessories\",\"Accessories\",\"Accessories\",\"Accessories\",\"Clothing\",\"Clothing\",\"Clothing\",\"Clothing\",\"Footwear\",\"Footwear\",\"Footwear\",\"Footwear\",\"Outerwear\",\"Outerwear\",\"Outerwear\",\"Outerwear\"],\"xaxis\":\"x\",\"y\":[\"L\",\"M\",\"S\",\"XL\",\"L\",\"M\",\"S\",\"XL\",\"L\",\"M\",\"S\",\"XL\",\"L\",\"M\",\"S\",\"XL\"],\"yaxis\":\"y\",\"type\":\"scatter\"},{\"customdata\":[[19],[12],[10],[6],[21],[41],[13],[9],[7],[10],[6],[4],[7],[7]],\"hovertemplate\":\"Category: %{x}\\u003cbr\\u003eSize: %{y}\\u003cbr\\u003eColor: %{marker.color}\\u003cbr\\u003eCount: %{marker.size}\\u003cbr\\u003e\\u003cextra\\u003e\\u003c\\u002fextra\\u003e\",\"legendgroup\":\"Teal\",\"marker\":{\"color\":\"#FFA15A\",\"size\":[19,12,10,6,21,41,13,9,7,10,6,4,7,7],\"sizemode\":\"area\",\"sizeref\":0.012222222222222223,\"symbol\":\"circle\"},\"mode\":\"markers\",\"name\":\"Teal\",\"orientation\":\"v\",\"showlegend\":true,\"x\":[\"Accessories\",\"Accessories\",\"Accessories\",\"Accessories\",\"Clothing\",\"Clothing\",\"Clothing\",\"Clothing\",\"Footwear\",\"Footwear\",\"Footwear\",\"Footwear\",\"Outerwear\",\"Outerwear\"],\"xaxis\":\"x\",\"y\":[\"L\",\"M\",\"S\",\"XL\",\"L\",\"M\",\"S\",\"XL\",\"L\",\"M\",\"S\",\"XL\",\"L\",\"M\"],\"yaxis\":\"y\",\"type\":\"scatter\"},{\"customdata\":[[13],[19],[10],[8],[21],[23],[13],[8],[5],[9],[1],[2],[5],[7],[1]],\"hovertemplate\":\"Category: %{x}\\u003cbr\\u003eSize: %{y}\\u003cbr\\u003eColor: %{marker.color}\\u003cbr\\u003eCount: %{marker.size}\\u003cbr\\u003e\\u003cextra\\u003e\\u003c\\u002fextra\\u003e\",\"legendgroup\":\"Turquoise\",\"marker\":{\"color\":\"#40E0D0\",\"size\":[13,19,10,8,21,23,13,8,5,9,1,2,5,7,1],\"sizemode\":\"area\",\"sizeref\":0.012222222222222223,\"symbol\":\"circle\"},\"mode\":\"markers\",\"name\":\"Turquoise\",\"orientation\":\"v\",\"showlegend\":true,\"x\":[\"Accessories\",\"Accessories\",\"Accessories\",\"Accessories\",\"Clothing\",\"Clothing\",\"Clothing\",\"Clothing\",\"Footwear\",\"Footwear\",\"Footwear\",\"Footwear\",\"Outerwear\",\"Outerwear\",\"Outerwear\"],\"xaxis\":\"x\",\"y\":[\"L\",\"M\",\"S\",\"XL\",\"L\",\"M\",\"S\",\"XL\",\"L\",\"M\",\"S\",\"XL\",\"L\",\"M\",\"S\"],\"yaxis\":\"y\",\"type\":\"scatter\"},{\"customdata\":[[12],[18],[6],[5],[19],[42],[11],[7],[7],[17],[4],[2],[4],[10],[2]],\"hovertemplate\":\"Category: %{x}\\u003cbr\\u003eSize: %{y}\\u003cbr\\u003eColor: %{marker.color}\\u003cbr\\u003eCount: %{marker.size}\\u003cbr\\u003e\\u003cextra\\u003e\\u003c\\u002fextra\\u003e\",\"legendgroup\":\"Violet\",\"marker\":{\"color\":\"#19d3f3\",\"size\":[12,18,6,5,19,42,11,7,7,17,4,2,4,10,2],\"sizemode\":\"area\",\"sizeref\":0.012222222222222223,\"symbol\":\"circle\"},\"mode\":\"markers\",\"name\":\"Violet\",\"orientation\":\"v\",\"showlegend\":true,\"x\":[\"Accessories\",\"Accessories\",\"Accessories\",\"Accessories\",\"Clothing\",\"Clothing\",\"Clothing\",\"Clothing\",\"Footwear\",\"Footwear\",\"Footwear\",\"Footwear\",\"Outerwear\",\"Outerwear\",\"Outerwear\"],\"xaxis\":\"x\",\"y\":[\"L\",\"M\",\"S\",\"XL\",\"L\",\"M\",\"S\",\"XL\",\"L\",\"M\",\"S\",\"XL\",\"L\",\"M\",\"S\"],\"yaxis\":\"y\",\"type\":\"scatter\"},{\"customdata\":[[10],[21],[5],[5],[13],[37],[8],[11],[3],[8],[4],[2],[4],[5],[4],[2]],\"hovertemplate\":\"Category: %{x}\\u003cbr\\u003eSize: %{y}\\u003cbr\\u003eColor: %{marker.color}\\u003cbr\\u003eCount: %{marker.size}\\u003cbr\\u003e\\u003cextra\\u003e\\u003c\\u002fextra\\u003e\",\"legendgroup\":\"White\",\"marker\":{\"color\":\"#FFFFFF\",\"size\":[10,21,5,5,13,37,8,11,3,8,4,2,4,5,4,2],\"sizemode\":\"area\",\"sizeref\":0.012222222222222223,\"symbol\":\"circle\",\"line\":{\"color\":\"black\",\"width\":1}},\"mode\":\"markers\",\"name\":\"White\",\"orientation\":\"v\",\"showlegend\":true,\"x\":[\"Accessories\",\"Accessories\",\"Accessories\",\"Accessories\",\"Clothing\",\"Clothing\",\"Clothing\",\"Clothing\",\"Footwear\",\"Footwear\",\"Footwear\",\"Footwear\",\"Outerwear\",\"Outerwear\",\"Outerwear\",\"Outerwear\"],\"xaxis\":\"x\",\"y\":[\"L\",\"M\",\"S\",\"XL\",\"L\",\"M\",\"S\",\"XL\",\"L\",\"M\",\"S\",\"XL\",\"L\",\"M\",\"S\",\"XL\"],\"yaxis\":\"y\",\"type\":\"scatter\"},{\"customdata\":[[17],[20],[13],[6],[28],[27],[7],[13],[13],[10],[6],[1],[1],[7],[3],[2]],\"hovertemplate\":\"Category: %{x}\\u003cbr\\u003eSize: %{y}\\u003cbr\\u003eColor: %{marker.color}\\u003cbr\\u003eCount: %{marker.size}\\u003cbr\\u003e\\u003cextra\\u003e\\u003c\\u002fextra\\u003e\",\"legendgroup\":\"Yellow\",\"marker\":{\"color\":\"#FFFF00\",\"size\":[17,20,13,6,28,27,7,13,13,10,6,1,1,7,3,2],\"sizemode\":\"area\",\"sizeref\":0.012222222222222223,\"symbol\":\"circle\"},\"mode\":\"markers\",\"name\":\"Yellow\",\"orientation\":\"v\",\"showlegend\":true,\"x\":[\"Accessories\",\"Accessories\",\"Accessories\",\"Accessories\",\"Clothing\",\"Clothing\",\"Clothing\",\"Clothing\",\"Footwear\",\"Footwear\",\"Footwear\",\"Footwear\",\"Outerwear\",\"Outerwear\",\"Outerwear\",\"Outerwear\"],\"xaxis\":\"x\",\"y\":[\"L\",\"M\",\"S\",\"XL\",\"L\",\"M\",\"S\",\"XL\",\"L\",\"M\",\"S\",\"XL\",\"L\",\"M\",\"S\",\"XL\"],\"yaxis\":\"y\",\"type\":\"scatter\"}],                        {\"template\":{\"data\":{\"histogram2dcontour\":[{\"type\":\"histogram2dcontour\",\"colorbar\":{\"outlinewidth\":0,\"ticks\":\"\"},\"colorscale\":[[0.0,\"#0d0887\"],[0.1111111111111111,\"#46039f\"],[0.2222222222222222,\"#7201a8\"],[0.3333333333333333,\"#9c179e\"],[0.4444444444444444,\"#bd3786\"],[0.5555555555555556,\"#d8576b\"],[0.6666666666666666,\"#ed7953\"],[0.7777777777777778,\"#fb9f3a\"],[0.8888888888888888,\"#fdca26\"],[1.0,\"#f0f921\"]]}],\"choropleth\":[{\"type\":\"choropleth\",\"colorbar\":{\"outlinewidth\":0,\"ticks\":\"\"}}],\"histogram2d\":[{\"type\":\"histogram2d\",\"colorbar\":{\"outlinewidth\":0,\"ticks\":\"\"},\"colorscale\":[[0.0,\"#0d0887\"],[0.1111111111111111,\"#46039f\"],[0.2222222222222222,\"#7201a8\"],[0.3333333333333333,\"#9c179e\"],[0.4444444444444444,\"#bd3786\"],[0.5555555555555556,\"#d8576b\"],[0.6666666666666666,\"#ed7953\"],[0.7777777777777778,\"#fb9f3a\"],[0.8888888888888888,\"#fdca26\"],[1.0,\"#f0f921\"]]}],\"heatmap\":[{\"type\":\"heatmap\",\"colorbar\":{\"outlinewidth\":0,\"ticks\":\"\"},\"colorscale\":[[0.0,\"#0d0887\"],[0.1111111111111111,\"#46039f\"],[0.2222222222222222,\"#7201a8\"],[0.3333333333333333,\"#9c179e\"],[0.4444444444444444,\"#bd3786\"],[0.5555555555555556,\"#d8576b\"],[0.6666666666666666,\"#ed7953\"],[0.7777777777777778,\"#fb9f3a\"],[0.8888888888888888,\"#fdca26\"],[1.0,\"#f0f921\"]]}],\"heatmapgl\":[{\"type\":\"heatmapgl\",\"colorbar\":{\"outlinewidth\":0,\"ticks\":\"\"},\"colorscale\":[[0.0,\"#0d0887\"],[0.1111111111111111,\"#46039f\"],[0.2222222222222222,\"#7201a8\"],[0.3333333333333333,\"#9c179e\"],[0.4444444444444444,\"#bd3786\"],[0.5555555555555556,\"#d8576b\"],[0.6666666666666666,\"#ed7953\"],[0.7777777777777778,\"#fb9f3a\"],[0.8888888888888888,\"#fdca26\"],[1.0,\"#f0f921\"]]}],\"contourcarpet\":[{\"type\":\"contourcarpet\",\"colorbar\":{\"outlinewidth\":0,\"ticks\":\"\"}}],\"contour\":[{\"type\":\"contour\",\"colorbar\":{\"outlinewidth\":0,\"ticks\":\"\"},\"colorscale\":[[0.0,\"#0d0887\"],[0.1111111111111111,\"#46039f\"],[0.2222222222222222,\"#7201a8\"],[0.3333333333333333,\"#9c179e\"],[0.4444444444444444,\"#bd3786\"],[0.5555555555555556,\"#d8576b\"],[0.6666666666666666,\"#ed7953\"],[0.7777777777777778,\"#fb9f3a\"],[0.8888888888888888,\"#fdca26\"],[1.0,\"#f0f921\"]]}],\"surface\":[{\"type\":\"surface\",\"colorbar\":{\"outlinewidth\":0,\"ticks\":\"\"},\"colorscale\":[[0.0,\"#0d0887\"],[0.1111111111111111,\"#46039f\"],[0.2222222222222222,\"#7201a8\"],[0.3333333333333333,\"#9c179e\"],[0.4444444444444444,\"#bd3786\"],[0.5555555555555556,\"#d8576b\"],[0.6666666666666666,\"#ed7953\"],[0.7777777777777778,\"#fb9f3a\"],[0.8888888888888888,\"#fdca26\"],[1.0,\"#f0f921\"]]}],\"mesh3d\":[{\"type\":\"mesh3d\",\"colorbar\":{\"outlinewidth\":0,\"ticks\":\"\"}}],\"scatter\":[{\"marker\":{\"line\":{\"color\":\"#283442\"}},\"type\":\"scatter\"}],\"parcoords\":[{\"type\":\"parcoords\",\"line\":{\"colorbar\":{\"outlinewidth\":0,\"ticks\":\"\"}}}],\"scatterpolargl\":[{\"type\":\"scatterpolargl\",\"marker\":{\"colorbar\":{\"outlinewidth\":0,\"ticks\":\"\"}}}],\"bar\":[{\"error_x\":{\"color\":\"#f2f5fa\"},\"error_y\":{\"color\":\"#f2f5fa\"},\"marker\":{\"line\":{\"color\":\"rgb(17,17,17)\",\"width\":0.5},\"pattern\":{\"fillmode\":\"overlay\",\"size\":10,\"solidity\":0.2}},\"type\":\"bar\"}],\"scattergeo\":[{\"type\":\"scattergeo\",\"marker\":{\"colorbar\":{\"outlinewidth\":0,\"ticks\":\"\"}}}],\"scatterpolar\":[{\"type\":\"scatterpolar\",\"marker\":{\"colorbar\":{\"outlinewidth\":0,\"ticks\":\"\"}}}],\"histogram\":[{\"marker\":{\"pattern\":{\"fillmode\":\"overlay\",\"size\":10,\"solidity\":0.2}},\"type\":\"histogram\"}],\"scattergl\":[{\"marker\":{\"line\":{\"color\":\"#283442\"}},\"type\":\"scattergl\"}],\"scatter3d\":[{\"type\":\"scatter3d\",\"line\":{\"colorbar\":{\"outlinewidth\":0,\"ticks\":\"\"}},\"marker\":{\"colorbar\":{\"outlinewidth\":0,\"ticks\":\"\"}}}],\"scattermapbox\":[{\"type\":\"scattermapbox\",\"marker\":{\"colorbar\":{\"outlinewidth\":0,\"ticks\":\"\"}}}],\"scatterternary\":[{\"type\":\"scatterternary\",\"marker\":{\"colorbar\":{\"outlinewidth\":0,\"ticks\":\"\"}}}],\"scattercarpet\":[{\"type\":\"scattercarpet\",\"marker\":{\"colorbar\":{\"outlinewidth\":0,\"ticks\":\"\"}}}],\"carpet\":[{\"aaxis\":{\"endlinecolor\":\"#A2B1C6\",\"gridcolor\":\"#506784\",\"linecolor\":\"#506784\",\"minorgridcolor\":\"#506784\",\"startlinecolor\":\"#A2B1C6\"},\"baxis\":{\"endlinecolor\":\"#A2B1C6\",\"gridcolor\":\"#506784\",\"linecolor\":\"#506784\",\"minorgridcolor\":\"#506784\",\"startlinecolor\":\"#A2B1C6\"},\"type\":\"carpet\"}],\"table\":[{\"cells\":{\"fill\":{\"color\":\"#506784\"},\"line\":{\"color\":\"rgb(17,17,17)\"}},\"header\":{\"fill\":{\"color\":\"#2a3f5f\"},\"line\":{\"color\":\"rgb(17,17,17)\"}},\"type\":\"table\"}],\"barpolar\":[{\"marker\":{\"line\":{\"color\":\"rgb(17,17,17)\",\"width\":0.5},\"pattern\":{\"fillmode\":\"overlay\",\"size\":10,\"solidity\":0.2}},\"type\":\"barpolar\"}],\"pie\":[{\"automargin\":true,\"type\":\"pie\"}]},\"layout\":{\"autotypenumbers\":\"strict\",\"colorway\":[\"#636efa\",\"#EF553B\",\"#00cc96\",\"#ab63fa\",\"#FFA15A\",\"#19d3f3\",\"#FF6692\",\"#B6E880\",\"#FF97FF\",\"#FECB52\"],\"font\":{\"color\":\"#f2f5fa\"},\"hovermode\":\"closest\",\"hoverlabel\":{\"align\":\"left\"},\"paper_bgcolor\":\"rgb(17,17,17)\",\"plot_bgcolor\":\"rgb(17,17,17)\",\"polar\":{\"bgcolor\":\"rgb(17,17,17)\",\"angularaxis\":{\"gridcolor\":\"#506784\",\"linecolor\":\"#506784\",\"ticks\":\"\"},\"radialaxis\":{\"gridcolor\":\"#506784\",\"linecolor\":\"#506784\",\"ticks\":\"\"}},\"ternary\":{\"bgcolor\":\"rgb(17,17,17)\",\"aaxis\":{\"gridcolor\":\"#506784\",\"linecolor\":\"#506784\",\"ticks\":\"\"},\"baxis\":{\"gridcolor\":\"#506784\",\"linecolor\":\"#506784\",\"ticks\":\"\"},\"caxis\":{\"gridcolor\":\"#506784\",\"linecolor\":\"#506784\",\"ticks\":\"\"}},\"coloraxis\":{\"colorbar\":{\"outlinewidth\":0,\"ticks\":\"\"}},\"colorscale\":{\"sequential\":[[0.0,\"#0d0887\"],[0.1111111111111111,\"#46039f\"],[0.2222222222222222,\"#7201a8\"],[0.3333333333333333,\"#9c179e\"],[0.4444444444444444,\"#bd3786\"],[0.5555555555555556,\"#d8576b\"],[0.6666666666666666,\"#ed7953\"],[0.7777777777777778,\"#fb9f3a\"],[0.8888888888888888,\"#fdca26\"],[1.0,\"#f0f921\"]],\"sequentialminus\":[[0.0,\"#0d0887\"],[0.1111111111111111,\"#46039f\"],[0.2222222222222222,\"#7201a8\"],[0.3333333333333333,\"#9c179e\"],[0.4444444444444444,\"#bd3786\"],[0.5555555555555556,\"#d8576b\"],[0.6666666666666666,\"#ed7953\"],[0.7777777777777778,\"#fb9f3a\"],[0.8888888888888888,\"#fdca26\"],[1.0,\"#f0f921\"]],\"diverging\":[[0,\"#8e0152\"],[0.1,\"#c51b7d\"],[0.2,\"#de77ae\"],[0.3,\"#f1b6da\"],[0.4,\"#fde0ef\"],[0.5,\"#f7f7f7\"],[0.6,\"#e6f5d0\"],[0.7,\"#b8e186\"],[0.8,\"#7fbc41\"],[0.9,\"#4d9221\"],[1,\"#276419\"]]},\"xaxis\":{\"gridcolor\":\"#283442\",\"linecolor\":\"#506784\",\"ticks\":\"\",\"title\":{\"standoff\":15},\"zerolinecolor\":\"#283442\",\"automargin\":true,\"zerolinewidth\":2},\"yaxis\":{\"gridcolor\":\"#283442\",\"linecolor\":\"#506784\",\"ticks\":\"\",\"title\":{\"standoff\":15},\"zerolinecolor\":\"#283442\",\"automargin\":true,\"zerolinewidth\":2},\"scene\":{\"xaxis\":{\"backgroundcolor\":\"rgb(17,17,17)\",\"gridcolor\":\"#506784\",\"linecolor\":\"#506784\",\"showbackground\":true,\"ticks\":\"\",\"zerolinecolor\":\"#C8D4E3\",\"gridwidth\":2},\"yaxis\":{\"backgroundcolor\":\"rgb(17,17,17)\",\"gridcolor\":\"#506784\",\"linecolor\":\"#506784\",\"showbackground\":true,\"ticks\":\"\",\"zerolinecolor\":\"#C8D4E3\",\"gridwidth\":2},\"zaxis\":{\"backgroundcolor\":\"rgb(17,17,17)\",\"gridcolor\":\"#506784\",\"linecolor\":\"#506784\",\"showbackground\":true,\"ticks\":\"\",\"zerolinecolor\":\"#C8D4E3\",\"gridwidth\":2}},\"shapedefaults\":{\"line\":{\"color\":\"#f2f5fa\"}},\"annotationdefaults\":{\"arrowcolor\":\"#f2f5fa\",\"arrowhead\":0,\"arrowwidth\":1},\"geo\":{\"bgcolor\":\"rgb(17,17,17)\",\"landcolor\":\"rgb(17,17,17)\",\"subunitcolor\":\"#506784\",\"showland\":true,\"showlakes\":true,\"lakecolor\":\"rgb(17,17,17)\"},\"title\":{\"x\":0.05},\"updatemenudefaults\":{\"bgcolor\":\"#506784\",\"borderwidth\":0},\"sliderdefaults\":{\"bgcolor\":\"#C8D4E3\",\"borderwidth\":1,\"bordercolor\":\"rgb(17,17,17)\",\"tickwidth\":0},\"mapbox\":{\"style\":\"dark\"}}},\"xaxis\":{\"anchor\":\"y\",\"domain\":[0.0,1.0],\"title\":{\"text\":\"Category\",\"font\":{\"size\":14}},\"tickfont\":{\"size\":12},\"gridcolor\":\"lightgray\"},\"yaxis\":{\"anchor\":\"x\",\"domain\":[0.0,1.0],\"title\":{\"text\":\"Size\",\"font\":{\"size\":14}},\"tickfont\":{\"size\":12},\"gridcolor\":\"lightgray\",\"categoryorder\":\"array\",\"categoryarray\":[\"XS\",\"S\",\"M\",\"L\",\"XL\",\"XXL\"]},\"legend\":{\"title\":{\"text\":\"Color\"},\"tracegroupgap\":0,\"itemsizing\":\"constant\"},\"title\":{\"text\":\"Product Distribution by Category, Size, and Color\",\"font\":{\"size\":16},\"x\":0.5,\"y\":0.95},\"height\":800,\"width\":1200,\"plot_bgcolor\":\"white\",\"showlegend\":true},                        {\"responsive\": true}                    ).then(function(){\n                            \nvar gd = document.getElementById('174dd943-04d9-4fbf-9cde-28c1dffb3600');\nvar x = new MutationObserver(function (mutations, observer) {{\n        var display = window.getComputedStyle(gd).display;\n        if (!display || display === 'none') {{\n            console.log([gd, 'removed!']);\n            Plotly.purge(gd);\n            observer.disconnect();\n        }}\n}});\n\n// Listen for the removal of the full notebook cells\nvar notebookContainer = gd.closest('#notebook-container');\nif (notebookContainer) {{\n    x.observe(notebookContainer, {childList: true});\n}}\n\n// Listen for the clearing of the current output cell\nvar outputEl = gd.closest('.output');\nif (outputEl) {{\n    x.observe(outputEl, {childList: true});\n}}\n\n                        })                };                });            </script>        </div>"
     },
     "metadata": {},
     "output_type": "display_data"
    }
   ],
   "source": [
    "\n",
    "#  bubble chart\n",
    "fig = px.scatter(size_color_counts, \n",
    "                 x='Category',\n",
    "                 y='Size',\n",
    "                 size='count',\n",
    "                 color='Color',\n",
    "                 color_discrete_map=color_map,  # Use our custom color mapping\n",
    "                 hover_data=['count'],\n",
    "                 title='Product Distribution by Category, Size, and Color',\n",
    "                 width=1200,\n",
    "                 height=800,\n",
    "                 size_max=60)\n",
    "\n",
    "fig.update_layout(\n",
    "    plot_bgcolor='white',\n",
    "    xaxis=dict(\n",
    "        gridcolor='lightgray',\n",
    "        title_font=dict(size=14),\n",
    "        tickfont=dict(size=12)\n",
    "    ),\n",
    "    yaxis=dict(\n",
    "        gridcolor='lightgray',\n",
    "        title_font=dict(size=14),\n",
    "        tickfont=dict(size=12),\n",
    "        categoryorder='array',\n",
    "        categoryarray=['XS', 'S', 'M', 'L', 'XL', 'XXL']\n",
    "    ),\n",
    "    title=dict(\n",
    "        x=0.5,\n",
    "        y=0.95,\n",
    "        font=dict(size=16)\n",
    "    ),\n",
    "    showlegend=True,\n",
    "    legend_title_text='Color'\n",
    ")\n",
    "\n",
    "if 'White' in size_color_counts['Color'].unique():\n",
    "    fig.update_traces(\n",
    "        selector=dict(name='White'),\n",
    "        marker=dict(line=dict(color='black', width=1))\n",
    "    )\n",
    "\n",
    "fig.update_traces(\n",
    "    hovertemplate=\"<br>\".join([\n",
    "        \"Category: %{x}\",\n",
    "        \"Size: %{y}\",\n",
    "        \"Color: %{marker.color}\",\n",
    "        \"Count: %{marker.size}\",\n",
    "        \"<extra></extra>\"\n",
    "    ])\n",
    ")\n",
    "\n",
    "fig.show()\n",
    "fig.write_image('cat_size_color_bubblechart.png')"
   ],
   "metadata": {
    "collapsed": false,
    "ExecuteTime": {
     "end_time": "2024-12-05T03:10:15.692899Z",
     "start_time": "2024-12-05T03:10:14.661286Z"
    }
   },
   "id": "d691fc798e33f431",
   "execution_count": 8
  },
  {
   "cell_type": "code",
   "outputs": [],
   "source": [],
   "metadata": {
    "collapsed": false,
    "ExecuteTime": {
     "end_time": "2024-12-05T03:10:15.705613Z",
     "start_time": "2024-12-05T03:10:15.695204Z"
    }
   },
   "id": "41d84629e67f7271",
   "execution_count": 8
  }
 ],
 "metadata": {
  "kernelspec": {
   "display_name": "Python 3",
   "language": "python",
   "name": "python3"
  },
  "language_info": {
   "codemirror_mode": {
    "name": "ipython",
    "version": 2
   },
   "file_extension": ".py",
   "mimetype": "text/x-python",
   "name": "python",
   "nbconvert_exporter": "python",
   "pygments_lexer": "ipython2",
   "version": "2.7.6"
  }
 },
 "nbformat": 4,
 "nbformat_minor": 5
}
