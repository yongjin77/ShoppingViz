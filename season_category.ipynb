{
 "cells": [
  {
   "cell_type": "code",
   "outputs": [],
   "source": [
    "import plotly.graph_objects as go\n",
    "import pandas as pd\n",
    "import numpy as np"
   ],
   "metadata": {
    "collapsed": false,
    "ExecuteTime": {
     "end_time": "2024-12-04T05:44:09.737996Z",
     "start_time": "2024-12-04T05:44:09.737624Z"
    }
   },
   "id": "b240d6ab1e617f4e",
   "execution_count": 49
  },
  {
   "cell_type": "code",
   "outputs": [],
   "source": [
    "\n",
    "# load and prepare data\n",
    "df = pd.read_csv('shopping_behavior_updated.csv')\n",
    "seasons = ['Spring', 'Summer', 'Fall', 'Winter']\n",
    "seasonal_data = df.groupby(['Season', 'Category']).agg({\n",
    "    'Purchase Amount (USD)': ['sum', 'mean', 'count']\n",
    "}).reset_index()"
   ],
   "metadata": {
    "collapsed": false
   },
   "id": "fda871fce3dc3f65",
   "execution_count": null
  },
  {
   "cell_type": "code",
   "outputs": [],
   "source": [
    "#store and put data\n",
    "volume_data = []\n",
    "average_data = []\n",
    "count_data = []\n",
    "\n",
    "for category in df['Category'].unique():\n",
    "    cat_data = seasonal_data[seasonal_data['Category'] == category]\n",
    "    volume_data.append(cat_data['Purchase Amount (USD)']['sum'].values)\n",
    "    average_data.append(cat_data['Purchase Amount (USD)']['mean'].values)\n",
    "    count_data.append(cat_data['Purchase Amount (USD)']['count'].values)"
   ],
   "metadata": {
    "collapsed": false
   },
   "id": "3a907ce092f9c1bf",
   "execution_count": null
  },
  {
   "cell_type": "code",
   "outputs": [],
   "source": [
    "\n",
    "# create fig\n",
    "fig = go.Figure()\n",
    "\n",
    "\n",
    "for category in df['Category'].unique():\n",
    "    category_data = seasonal_data[seasonal_data['Category'] == category]\n",
    "\n",
    "    # seasons to angles\n",
    "    angles = category_data['Season'].map({\n",
    "        'Spring': 90,\n",
    "        'Summer': 0,\n",
    "        'Fall': 270,\n",
    "        'Winter': 180\n",
    "    })\n",
    "\n",
    "    #scatter plot\n",
    "    fig.add_trace(go.Scatterpolar(\n",
    "        r=category_data['Purchase Amount (USD)']['sum'],\n",
    "        theta=angles,\n",
    "        mode='markers',\n",
    "        name=category,\n",
    "        marker=dict(\n",
    "            size=25,\n",
    "            opacity=0.8,\n",
    "            line=dict(color='white', width=1)\n",
    "        ),\n",
    "        customdata=np.stack((\n",
    "            category_data['Purchase Amount (USD)']['sum'],\n",
    "            category_data['Purchase Amount (USD)']['mean'],\n",
    "            category_data['Purchase Amount (USD)']['count']\n",
    "        ), axis=-1),\n",
    "        hovertemplate=(\n",
    "                \"<b>%{text}</b><br>\" +\n",
    "                \"Season: %{theta}<br>\" +\n",
    "                \"Total Sales: $%{customdata[0]:,.2f}<br>\" +\n",
    "                \"Average Purchase: $%{customdata[1]:,.2f}<br>\" +\n",
    "                \"Number of Sales: %{customdata[2]}<br>\" +\n",
    "                \"<extra></extra>\"\n",
    "        ),\n",
    "        text=[f\"{category} - {season}\" for season in category_data['Season']]\n",
    "    ))\n",
    "\n",
    "# set layout\n",
    "fig.update_layout(\n",
    "    polar=dict(\n",
    "        radialaxis=dict(\n",
    "            visible=True,\n",
    "            tickformat='$,.0f',\n",
    "            title='Sales Volume',\n",
    "            titlefont=dict(size=12),\n",
    "            gridcolor='rgba(255, 255, 255, 0.2)'\n",
    "        ),\n",
    "        angularaxis=dict(\n",
    "            ticktext=seasons,\n",
    "            tickvals=[90, 0, 270, 180],\n",
    "            direction='clockwise',\n",
    "            gridcolor='rgba(255, 255, 255, 0.2)'\n",
    "        ),\n",
    "        bgcolor='rgba(0,0,0,0)'\n",
    "    ),\n",
    "    showlegend=True,\n",
    "    legend=dict(\n",
    "        x=1.1,\n",
    "        y=0.5,\n",
    "        bgcolor='rgba(0,0,0,0)',\n",
    "        bordercolor='rgba(255,255,255,0.3)',\n",
    "        borderwidth=1\n",
    "    ),\n",
    "    # Add buttons for different metrics\n",
    "    updatemenus=[dict(\n",
    "        type='buttons',\n",
    "        showactive=True,\n",
    "        buttons=[\n",
    "            dict(\n",
    "                label='Sales Volume',\n",
    "                method='update',\n",
    "                args=[{'r': volume_data},\n",
    "                      {'polar.radialaxis.title': 'Sales Volume'}]\n",
    "            ),\n",
    "            dict(\n",
    "                label='Average Purchase',\n",
    "                method='update',\n",
    "                args=[{'r': average_data},\n",
    "                      {'polar.radialaxis.title': 'Average Purchase Amount'}]\n",
    "            ),\n",
    "            dict(\n",
    "                label='Transaction Count',\n",
    "                method='update',\n",
    "                args=[{'r': count_data},\n",
    "                      {'polar.radialaxis.title': 'Number of Transactions'}]\n",
    "            )\n",
    "        ],\n",
    "        direction='down',\n",
    "        x=0.1,\n",
    "        y=1.1,\n",
    "    )],\n",
    "    width=900,\n",
    "    height=700,\n",
    "    title=dict(\n",
    "        text='Seasonal Sales Analysis by Category',\n",
    "        x=0.5,\n",
    "        y=0.95\n",
    "    ),\n",
    "    margin=dict(l=80, r=150, t=100, b=80)\n",
    ")"
   ],
   "metadata": {
    "collapsed": false
   },
   "id": "5d71455fad23d09a",
   "execution_count": null
  },
  {
   "cell_type": "code",
   "outputs": [
    {
     "data": {
      "application/vnd.plotly.v1+json": {
       "data": [
        {
         "customdata": [
          [
           26220.0,
           61.405152224824356,
           427.0
          ],
          [
           27692.0,
           60.99559471365639,
           454.0
          ],
          [
           23078.0,
           56.56372549019608,
           408.0
          ],
          [
           27274.0,
           60.879464285714285,
           448.0
          ]
         ],
         "hovertemplate": "<b>%{text}</b><br>Season: %{theta}<br>Total Sales: $%{customdata[0]:,.2f}<br>Average Purchase: $%{customdata[1]:,.2f}<br>Number of Sales: %{customdata[2]}<br><extra></extra>",
         "marker": {
          "line": {
           "color": "white",
           "width": 1
          },
          "opacity": 0.8,
          "size": 25
         },
         "mode": "markers",
         "name": "Clothing",
         "r": [
          26220,
          27692,
          23078,
          27274
         ],
         "text": [
          "Clothing - Fall",
          "Clothing - Spring",
          "Clothing - Summer",
          "Clothing - Winter"
         ],
         "theta": [
          270,
          90,
          0,
          180
         ],
         "type": "scatterpolar"
        },
        {
         "customdata": [
          [
           8665.0,
           63.713235294117645,
           136.0
          ],
          [
           9555.0,
           58.61963190184049,
           163.0
          ],
          [
           9393.0,
           58.70625,
           160.0
          ],
          [
           8480.0,
           60.57142857142857,
           140.0
          ]
         ],
         "hovertemplate": "<b>%{text}</b><br>Season: %{theta}<br>Total Sales: $%{customdata[0]:,.2f}<br>Average Purchase: $%{customdata[1]:,.2f}<br>Number of Sales: %{customdata[2]}<br><extra></extra>",
         "marker": {
          "line": {
           "color": "white",
           "width": 1
          },
          "opacity": 0.8,
          "size": 25
         },
         "mode": "markers",
         "name": "Footwear",
         "r": [
          8665,
          9555,
          9393,
          8480
         ],
         "text": [
          "Footwear - Fall",
          "Footwear - Spring",
          "Footwear - Summer",
          "Footwear - Winter"
         ],
         "theta": [
          270,
          90,
          0,
          180
         ],
         "type": "scatterpolar"
        },
        {
         "customdata": [
          [
           5259.0,
           59.76136363636363,
           88.0
          ],
          [
           4425.0,
           54.629629629629626,
           81.0
          ],
          [
           4278.0,
           57.04,
           75.0
          ],
          [
           4562.0,
           57.025,
           80.0
          ]
         ],
         "hovertemplate": "<b>%{text}</b><br>Season: %{theta}<br>Total Sales: $%{customdata[0]:,.2f}<br>Average Purchase: $%{customdata[1]:,.2f}<br>Number of Sales: %{customdata[2]}<br><extra></extra>",
         "marker": {
          "line": {
           "color": "white",
           "width": 1
          },
          "opacity": 0.8,
          "size": 25
         },
         "mode": "markers",
         "name": "Outerwear",
         "r": [
          5259,
          4425,
          4278,
          4562
         ],
         "text": [
          "Outerwear - Fall",
          "Outerwear - Spring",
          "Outerwear - Summer",
          "Outerwear - Winter"
         ],
         "theta": [
          270,
          90,
          0,
          180
         ],
         "type": "scatterpolar"
        },
        {
         "customdata": [
          [
           19874.0,
           61.339506172839506,
           324.0
          ],
          [
           17007.0,
           56.501661129568106,
           301.0
          ],
          [
           19028.0,
           60.98717948717949,
           312.0
          ],
          [
           18291.0,
           60.366336633663366,
           303.0
          ]
         ],
         "hovertemplate": "<b>%{text}</b><br>Season: %{theta}<br>Total Sales: $%{customdata[0]:,.2f}<br>Average Purchase: $%{customdata[1]:,.2f}<br>Number of Sales: %{customdata[2]}<br><extra></extra>",
         "marker": {
          "line": {
           "color": "white",
           "width": 1
          },
          "opacity": 0.8,
          "size": 25
         },
         "mode": "markers",
         "name": "Accessories",
         "r": [
          19874,
          17007,
          19028,
          18291
         ],
         "text": [
          "Accessories - Fall",
          "Accessories - Spring",
          "Accessories - Summer",
          "Accessories - Winter"
         ],
         "theta": [
          270,
          90,
          0,
          180
         ],
         "type": "scatterpolar"
        }
       ],
       "layout": {
        "template": {
         "data": {
          "histogram2dcontour": [
           {
            "type": "histogram2dcontour",
            "colorbar": {
             "outlinewidth": 0,
             "ticks": ""
            },
            "colorscale": [
             [
              0.0,
              "#0d0887"
             ],
             [
              0.1111111111111111,
              "#46039f"
             ],
             [
              0.2222222222222222,
              "#7201a8"
             ],
             [
              0.3333333333333333,
              "#9c179e"
             ],
             [
              0.4444444444444444,
              "#bd3786"
             ],
             [
              0.5555555555555556,
              "#d8576b"
             ],
             [
              0.6666666666666666,
              "#ed7953"
             ],
             [
              0.7777777777777778,
              "#fb9f3a"
             ],
             [
              0.8888888888888888,
              "#fdca26"
             ],
             [
              1.0,
              "#f0f921"
             ]
            ]
           }
          ],
          "choropleth": [
           {
            "type": "choropleth",
            "colorbar": {
             "outlinewidth": 0,
             "ticks": ""
            }
           }
          ],
          "histogram2d": [
           {
            "type": "histogram2d",
            "colorbar": {
             "outlinewidth": 0,
             "ticks": ""
            },
            "colorscale": [
             [
              0.0,
              "#0d0887"
             ],
             [
              0.1111111111111111,
              "#46039f"
             ],
             [
              0.2222222222222222,
              "#7201a8"
             ],
             [
              0.3333333333333333,
              "#9c179e"
             ],
             [
              0.4444444444444444,
              "#bd3786"
             ],
             [
              0.5555555555555556,
              "#d8576b"
             ],
             [
              0.6666666666666666,
              "#ed7953"
             ],
             [
              0.7777777777777778,
              "#fb9f3a"
             ],
             [
              0.8888888888888888,
              "#fdca26"
             ],
             [
              1.0,
              "#f0f921"
             ]
            ]
           }
          ],
          "heatmap": [
           {
            "type": "heatmap",
            "colorbar": {
             "outlinewidth": 0,
             "ticks": ""
            },
            "colorscale": [
             [
              0.0,
              "#0d0887"
             ],
             [
              0.1111111111111111,
              "#46039f"
             ],
             [
              0.2222222222222222,
              "#7201a8"
             ],
             [
              0.3333333333333333,
              "#9c179e"
             ],
             [
              0.4444444444444444,
              "#bd3786"
             ],
             [
              0.5555555555555556,
              "#d8576b"
             ],
             [
              0.6666666666666666,
              "#ed7953"
             ],
             [
              0.7777777777777778,
              "#fb9f3a"
             ],
             [
              0.8888888888888888,
              "#fdca26"
             ],
             [
              1.0,
              "#f0f921"
             ]
            ]
           }
          ],
          "heatmapgl": [
           {
            "type": "heatmapgl",
            "colorbar": {
             "outlinewidth": 0,
             "ticks": ""
            },
            "colorscale": [
             [
              0.0,
              "#0d0887"
             ],
             [
              0.1111111111111111,
              "#46039f"
             ],
             [
              0.2222222222222222,
              "#7201a8"
             ],
             [
              0.3333333333333333,
              "#9c179e"
             ],
             [
              0.4444444444444444,
              "#bd3786"
             ],
             [
              0.5555555555555556,
              "#d8576b"
             ],
             [
              0.6666666666666666,
              "#ed7953"
             ],
             [
              0.7777777777777778,
              "#fb9f3a"
             ],
             [
              0.8888888888888888,
              "#fdca26"
             ],
             [
              1.0,
              "#f0f921"
             ]
            ]
           }
          ],
          "contourcarpet": [
           {
            "type": "contourcarpet",
            "colorbar": {
             "outlinewidth": 0,
             "ticks": ""
            }
           }
          ],
          "contour": [
           {
            "type": "contour",
            "colorbar": {
             "outlinewidth": 0,
             "ticks": ""
            },
            "colorscale": [
             [
              0.0,
              "#0d0887"
             ],
             [
              0.1111111111111111,
              "#46039f"
             ],
             [
              0.2222222222222222,
              "#7201a8"
             ],
             [
              0.3333333333333333,
              "#9c179e"
             ],
             [
              0.4444444444444444,
              "#bd3786"
             ],
             [
              0.5555555555555556,
              "#d8576b"
             ],
             [
              0.6666666666666666,
              "#ed7953"
             ],
             [
              0.7777777777777778,
              "#fb9f3a"
             ],
             [
              0.8888888888888888,
              "#fdca26"
             ],
             [
              1.0,
              "#f0f921"
             ]
            ]
           }
          ],
          "surface": [
           {
            "type": "surface",
            "colorbar": {
             "outlinewidth": 0,
             "ticks": ""
            },
            "colorscale": [
             [
              0.0,
              "#0d0887"
             ],
             [
              0.1111111111111111,
              "#46039f"
             ],
             [
              0.2222222222222222,
              "#7201a8"
             ],
             [
              0.3333333333333333,
              "#9c179e"
             ],
             [
              0.4444444444444444,
              "#bd3786"
             ],
             [
              0.5555555555555556,
              "#d8576b"
             ],
             [
              0.6666666666666666,
              "#ed7953"
             ],
             [
              0.7777777777777778,
              "#fb9f3a"
             ],
             [
              0.8888888888888888,
              "#fdca26"
             ],
             [
              1.0,
              "#f0f921"
             ]
            ]
           }
          ],
          "mesh3d": [
           {
            "type": "mesh3d",
            "colorbar": {
             "outlinewidth": 0,
             "ticks": ""
            }
           }
          ],
          "scatter": [
           {
            "marker": {
             "line": {
              "color": "#283442"
             }
            },
            "type": "scatter"
           }
          ],
          "parcoords": [
           {
            "type": "parcoords",
            "line": {
             "colorbar": {
              "outlinewidth": 0,
              "ticks": ""
             }
            }
           }
          ],
          "scatterpolargl": [
           {
            "type": "scatterpolargl",
            "marker": {
             "colorbar": {
              "outlinewidth": 0,
              "ticks": ""
             }
            }
           }
          ],
          "bar": [
           {
            "error_x": {
             "color": "#f2f5fa"
            },
            "error_y": {
             "color": "#f2f5fa"
            },
            "marker": {
             "line": {
              "color": "rgb(17,17,17)",
              "width": 0.5
             },
             "pattern": {
              "fillmode": "overlay",
              "size": 10,
              "solidity": 0.2
             }
            },
            "type": "bar"
           }
          ],
          "scattergeo": [
           {
            "type": "scattergeo",
            "marker": {
             "colorbar": {
              "outlinewidth": 0,
              "ticks": ""
             }
            }
           }
          ],
          "scatterpolar": [
           {
            "type": "scatterpolar",
            "marker": {
             "colorbar": {
              "outlinewidth": 0,
              "ticks": ""
             }
            }
           }
          ],
          "histogram": [
           {
            "marker": {
             "pattern": {
              "fillmode": "overlay",
              "size": 10,
              "solidity": 0.2
             }
            },
            "type": "histogram"
           }
          ],
          "scattergl": [
           {
            "marker": {
             "line": {
              "color": "#283442"
             }
            },
            "type": "scattergl"
           }
          ],
          "scatter3d": [
           {
            "type": "scatter3d",
            "line": {
             "colorbar": {
              "outlinewidth": 0,
              "ticks": ""
             }
            },
            "marker": {
             "colorbar": {
              "outlinewidth": 0,
              "ticks": ""
             }
            }
           }
          ],
          "scattermapbox": [
           {
            "type": "scattermapbox",
            "marker": {
             "colorbar": {
              "outlinewidth": 0,
              "ticks": ""
             }
            }
           }
          ],
          "scatterternary": [
           {
            "type": "scatterternary",
            "marker": {
             "colorbar": {
              "outlinewidth": 0,
              "ticks": ""
             }
            }
           }
          ],
          "scattercarpet": [
           {
            "type": "scattercarpet",
            "marker": {
             "colorbar": {
              "outlinewidth": 0,
              "ticks": ""
             }
            }
           }
          ],
          "carpet": [
           {
            "aaxis": {
             "endlinecolor": "#A2B1C6",
             "gridcolor": "#506784",
             "linecolor": "#506784",
             "minorgridcolor": "#506784",
             "startlinecolor": "#A2B1C6"
            },
            "baxis": {
             "endlinecolor": "#A2B1C6",
             "gridcolor": "#506784",
             "linecolor": "#506784",
             "minorgridcolor": "#506784",
             "startlinecolor": "#A2B1C6"
            },
            "type": "carpet"
           }
          ],
          "table": [
           {
            "cells": {
             "fill": {
              "color": "#506784"
             },
             "line": {
              "color": "rgb(17,17,17)"
             }
            },
            "header": {
             "fill": {
              "color": "#2a3f5f"
             },
             "line": {
              "color": "rgb(17,17,17)"
             }
            },
            "type": "table"
           }
          ],
          "barpolar": [
           {
            "marker": {
             "line": {
              "color": "rgb(17,17,17)",
              "width": 0.5
             },
             "pattern": {
              "fillmode": "overlay",
              "size": 10,
              "solidity": 0.2
             }
            },
            "type": "barpolar"
           }
          ],
          "pie": [
           {
            "automargin": true,
            "type": "pie"
           }
          ]
         },
         "layout": {
          "autotypenumbers": "strict",
          "colorway": [
           "#636efa",
           "#EF553B",
           "#00cc96",
           "#ab63fa",
           "#FFA15A",
           "#19d3f3",
           "#FF6692",
           "#B6E880",
           "#FF97FF",
           "#FECB52"
          ],
          "font": {
           "color": "#f2f5fa"
          },
          "hovermode": "closest",
          "hoverlabel": {
           "align": "left"
          },
          "paper_bgcolor": "rgb(17,17,17)",
          "plot_bgcolor": "rgb(17,17,17)",
          "polar": {
           "bgcolor": "rgb(17,17,17)",
           "angularaxis": {
            "gridcolor": "#506784",
            "linecolor": "#506784",
            "ticks": ""
           },
           "radialaxis": {
            "gridcolor": "#506784",
            "linecolor": "#506784",
            "ticks": ""
           }
          },
          "ternary": {
           "bgcolor": "rgb(17,17,17)",
           "aaxis": {
            "gridcolor": "#506784",
            "linecolor": "#506784",
            "ticks": ""
           },
           "baxis": {
            "gridcolor": "#506784",
            "linecolor": "#506784",
            "ticks": ""
           },
           "caxis": {
            "gridcolor": "#506784",
            "linecolor": "#506784",
            "ticks": ""
           }
          },
          "coloraxis": {
           "colorbar": {
            "outlinewidth": 0,
            "ticks": ""
           }
          },
          "colorscale": {
           "sequential": [
            [
             0.0,
             "#0d0887"
            ],
            [
             0.1111111111111111,
             "#46039f"
            ],
            [
             0.2222222222222222,
             "#7201a8"
            ],
            [
             0.3333333333333333,
             "#9c179e"
            ],
            [
             0.4444444444444444,
             "#bd3786"
            ],
            [
             0.5555555555555556,
             "#d8576b"
            ],
            [
             0.6666666666666666,
             "#ed7953"
            ],
            [
             0.7777777777777778,
             "#fb9f3a"
            ],
            [
             0.8888888888888888,
             "#fdca26"
            ],
            [
             1.0,
             "#f0f921"
            ]
           ],
           "sequentialminus": [
            [
             0.0,
             "#0d0887"
            ],
            [
             0.1111111111111111,
             "#46039f"
            ],
            [
             0.2222222222222222,
             "#7201a8"
            ],
            [
             0.3333333333333333,
             "#9c179e"
            ],
            [
             0.4444444444444444,
             "#bd3786"
            ],
            [
             0.5555555555555556,
             "#d8576b"
            ],
            [
             0.6666666666666666,
             "#ed7953"
            ],
            [
             0.7777777777777778,
             "#fb9f3a"
            ],
            [
             0.8888888888888888,
             "#fdca26"
            ],
            [
             1.0,
             "#f0f921"
            ]
           ],
           "diverging": [
            [
             0,
             "#8e0152"
            ],
            [
             0.1,
             "#c51b7d"
            ],
            [
             0.2,
             "#de77ae"
            ],
            [
             0.3,
             "#f1b6da"
            ],
            [
             0.4,
             "#fde0ef"
            ],
            [
             0.5,
             "#f7f7f7"
            ],
            [
             0.6,
             "#e6f5d0"
            ],
            [
             0.7,
             "#b8e186"
            ],
            [
             0.8,
             "#7fbc41"
            ],
            [
             0.9,
             "#4d9221"
            ],
            [
             1,
             "#276419"
            ]
           ]
          },
          "xaxis": {
           "gridcolor": "#283442",
           "linecolor": "#506784",
           "ticks": "",
           "title": {
            "standoff": 15
           },
           "zerolinecolor": "#283442",
           "automargin": true,
           "zerolinewidth": 2
          },
          "yaxis": {
           "gridcolor": "#283442",
           "linecolor": "#506784",
           "ticks": "",
           "title": {
            "standoff": 15
           },
           "zerolinecolor": "#283442",
           "automargin": true,
           "zerolinewidth": 2
          },
          "scene": {
           "xaxis": {
            "backgroundcolor": "rgb(17,17,17)",
            "gridcolor": "#506784",
            "linecolor": "#506784",
            "showbackground": true,
            "ticks": "",
            "zerolinecolor": "#C8D4E3",
            "gridwidth": 2
           },
           "yaxis": {
            "backgroundcolor": "rgb(17,17,17)",
            "gridcolor": "#506784",
            "linecolor": "#506784",
            "showbackground": true,
            "ticks": "",
            "zerolinecolor": "#C8D4E3",
            "gridwidth": 2
           },
           "zaxis": {
            "backgroundcolor": "rgb(17,17,17)",
            "gridcolor": "#506784",
            "linecolor": "#506784",
            "showbackground": true,
            "ticks": "",
            "zerolinecolor": "#C8D4E3",
            "gridwidth": 2
           }
          },
          "shapedefaults": {
           "line": {
            "color": "#f2f5fa"
           }
          },
          "annotationdefaults": {
           "arrowcolor": "#f2f5fa",
           "arrowhead": 0,
           "arrowwidth": 1
          },
          "geo": {
           "bgcolor": "rgb(17,17,17)",
           "landcolor": "rgb(17,17,17)",
           "subunitcolor": "#506784",
           "showland": true,
           "showlakes": true,
           "lakecolor": "rgb(17,17,17)"
          },
          "title": {
           "x": 0.05
          },
          "updatemenudefaults": {
           "bgcolor": "#506784",
           "borderwidth": 0
          },
          "sliderdefaults": {
           "bgcolor": "#C8D4E3",
           "borderwidth": 1,
           "bordercolor": "rgb(17,17,17)",
           "tickwidth": 0
          },
          "mapbox": {
           "style": "dark"
          }
         }
        },
        "polar": {
         "radialaxis": {
          "title": {
           "text": "Sales Volume",
           "font": {
            "size": 12
           }
          },
          "visible": true,
          "tickformat": "$,.0f",
          "gridcolor": "rgba(255, 255, 255, 0.2)"
         },
         "angularaxis": {
          "ticktext": [
           "Spring",
           "Summer",
           "Fall",
           "Winter"
          ],
          "tickvals": [
           90,
           0,
           270,
           180
          ],
          "direction": "clockwise",
          "gridcolor": "rgba(255, 255, 255, 0.2)"
         },
         "bgcolor": "rgba(0,0,0,0)"
        },
        "legend": {
         "x": 1.1,
         "y": 0.5,
         "bgcolor": "rgba(0,0,0,0)",
         "bordercolor": "rgba(255,255,255,0.3)",
         "borderwidth": 1
        },
        "title": {
         "text": "Seasonal Sales Analysis",
         "x": 0.5,
         "y": 0.95
        },
        "margin": {
         "l": 80,
         "r": 150,
         "t": 100,
         "b": 80
        },
        "showlegend": true,
        "updatemenus": [
         {
          "buttons": [
           {
            "args": [
             {
              "r": [
               [
                26220,
                27692,
                23078,
                27274
               ],
               [
                8665,
                9555,
                9393,
                8480
               ],
               [
                5259,
                4425,
                4278,
                4562
               ],
               [
                19874,
                17007,
                19028,
                18291
               ]
              ]
             },
             {
              "polar.radialaxis.title": "Sales Volume"
             }
            ],
            "label": "Sales Volume",
            "method": "update"
           },
           {
            "args": [
             {
              "r": [
               [
                61.405152224824356,
                60.99559471365639,
                56.56372549019608,
                60.879464285714285
               ],
               [
                63.713235294117645,
                58.61963190184049,
                58.70625,
                60.57142857142857
               ],
               [
                59.76136363636363,
                54.629629629629626,
                57.04,
                57.025
               ],
               [
                61.339506172839506,
                56.501661129568106,
                60.98717948717949,
                60.366336633663366
               ]
              ]
             },
             {
              "polar.radialaxis.title": "Average Purchase Amount"
             }
            ],
            "label": "Average Purchase",
            "method": "update"
           },
           {
            "args": [
             {
              "r": [
               [
                427,
                454,
                408,
                448
               ],
               [
                136,
                163,
                160,
                140
               ],
               [
                88,
                81,
                75,
                80
               ],
               [
                324,
                301,
                312,
                303
               ]
              ]
             },
             {
              "polar.radialaxis.title": "Number of Transactions"
             }
            ],
            "label": "Transaction Count",
            "method": "update"
           }
          ],
          "direction": "down",
          "showactive": true,
          "type": "buttons",
          "x": 0.1,
          "y": 1.1
         }
        ],
        "width": 900,
        "height": 700
       },
       "config": {
        "plotlyServerURL": "https://plot.ly"
       }
      },
      "text/html": "<div>                            <div id=\"2819cb73-1ddf-44d8-b8b8-d2356ade9ac9\" class=\"plotly-graph-div\" style=\"height:700px; width:900px;\"></div>            <script type=\"text/javascript\">                require([\"plotly\"], function(Plotly) {                    window.PLOTLYENV=window.PLOTLYENV || {};                                    if (document.getElementById(\"2819cb73-1ddf-44d8-b8b8-d2356ade9ac9\")) {                    Plotly.newPlot(                        \"2819cb73-1ddf-44d8-b8b8-d2356ade9ac9\",                        [{\"customdata\":[[26220.0,61.405152224824356,427.0],[27692.0,60.99559471365639,454.0],[23078.0,56.56372549019608,408.0],[27274.0,60.879464285714285,448.0]],\"hovertemplate\":\"\\u003cb\\u003e%{text}\\u003c\\u002fb\\u003e\\u003cbr\\u003eSeason: %{theta}\\u003cbr\\u003eTotal Sales: $%{customdata[0]:,.2f}\\u003cbr\\u003eAverage Purchase: $%{customdata[1]:,.2f}\\u003cbr\\u003eNumber of Sales: %{customdata[2]}\\u003cbr\\u003e\\u003cextra\\u003e\\u003c\\u002fextra\\u003e\",\"marker\":{\"line\":{\"color\":\"white\",\"width\":1},\"opacity\":0.8,\"size\":25},\"mode\":\"markers\",\"name\":\"Clothing\",\"r\":[26220,27692,23078,27274],\"text\":[\"Clothing - Fall\",\"Clothing - Spring\",\"Clothing - Summer\",\"Clothing - Winter\"],\"theta\":[270,90,0,180],\"type\":\"scatterpolar\"},{\"customdata\":[[8665.0,63.713235294117645,136.0],[9555.0,58.61963190184049,163.0],[9393.0,58.70625,160.0],[8480.0,60.57142857142857,140.0]],\"hovertemplate\":\"\\u003cb\\u003e%{text}\\u003c\\u002fb\\u003e\\u003cbr\\u003eSeason: %{theta}\\u003cbr\\u003eTotal Sales: $%{customdata[0]:,.2f}\\u003cbr\\u003eAverage Purchase: $%{customdata[1]:,.2f}\\u003cbr\\u003eNumber of Sales: %{customdata[2]}\\u003cbr\\u003e\\u003cextra\\u003e\\u003c\\u002fextra\\u003e\",\"marker\":{\"line\":{\"color\":\"white\",\"width\":1},\"opacity\":0.8,\"size\":25},\"mode\":\"markers\",\"name\":\"Footwear\",\"r\":[8665,9555,9393,8480],\"text\":[\"Footwear - Fall\",\"Footwear - Spring\",\"Footwear - Summer\",\"Footwear - Winter\"],\"theta\":[270,90,0,180],\"type\":\"scatterpolar\"},{\"customdata\":[[5259.0,59.76136363636363,88.0],[4425.0,54.629629629629626,81.0],[4278.0,57.04,75.0],[4562.0,57.025,80.0]],\"hovertemplate\":\"\\u003cb\\u003e%{text}\\u003c\\u002fb\\u003e\\u003cbr\\u003eSeason: %{theta}\\u003cbr\\u003eTotal Sales: $%{customdata[0]:,.2f}\\u003cbr\\u003eAverage Purchase: $%{customdata[1]:,.2f}\\u003cbr\\u003eNumber of Sales: %{customdata[2]}\\u003cbr\\u003e\\u003cextra\\u003e\\u003c\\u002fextra\\u003e\",\"marker\":{\"line\":{\"color\":\"white\",\"width\":1},\"opacity\":0.8,\"size\":25},\"mode\":\"markers\",\"name\":\"Outerwear\",\"r\":[5259,4425,4278,4562],\"text\":[\"Outerwear - Fall\",\"Outerwear - Spring\",\"Outerwear - Summer\",\"Outerwear - Winter\"],\"theta\":[270,90,0,180],\"type\":\"scatterpolar\"},{\"customdata\":[[19874.0,61.339506172839506,324.0],[17007.0,56.501661129568106,301.0],[19028.0,60.98717948717949,312.0],[18291.0,60.366336633663366,303.0]],\"hovertemplate\":\"\\u003cb\\u003e%{text}\\u003c\\u002fb\\u003e\\u003cbr\\u003eSeason: %{theta}\\u003cbr\\u003eTotal Sales: $%{customdata[0]:,.2f}\\u003cbr\\u003eAverage Purchase: $%{customdata[1]:,.2f}\\u003cbr\\u003eNumber of Sales: %{customdata[2]}\\u003cbr\\u003e\\u003cextra\\u003e\\u003c\\u002fextra\\u003e\",\"marker\":{\"line\":{\"color\":\"white\",\"width\":1},\"opacity\":0.8,\"size\":25},\"mode\":\"markers\",\"name\":\"Accessories\",\"r\":[19874,17007,19028,18291],\"text\":[\"Accessories - Fall\",\"Accessories - Spring\",\"Accessories - Summer\",\"Accessories - Winter\"],\"theta\":[270,90,0,180],\"type\":\"scatterpolar\"}],                        {\"template\":{\"data\":{\"histogram2dcontour\":[{\"type\":\"histogram2dcontour\",\"colorbar\":{\"outlinewidth\":0,\"ticks\":\"\"},\"colorscale\":[[0.0,\"#0d0887\"],[0.1111111111111111,\"#46039f\"],[0.2222222222222222,\"#7201a8\"],[0.3333333333333333,\"#9c179e\"],[0.4444444444444444,\"#bd3786\"],[0.5555555555555556,\"#d8576b\"],[0.6666666666666666,\"#ed7953\"],[0.7777777777777778,\"#fb9f3a\"],[0.8888888888888888,\"#fdca26\"],[1.0,\"#f0f921\"]]}],\"choropleth\":[{\"type\":\"choropleth\",\"colorbar\":{\"outlinewidth\":0,\"ticks\":\"\"}}],\"histogram2d\":[{\"type\":\"histogram2d\",\"colorbar\":{\"outlinewidth\":0,\"ticks\":\"\"},\"colorscale\":[[0.0,\"#0d0887\"],[0.1111111111111111,\"#46039f\"],[0.2222222222222222,\"#7201a8\"],[0.3333333333333333,\"#9c179e\"],[0.4444444444444444,\"#bd3786\"],[0.5555555555555556,\"#d8576b\"],[0.6666666666666666,\"#ed7953\"],[0.7777777777777778,\"#fb9f3a\"],[0.8888888888888888,\"#fdca26\"],[1.0,\"#f0f921\"]]}],\"heatmap\":[{\"type\":\"heatmap\",\"colorbar\":{\"outlinewidth\":0,\"ticks\":\"\"},\"colorscale\":[[0.0,\"#0d0887\"],[0.1111111111111111,\"#46039f\"],[0.2222222222222222,\"#7201a8\"],[0.3333333333333333,\"#9c179e\"],[0.4444444444444444,\"#bd3786\"],[0.5555555555555556,\"#d8576b\"],[0.6666666666666666,\"#ed7953\"],[0.7777777777777778,\"#fb9f3a\"],[0.8888888888888888,\"#fdca26\"],[1.0,\"#f0f921\"]]}],\"heatmapgl\":[{\"type\":\"heatmapgl\",\"colorbar\":{\"outlinewidth\":0,\"ticks\":\"\"},\"colorscale\":[[0.0,\"#0d0887\"],[0.1111111111111111,\"#46039f\"],[0.2222222222222222,\"#7201a8\"],[0.3333333333333333,\"#9c179e\"],[0.4444444444444444,\"#bd3786\"],[0.5555555555555556,\"#d8576b\"],[0.6666666666666666,\"#ed7953\"],[0.7777777777777778,\"#fb9f3a\"],[0.8888888888888888,\"#fdca26\"],[1.0,\"#f0f921\"]]}],\"contourcarpet\":[{\"type\":\"contourcarpet\",\"colorbar\":{\"outlinewidth\":0,\"ticks\":\"\"}}],\"contour\":[{\"type\":\"contour\",\"colorbar\":{\"outlinewidth\":0,\"ticks\":\"\"},\"colorscale\":[[0.0,\"#0d0887\"],[0.1111111111111111,\"#46039f\"],[0.2222222222222222,\"#7201a8\"],[0.3333333333333333,\"#9c179e\"],[0.4444444444444444,\"#bd3786\"],[0.5555555555555556,\"#d8576b\"],[0.6666666666666666,\"#ed7953\"],[0.7777777777777778,\"#fb9f3a\"],[0.8888888888888888,\"#fdca26\"],[1.0,\"#f0f921\"]]}],\"surface\":[{\"type\":\"surface\",\"colorbar\":{\"outlinewidth\":0,\"ticks\":\"\"},\"colorscale\":[[0.0,\"#0d0887\"],[0.1111111111111111,\"#46039f\"],[0.2222222222222222,\"#7201a8\"],[0.3333333333333333,\"#9c179e\"],[0.4444444444444444,\"#bd3786\"],[0.5555555555555556,\"#d8576b\"],[0.6666666666666666,\"#ed7953\"],[0.7777777777777778,\"#fb9f3a\"],[0.8888888888888888,\"#fdca26\"],[1.0,\"#f0f921\"]]}],\"mesh3d\":[{\"type\":\"mesh3d\",\"colorbar\":{\"outlinewidth\":0,\"ticks\":\"\"}}],\"scatter\":[{\"marker\":{\"line\":{\"color\":\"#283442\"}},\"type\":\"scatter\"}],\"parcoords\":[{\"type\":\"parcoords\",\"line\":{\"colorbar\":{\"outlinewidth\":0,\"ticks\":\"\"}}}],\"scatterpolargl\":[{\"type\":\"scatterpolargl\",\"marker\":{\"colorbar\":{\"outlinewidth\":0,\"ticks\":\"\"}}}],\"bar\":[{\"error_x\":{\"color\":\"#f2f5fa\"},\"error_y\":{\"color\":\"#f2f5fa\"},\"marker\":{\"line\":{\"color\":\"rgb(17,17,17)\",\"width\":0.5},\"pattern\":{\"fillmode\":\"overlay\",\"size\":10,\"solidity\":0.2}},\"type\":\"bar\"}],\"scattergeo\":[{\"type\":\"scattergeo\",\"marker\":{\"colorbar\":{\"outlinewidth\":0,\"ticks\":\"\"}}}],\"scatterpolar\":[{\"type\":\"scatterpolar\",\"marker\":{\"colorbar\":{\"outlinewidth\":0,\"ticks\":\"\"}}}],\"histogram\":[{\"marker\":{\"pattern\":{\"fillmode\":\"overlay\",\"size\":10,\"solidity\":0.2}},\"type\":\"histogram\"}],\"scattergl\":[{\"marker\":{\"line\":{\"color\":\"#283442\"}},\"type\":\"scattergl\"}],\"scatter3d\":[{\"type\":\"scatter3d\",\"line\":{\"colorbar\":{\"outlinewidth\":0,\"ticks\":\"\"}},\"marker\":{\"colorbar\":{\"outlinewidth\":0,\"ticks\":\"\"}}}],\"scattermapbox\":[{\"type\":\"scattermapbox\",\"marker\":{\"colorbar\":{\"outlinewidth\":0,\"ticks\":\"\"}}}],\"scatterternary\":[{\"type\":\"scatterternary\",\"marker\":{\"colorbar\":{\"outlinewidth\":0,\"ticks\":\"\"}}}],\"scattercarpet\":[{\"type\":\"scattercarpet\",\"marker\":{\"colorbar\":{\"outlinewidth\":0,\"ticks\":\"\"}}}],\"carpet\":[{\"aaxis\":{\"endlinecolor\":\"#A2B1C6\",\"gridcolor\":\"#506784\",\"linecolor\":\"#506784\",\"minorgridcolor\":\"#506784\",\"startlinecolor\":\"#A2B1C6\"},\"baxis\":{\"endlinecolor\":\"#A2B1C6\",\"gridcolor\":\"#506784\",\"linecolor\":\"#506784\",\"minorgridcolor\":\"#506784\",\"startlinecolor\":\"#A2B1C6\"},\"type\":\"carpet\"}],\"table\":[{\"cells\":{\"fill\":{\"color\":\"#506784\"},\"line\":{\"color\":\"rgb(17,17,17)\"}},\"header\":{\"fill\":{\"color\":\"#2a3f5f\"},\"line\":{\"color\":\"rgb(17,17,17)\"}},\"type\":\"table\"}],\"barpolar\":[{\"marker\":{\"line\":{\"color\":\"rgb(17,17,17)\",\"width\":0.5},\"pattern\":{\"fillmode\":\"overlay\",\"size\":10,\"solidity\":0.2}},\"type\":\"barpolar\"}],\"pie\":[{\"automargin\":true,\"type\":\"pie\"}]},\"layout\":{\"autotypenumbers\":\"strict\",\"colorway\":[\"#636efa\",\"#EF553B\",\"#00cc96\",\"#ab63fa\",\"#FFA15A\",\"#19d3f3\",\"#FF6692\",\"#B6E880\",\"#FF97FF\",\"#FECB52\"],\"font\":{\"color\":\"#f2f5fa\"},\"hovermode\":\"closest\",\"hoverlabel\":{\"align\":\"left\"},\"paper_bgcolor\":\"rgb(17,17,17)\",\"plot_bgcolor\":\"rgb(17,17,17)\",\"polar\":{\"bgcolor\":\"rgb(17,17,17)\",\"angularaxis\":{\"gridcolor\":\"#506784\",\"linecolor\":\"#506784\",\"ticks\":\"\"},\"radialaxis\":{\"gridcolor\":\"#506784\",\"linecolor\":\"#506784\",\"ticks\":\"\"}},\"ternary\":{\"bgcolor\":\"rgb(17,17,17)\",\"aaxis\":{\"gridcolor\":\"#506784\",\"linecolor\":\"#506784\",\"ticks\":\"\"},\"baxis\":{\"gridcolor\":\"#506784\",\"linecolor\":\"#506784\",\"ticks\":\"\"},\"caxis\":{\"gridcolor\":\"#506784\",\"linecolor\":\"#506784\",\"ticks\":\"\"}},\"coloraxis\":{\"colorbar\":{\"outlinewidth\":0,\"ticks\":\"\"}},\"colorscale\":{\"sequential\":[[0.0,\"#0d0887\"],[0.1111111111111111,\"#46039f\"],[0.2222222222222222,\"#7201a8\"],[0.3333333333333333,\"#9c179e\"],[0.4444444444444444,\"#bd3786\"],[0.5555555555555556,\"#d8576b\"],[0.6666666666666666,\"#ed7953\"],[0.7777777777777778,\"#fb9f3a\"],[0.8888888888888888,\"#fdca26\"],[1.0,\"#f0f921\"]],\"sequentialminus\":[[0.0,\"#0d0887\"],[0.1111111111111111,\"#46039f\"],[0.2222222222222222,\"#7201a8\"],[0.3333333333333333,\"#9c179e\"],[0.4444444444444444,\"#bd3786\"],[0.5555555555555556,\"#d8576b\"],[0.6666666666666666,\"#ed7953\"],[0.7777777777777778,\"#fb9f3a\"],[0.8888888888888888,\"#fdca26\"],[1.0,\"#f0f921\"]],\"diverging\":[[0,\"#8e0152\"],[0.1,\"#c51b7d\"],[0.2,\"#de77ae\"],[0.3,\"#f1b6da\"],[0.4,\"#fde0ef\"],[0.5,\"#f7f7f7\"],[0.6,\"#e6f5d0\"],[0.7,\"#b8e186\"],[0.8,\"#7fbc41\"],[0.9,\"#4d9221\"],[1,\"#276419\"]]},\"xaxis\":{\"gridcolor\":\"#283442\",\"linecolor\":\"#506784\",\"ticks\":\"\",\"title\":{\"standoff\":15},\"zerolinecolor\":\"#283442\",\"automargin\":true,\"zerolinewidth\":2},\"yaxis\":{\"gridcolor\":\"#283442\",\"linecolor\":\"#506784\",\"ticks\":\"\",\"title\":{\"standoff\":15},\"zerolinecolor\":\"#283442\",\"automargin\":true,\"zerolinewidth\":2},\"scene\":{\"xaxis\":{\"backgroundcolor\":\"rgb(17,17,17)\",\"gridcolor\":\"#506784\",\"linecolor\":\"#506784\",\"showbackground\":true,\"ticks\":\"\",\"zerolinecolor\":\"#C8D4E3\",\"gridwidth\":2},\"yaxis\":{\"backgroundcolor\":\"rgb(17,17,17)\",\"gridcolor\":\"#506784\",\"linecolor\":\"#506784\",\"showbackground\":true,\"ticks\":\"\",\"zerolinecolor\":\"#C8D4E3\",\"gridwidth\":2},\"zaxis\":{\"backgroundcolor\":\"rgb(17,17,17)\",\"gridcolor\":\"#506784\",\"linecolor\":\"#506784\",\"showbackground\":true,\"ticks\":\"\",\"zerolinecolor\":\"#C8D4E3\",\"gridwidth\":2}},\"shapedefaults\":{\"line\":{\"color\":\"#f2f5fa\"}},\"annotationdefaults\":{\"arrowcolor\":\"#f2f5fa\",\"arrowhead\":0,\"arrowwidth\":1},\"geo\":{\"bgcolor\":\"rgb(17,17,17)\",\"landcolor\":\"rgb(17,17,17)\",\"subunitcolor\":\"#506784\",\"showland\":true,\"showlakes\":true,\"lakecolor\":\"rgb(17,17,17)\"},\"title\":{\"x\":0.05},\"updatemenudefaults\":{\"bgcolor\":\"#506784\",\"borderwidth\":0},\"sliderdefaults\":{\"bgcolor\":\"#C8D4E3\",\"borderwidth\":1,\"bordercolor\":\"rgb(17,17,17)\",\"tickwidth\":0},\"mapbox\":{\"style\":\"dark\"}}},\"polar\":{\"radialaxis\":{\"title\":{\"text\":\"Sales Volume\",\"font\":{\"size\":12}},\"visible\":true,\"tickformat\":\"$,.0f\",\"gridcolor\":\"rgba(255, 255, 255, 0.2)\"},\"angularaxis\":{\"ticktext\":[\"Spring\",\"Summer\",\"Fall\",\"Winter\"],\"tickvals\":[90,0,270,180],\"direction\":\"clockwise\",\"gridcolor\":\"rgba(255, 255, 255, 0.2)\"},\"bgcolor\":\"rgba(0,0,0,0)\"},\"legend\":{\"x\":1.1,\"y\":0.5,\"bgcolor\":\"rgba(0,0,0,0)\",\"bordercolor\":\"rgba(255,255,255,0.3)\",\"borderwidth\":1},\"title\":{\"text\":\"Seasonal Sales Analysis\",\"x\":0.5,\"y\":0.95},\"margin\":{\"l\":80,\"r\":150,\"t\":100,\"b\":80},\"showlegend\":true,\"updatemenus\":[{\"buttons\":[{\"args\":[{\"r\":[[26220,27692,23078,27274],[8665,9555,9393,8480],[5259,4425,4278,4562],[19874,17007,19028,18291]]},{\"polar.radialaxis.title\":\"Sales Volume\"}],\"label\":\"Sales Volume\",\"method\":\"update\"},{\"args\":[{\"r\":[[61.405152224824356,60.99559471365639,56.56372549019608,60.879464285714285],[63.713235294117645,58.61963190184049,58.70625,60.57142857142857],[59.76136363636363,54.629629629629626,57.04,57.025],[61.339506172839506,56.501661129568106,60.98717948717949,60.366336633663366]]},{\"polar.radialaxis.title\":\"Average Purchase Amount\"}],\"label\":\"Average Purchase\",\"method\":\"update\"},{\"args\":[{\"r\":[[427,454,408,448],[136,163,160,140],[88,81,75,80],[324,301,312,303]]},{\"polar.radialaxis.title\":\"Number of Transactions\"}],\"label\":\"Transaction Count\",\"method\":\"update\"}],\"direction\":\"down\",\"showactive\":true,\"type\":\"buttons\",\"x\":0.1,\"y\":1.1}],\"width\":900,\"height\":700},                        {\"responsive\": true}                    ).then(function(){\n                            \nvar gd = document.getElementById('2819cb73-1ddf-44d8-b8b8-d2356ade9ac9');\nvar x = new MutationObserver(function (mutations, observer) {{\n        var display = window.getComputedStyle(gd).display;\n        if (!display || display === 'none') {{\n            console.log([gd, 'removed!']);\n            Plotly.purge(gd);\n            observer.disconnect();\n        }}\n}});\n\n// Listen for the removal of the full notebook cells\nvar notebookContainer = gd.closest('#notebook-container');\nif (notebookContainer) {{\n    x.observe(notebookContainer, {childList: true});\n}}\n\n// Listen for the clearing of the current output cell\nvar outputEl = gd.closest('.output');\nif (outputEl) {{\n    x.observe(outputEl, {childList: true});\n}}\n\n                        })                };                });            </script>        </div>"
     },
     "metadata": {},
     "output_type": "display_data"
    }
   ],
   "source": [
    "\n",
    "fig.show()"
   ],
   "metadata": {
    "collapsed": false,
    "ExecuteTime": {
     "end_time": "2024-12-04T05:44:09.819495Z",
     "start_time": "2024-12-04T05:44:09.750617Z"
    }
   },
   "id": "1f88f7e17f098123",
   "execution_count": 50
  }
 ],
 "metadata": {
  "kernelspec": {
   "display_name": "Python 3",
   "language": "python",
   "name": "python3"
  },
  "language_info": {
   "codemirror_mode": {
    "name": "ipython",
    "version": 2
   },
   "file_extension": ".py",
   "mimetype": "text/x-python",
   "name": "python",
   "nbconvert_exporter": "python",
   "pygments_lexer": "ipython2",
   "version": "2.7.6"
  }
 },
 "nbformat": 4,
 "nbformat_minor": 5
}
